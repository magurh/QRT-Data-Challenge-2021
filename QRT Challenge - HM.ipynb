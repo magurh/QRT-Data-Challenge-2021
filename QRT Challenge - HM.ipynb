{
 "cells": [
  {
   "cell_type": "code",
   "execution_count": 64,
   "id": "790a5794-deb6-4092-a2ca-589aa28b1980",
   "metadata": {
    "tags": []
   },
   "outputs": [],
   "source": [
    "import numpy as np\n",
    "import pandas as pd\n",
    "from tqdm import tqdm\n",
    "import matplotlib.pyplot as plt\n",
    "import seaborn as sns\n",
    "import pingouin as pg\n",
    "%matplotlib inline\n",
    "\n",
    "sns.set()\n",
    "\n",
    "from sklearn.covariance import oas\n",
    "import scipy.optimize as sci_opt\n",
    "\n",
    "from sklearn.model_selection import train_test_split\n",
    "from sklearn.linear_model import LinearRegression\n",
    "from sklearn.linear_model import ElasticNet\n",
    "from xgboost import XGBRegressor\n",
    "\n",
    "import warnings\n",
    "warnings.filterwarnings(\"ignore\")\n",
    "\n",
    "from sklearn.model_selection import GridSearchCV"
   ]
  },
  {
   "cell_type": "markdown",
   "id": "c951d910-21be-4d2d-8ea1-12488f2d90ee",
   "metadata": {
    "tags": []
   },
   "source": [
    "# Accuracy and Data\n",
    "\n",
    "- Define weighted_accuracy function\n",
    "- Import data and reshape\n",
    "- Exploratory data analysis"
   ]
  },
  {
   "cell_type": "markdown",
   "id": "c1d23521-8147-43af-a9bf-cb471ebba1d4",
   "metadata": {
    "jp-MarkdownHeadingCollapsed": true,
    "tags": []
   },
   "source": [
    "### Weighted Accuracy function"
   ]
  },
  {
   "cell_type": "code",
   "execution_count": 3,
   "id": "d67ede3d-2f39-4830-a208-809833e098d1",
   "metadata": {
    "tags": []
   },
   "outputs": [],
   "source": [
    "def weighted_accuracy(y_test, y_pred):\n",
    "    y_abs = np.abs(y_test)\n",
    "    norm = y_abs.sum()\n",
    "    score = ((np.sign(y_pred) == np.sign(y_test)) * y_abs).sum() / norm\n",
    "    return score"
   ]
  },
  {
   "cell_type": "markdown",
   "id": "a80d7161-6228-4293-bfa7-c636dc7afeaf",
   "metadata": {
    "jp-MarkdownHeadingCollapsed": true,
    "tags": []
   },
   "source": [
    "### Loading Data"
   ]
  },
  {
   "cell_type": "code",
   "execution_count": 4,
   "id": "6adbf38f-9142-4658-a27e-60e77a0ae2f2",
   "metadata": {
    "tags": []
   },
   "outputs": [
    {
     "data": {
      "text/html": [
       "<div>\n",
       "<style scoped>\n",
       "    .dataframe tbody tr th:only-of-type {\n",
       "        vertical-align: middle;\n",
       "    }\n",
       "\n",
       "    .dataframe tbody tr th {\n",
       "        vertical-align: top;\n",
       "    }\n",
       "\n",
       "    .dataframe thead th {\n",
       "        text-align: right;\n",
       "    }\n",
       "</style>\n",
       "<table border=\"1\" class=\"dataframe\">\n",
       "  <thead>\n",
       "    <tr style=\"text-align: right;\">\n",
       "      <th></th>\n",
       "      <th>ID</th>\n",
       "      <th>ID_DAY</th>\n",
       "      <th>RET_216</th>\n",
       "      <th>RET_238</th>\n",
       "      <th>RET_45</th>\n",
       "      <th>RET_295</th>\n",
       "      <th>RET_230</th>\n",
       "      <th>RET_120</th>\n",
       "      <th>RET_188</th>\n",
       "      <th>RET_260</th>\n",
       "      <th>...</th>\n",
       "      <th>RET_122</th>\n",
       "      <th>RET_194</th>\n",
       "      <th>RET_72</th>\n",
       "      <th>RET_293</th>\n",
       "      <th>RET_281</th>\n",
       "      <th>RET_193</th>\n",
       "      <th>RET_95</th>\n",
       "      <th>RET_162</th>\n",
       "      <th>RET_297</th>\n",
       "      <th>ID_TARGET</th>\n",
       "    </tr>\n",
       "  </thead>\n",
       "  <tbody>\n",
       "    <tr>\n",
       "      <th>0</th>\n",
       "      <td>0</td>\n",
       "      <td>3316</td>\n",
       "      <td>0.004024</td>\n",
       "      <td>0.009237</td>\n",
       "      <td>0.004967</td>\n",
       "      <td>NaN</td>\n",
       "      <td>0.01704</td>\n",
       "      <td>0.013885</td>\n",
       "      <td>0.041885</td>\n",
       "      <td>0.015207</td>\n",
       "      <td>...</td>\n",
       "      <td>0.007596</td>\n",
       "      <td>0.01501</td>\n",
       "      <td>0.014733</td>\n",
       "      <td>-0.000476</td>\n",
       "      <td>0.006539</td>\n",
       "      <td>-0.010233</td>\n",
       "      <td>0.001251</td>\n",
       "      <td>-0.003102</td>\n",
       "      <td>-0.094847</td>\n",
       "      <td>139</td>\n",
       "    </tr>\n",
       "    <tr>\n",
       "      <th>1</th>\n",
       "      <td>1</td>\n",
       "      <td>3316</td>\n",
       "      <td>0.004024</td>\n",
       "      <td>0.009237</td>\n",
       "      <td>0.004967</td>\n",
       "      <td>NaN</td>\n",
       "      <td>0.01704</td>\n",
       "      <td>0.013885</td>\n",
       "      <td>0.041885</td>\n",
       "      <td>0.015207</td>\n",
       "      <td>...</td>\n",
       "      <td>0.007596</td>\n",
       "      <td>0.01501</td>\n",
       "      <td>0.014733</td>\n",
       "      <td>-0.000476</td>\n",
       "      <td>0.006539</td>\n",
       "      <td>-0.010233</td>\n",
       "      <td>0.001251</td>\n",
       "      <td>-0.003102</td>\n",
       "      <td>-0.094847</td>\n",
       "      <td>129</td>\n",
       "    </tr>\n",
       "    <tr>\n",
       "      <th>2</th>\n",
       "      <td>2</td>\n",
       "      <td>3316</td>\n",
       "      <td>0.004024</td>\n",
       "      <td>0.009237</td>\n",
       "      <td>0.004967</td>\n",
       "      <td>NaN</td>\n",
       "      <td>0.01704</td>\n",
       "      <td>0.013885</td>\n",
       "      <td>0.041885</td>\n",
       "      <td>0.015207</td>\n",
       "      <td>...</td>\n",
       "      <td>0.007596</td>\n",
       "      <td>0.01501</td>\n",
       "      <td>0.014733</td>\n",
       "      <td>-0.000476</td>\n",
       "      <td>0.006539</td>\n",
       "      <td>-0.010233</td>\n",
       "      <td>0.001251</td>\n",
       "      <td>-0.003102</td>\n",
       "      <td>-0.094847</td>\n",
       "      <td>136</td>\n",
       "    </tr>\n",
       "    <tr>\n",
       "      <th>3</th>\n",
       "      <td>3</td>\n",
       "      <td>3316</td>\n",
       "      <td>0.004024</td>\n",
       "      <td>0.009237</td>\n",
       "      <td>0.004967</td>\n",
       "      <td>NaN</td>\n",
       "      <td>0.01704</td>\n",
       "      <td>0.013885</td>\n",
       "      <td>0.041885</td>\n",
       "      <td>0.015207</td>\n",
       "      <td>...</td>\n",
       "      <td>0.007596</td>\n",
       "      <td>0.01501</td>\n",
       "      <td>0.014733</td>\n",
       "      <td>-0.000476</td>\n",
       "      <td>0.006539</td>\n",
       "      <td>-0.010233</td>\n",
       "      <td>0.001251</td>\n",
       "      <td>-0.003102</td>\n",
       "      <td>-0.094847</td>\n",
       "      <td>161</td>\n",
       "    </tr>\n",
       "    <tr>\n",
       "      <th>4</th>\n",
       "      <td>4</td>\n",
       "      <td>3316</td>\n",
       "      <td>0.004024</td>\n",
       "      <td>0.009237</td>\n",
       "      <td>0.004967</td>\n",
       "      <td>NaN</td>\n",
       "      <td>0.01704</td>\n",
       "      <td>0.013885</td>\n",
       "      <td>0.041885</td>\n",
       "      <td>0.015207</td>\n",
       "      <td>...</td>\n",
       "      <td>0.007596</td>\n",
       "      <td>0.01501</td>\n",
       "      <td>0.014733</td>\n",
       "      <td>-0.000476</td>\n",
       "      <td>0.006539</td>\n",
       "      <td>-0.010233</td>\n",
       "      <td>0.001251</td>\n",
       "      <td>-0.003102</td>\n",
       "      <td>-0.094847</td>\n",
       "      <td>217</td>\n",
       "    </tr>\n",
       "  </tbody>\n",
       "</table>\n",
       "<p>5 rows × 103 columns</p>\n",
       "</div>"
      ],
      "text/plain": [
       "   ID  ID_DAY   RET_216   RET_238    RET_45  RET_295  RET_230   RET_120   \n",
       "0   0    3316  0.004024  0.009237  0.004967      NaN  0.01704  0.013885  \\\n",
       "1   1    3316  0.004024  0.009237  0.004967      NaN  0.01704  0.013885   \n",
       "2   2    3316  0.004024  0.009237  0.004967      NaN  0.01704  0.013885   \n",
       "3   3    3316  0.004024  0.009237  0.004967      NaN  0.01704  0.013885   \n",
       "4   4    3316  0.004024  0.009237  0.004967      NaN  0.01704  0.013885   \n",
       "\n",
       "    RET_188   RET_260  ...   RET_122  RET_194    RET_72   RET_293   RET_281   \n",
       "0  0.041885  0.015207  ...  0.007596  0.01501  0.014733 -0.000476  0.006539  \\\n",
       "1  0.041885  0.015207  ...  0.007596  0.01501  0.014733 -0.000476  0.006539   \n",
       "2  0.041885  0.015207  ...  0.007596  0.01501  0.014733 -0.000476  0.006539   \n",
       "3  0.041885  0.015207  ...  0.007596  0.01501  0.014733 -0.000476  0.006539   \n",
       "4  0.041885  0.015207  ...  0.007596  0.01501  0.014733 -0.000476  0.006539   \n",
       "\n",
       "    RET_193    RET_95   RET_162   RET_297  ID_TARGET  \n",
       "0 -0.010233  0.001251 -0.003102 -0.094847        139  \n",
       "1 -0.010233  0.001251 -0.003102 -0.094847        129  \n",
       "2 -0.010233  0.001251 -0.003102 -0.094847        136  \n",
       "3 -0.010233  0.001251 -0.003102 -0.094847        161  \n",
       "4 -0.010233  0.001251 -0.003102 -0.094847        217  \n",
       "\n",
       "[5 rows x 103 columns]"
      ]
     },
     "execution_count": 4,
     "metadata": {},
     "output_type": "execute_result"
    }
   ],
   "source": [
    "X_train = pd.read_csv('X_train_itDkypA.csv')\n",
    "Y_train = pd.read_csv('y_train_3LeeT2g.csv', index_col=0)\n",
    "X_test = pd.read_csv('X_test_Beg4ey3.csv')\n",
    "X_train.head()"
   ]
  },
  {
   "cell_type": "code",
   "execution_count": 5,
   "id": "3b749b9a-cee9-4d1a-ba68-ab804b1cd94a",
   "metadata": {
    "tags": []
   },
   "outputs": [
    {
     "data": {
      "text/html": [
       "<div>\n",
       "<style scoped>\n",
       "    .dataframe tbody tr th:only-of-type {\n",
       "        vertical-align: middle;\n",
       "    }\n",
       "\n",
       "    .dataframe tbody tr th {\n",
       "        vertical-align: top;\n",
       "    }\n",
       "\n",
       "    .dataframe thead th {\n",
       "        text-align: right;\n",
       "    }\n",
       "</style>\n",
       "<table border=\"1\" class=\"dataframe\">\n",
       "  <thead>\n",
       "    <tr style=\"text-align: right;\">\n",
       "      <th></th>\n",
       "      <th>ID_asset</th>\n",
       "      <th>CLASS_LEVEL_1</th>\n",
       "      <th>CLASS_LEVEL_2</th>\n",
       "      <th>CLASS_LEVEL_3</th>\n",
       "      <th>CLASS_LEVEL_4</th>\n",
       "    </tr>\n",
       "  </thead>\n",
       "  <tbody>\n",
       "    <tr>\n",
       "      <th>0</th>\n",
       "      <td>216</td>\n",
       "      <td>2</td>\n",
       "      <td>2</td>\n",
       "      <td>12</td>\n",
       "      <td>20</td>\n",
       "    </tr>\n",
       "    <tr>\n",
       "      <th>1</th>\n",
       "      <td>238</td>\n",
       "      <td>2</td>\n",
       "      <td>2</td>\n",
       "      <td>12</td>\n",
       "      <td>21</td>\n",
       "    </tr>\n",
       "    <tr>\n",
       "      <th>2</th>\n",
       "      <td>45</td>\n",
       "      <td>3</td>\n",
       "      <td>5</td>\n",
       "      <td>20</td>\n",
       "      <td>32</td>\n",
       "    </tr>\n",
       "    <tr>\n",
       "      <th>3</th>\n",
       "      <td>295</td>\n",
       "      <td>10</td>\n",
       "      <td>22</td>\n",
       "      <td>49</td>\n",
       "      <td>77</td>\n",
       "    </tr>\n",
       "    <tr>\n",
       "      <th>4</th>\n",
       "      <td>230</td>\n",
       "      <td>4</td>\n",
       "      <td>10</td>\n",
       "      <td>28</td>\n",
       "      <td>47</td>\n",
       "    </tr>\n",
       "  </tbody>\n",
       "</table>\n",
       "</div>"
      ],
      "text/plain": [
       "   ID_asset  CLASS_LEVEL_1  CLASS_LEVEL_2  CLASS_LEVEL_3  CLASS_LEVEL_4\n",
       "0       216              2              2             12             20\n",
       "1       238              2              2             12             21\n",
       "2        45              3              5             20             32\n",
       "3       295             10             22             49             77\n",
       "4       230              4             10             28             47"
      ]
     },
     "execution_count": 5,
     "metadata": {},
     "output_type": "execute_result"
    }
   ],
   "source": [
    "Extra_data = pd.read_csv('supplementary_data_Vkoyn8z.csv')\n",
    "Extra_data.head()"
   ]
  },
  {
   "cell_type": "markdown",
   "id": "e1212bd7-9aee-4e22-b11f-8fa4729637e4",
   "metadata": {
    "tags": []
   },
   "source": [
    "- Reshaping Data: We transform the data so that each line corresponds to a specific day"
   ]
  },
  {
   "cell_type": "code",
   "execution_count": 6,
   "id": "12858b84-284b-4ad5-bd8d-c982a01cc2f1",
   "metadata": {
    "tags": []
   },
   "outputs": [
    {
     "name": "stderr",
     "output_type": "stream",
     "text": [
      "100%|█████████████████████████████████████████████████████████████████████████████| 2748/2748 [00:13<00:00, 209.11it/s]\n"
     ]
    },
    {
     "data": {
      "text/html": [
       "<div>\n",
       "<style scoped>\n",
       "    .dataframe tbody tr th:only-of-type {\n",
       "        vertical-align: middle;\n",
       "    }\n",
       "\n",
       "    .dataframe tbody tr th {\n",
       "        vertical-align: top;\n",
       "    }\n",
       "\n",
       "    .dataframe thead th {\n",
       "        text-align: right;\n",
       "    }\n",
       "</style>\n",
       "<table border=\"1\" class=\"dataframe\">\n",
       "  <thead>\n",
       "    <tr style=\"text-align: right;\">\n",
       "      <th></th>\n",
       "      <th>RET_0</th>\n",
       "      <th>RET_1</th>\n",
       "      <th>RET_102</th>\n",
       "      <th>RET_105</th>\n",
       "      <th>RET_106</th>\n",
       "      <th>RET_108</th>\n",
       "      <th>RET_109</th>\n",
       "      <th>RET_110</th>\n",
       "      <th>RET_114</th>\n",
       "      <th>RET_115</th>\n",
       "      <th>...</th>\n",
       "      <th>RET_88</th>\n",
       "      <th>RET_9</th>\n",
       "      <th>RET_90</th>\n",
       "      <th>RET_91</th>\n",
       "      <th>RET_93</th>\n",
       "      <th>RET_95</th>\n",
       "      <th>RET_96</th>\n",
       "      <th>RET_97</th>\n",
       "      <th>RET_98</th>\n",
       "      <th>RET_99</th>\n",
       "    </tr>\n",
       "  </thead>\n",
       "  <tbody>\n",
       "    <tr>\n",
       "      <th>3316</th>\n",
       "      <td>-0.016501</td>\n",
       "      <td>0.018693</td>\n",
       "      <td>0.005316</td>\n",
       "      <td>NaN</td>\n",
       "      <td>0.001352</td>\n",
       "      <td>0.027374</td>\n",
       "      <td>-0.010890</td>\n",
       "      <td>0.057911</td>\n",
       "      <td>0.014155</td>\n",
       "      <td>0.021104</td>\n",
       "      <td>...</td>\n",
       "      <td>0.027113</td>\n",
       "      <td>0.008602</td>\n",
       "      <td>0.018250</td>\n",
       "      <td>0.038581</td>\n",
       "      <td>0.027588</td>\n",
       "      <td>0.001251</td>\n",
       "      <td>0.037917</td>\n",
       "      <td>-0.002689</td>\n",
       "      <td>0.002140</td>\n",
       "      <td>0.023026</td>\n",
       "    </tr>\n",
       "    <tr>\n",
       "      <th>3355</th>\n",
       "      <td>0.000674</td>\n",
       "      <td>0.005759</td>\n",
       "      <td>0.007938</td>\n",
       "      <td>NaN</td>\n",
       "      <td>-0.005017</td>\n",
       "      <td>-0.007413</td>\n",
       "      <td>-0.005980</td>\n",
       "      <td>0.011900</td>\n",
       "      <td>-0.011755</td>\n",
       "      <td>0.032401</td>\n",
       "      <td>...</td>\n",
       "      <td>0.017933</td>\n",
       "      <td>0.001658</td>\n",
       "      <td>0.061274</td>\n",
       "      <td>-0.018643</td>\n",
       "      <td>0.000372</td>\n",
       "      <td>-0.010232</td>\n",
       "      <td>-0.013496</td>\n",
       "      <td>0.013819</td>\n",
       "      <td>-0.036501</td>\n",
       "      <td>0.017736</td>\n",
       "    </tr>\n",
       "    <tr>\n",
       "      <th>1662</th>\n",
       "      <td>-0.000919</td>\n",
       "      <td>0.010430</td>\n",
       "      <td>0.007901</td>\n",
       "      <td>NaN</td>\n",
       "      <td>0.006959</td>\n",
       "      <td>0.005593</td>\n",
       "      <td>-0.066666</td>\n",
       "      <td>0.049822</td>\n",
       "      <td>0.021599</td>\n",
       "      <td>0.019816</td>\n",
       "      <td>...</td>\n",
       "      <td>0.016645</td>\n",
       "      <td>-0.016289</td>\n",
       "      <td>0.027690</td>\n",
       "      <td>-0.026479</td>\n",
       "      <td>0.006664</td>\n",
       "      <td>0.023721</td>\n",
       "      <td>0.013057</td>\n",
       "      <td>-0.008237</td>\n",
       "      <td>0.014655</td>\n",
       "      <td>0.011614</td>\n",
       "    </tr>\n",
       "    <tr>\n",
       "      <th>3405</th>\n",
       "      <td>-0.004989</td>\n",
       "      <td>0.004558</td>\n",
       "      <td>0.004325</td>\n",
       "      <td>NaN</td>\n",
       "      <td>-0.007720</td>\n",
       "      <td>0.002788</td>\n",
       "      <td>-0.038432</td>\n",
       "      <td>-0.021308</td>\n",
       "      <td>0.000595</td>\n",
       "      <td>0.001613</td>\n",
       "      <td>...</td>\n",
       "      <td>-0.039065</td>\n",
       "      <td>0.021897</td>\n",
       "      <td>-0.031456</td>\n",
       "      <td>0.029652</td>\n",
       "      <td>0.016171</td>\n",
       "      <td>-0.024835</td>\n",
       "      <td>-0.020391</td>\n",
       "      <td>0.006790</td>\n",
       "      <td>0.015796</td>\n",
       "      <td>-0.015763</td>\n",
       "    </tr>\n",
       "    <tr>\n",
       "      <th>1602</th>\n",
       "      <td>0.002468</td>\n",
       "      <td>-0.024584</td>\n",
       "      <td>0.008947</td>\n",
       "      <td>NaN</td>\n",
       "      <td>-0.004735</td>\n",
       "      <td>-0.031061</td>\n",
       "      <td>0.012366</td>\n",
       "      <td>0.045117</td>\n",
       "      <td>-0.015403</td>\n",
       "      <td>-0.015327</td>\n",
       "      <td>...</td>\n",
       "      <td>-0.028080</td>\n",
       "      <td>0.016530</td>\n",
       "      <td>0.019826</td>\n",
       "      <td>0.014627</td>\n",
       "      <td>0.010884</td>\n",
       "      <td>-0.025205</td>\n",
       "      <td>0.006157</td>\n",
       "      <td>-0.006526</td>\n",
       "      <td>0.002125</td>\n",
       "      <td>0.036186</td>\n",
       "    </tr>\n",
       "  </tbody>\n",
       "</table>\n",
       "<p>5 rows × 200 columns</p>\n",
       "</div>"
      ],
      "text/plain": [
       "         RET_0     RET_1   RET_102  RET_105   RET_106   RET_108   RET_109   \n",
       "3316 -0.016501  0.018693  0.005316      NaN  0.001352  0.027374 -0.010890  \\\n",
       "3355  0.000674  0.005759  0.007938      NaN -0.005017 -0.007413 -0.005980   \n",
       "1662 -0.000919  0.010430  0.007901      NaN  0.006959  0.005593 -0.066666   \n",
       "3405 -0.004989  0.004558  0.004325      NaN -0.007720  0.002788 -0.038432   \n",
       "1602  0.002468 -0.024584  0.008947      NaN -0.004735 -0.031061  0.012366   \n",
       "\n",
       "       RET_110   RET_114   RET_115  ...    RET_88     RET_9    RET_90   \n",
       "3316  0.057911  0.014155  0.021104  ...  0.027113  0.008602  0.018250  \\\n",
       "3355  0.011900 -0.011755  0.032401  ...  0.017933  0.001658  0.061274   \n",
       "1662  0.049822  0.021599  0.019816  ...  0.016645 -0.016289  0.027690   \n",
       "3405 -0.021308  0.000595  0.001613  ... -0.039065  0.021897 -0.031456   \n",
       "1602  0.045117 -0.015403 -0.015327  ... -0.028080  0.016530  0.019826   \n",
       "\n",
       "        RET_91    RET_93    RET_95    RET_96    RET_97    RET_98    RET_99  \n",
       "3316  0.038581  0.027588  0.001251  0.037917 -0.002689  0.002140  0.023026  \n",
       "3355 -0.018643  0.000372 -0.010232 -0.013496  0.013819 -0.036501  0.017736  \n",
       "1662 -0.026479  0.006664  0.023721  0.013057 -0.008237  0.014655  0.011614  \n",
       "3405  0.029652  0.016171 -0.024835 -0.020391  0.006790  0.015796 -0.015763  \n",
       "1602  0.014627  0.010884 -0.025205  0.006157 -0.006526  0.002125  0.036186  \n",
       "\n",
       "[5 rows x 200 columns]"
      ]
     },
     "execution_count": 6,
     "metadata": {},
     "output_type": "execute_result"
    }
   ],
   "source": [
    "idx_ret_features = np.where(X_train.columns.str.contains('RET'))[0]\n",
    "init_ret_features = X_train.columns[idx_ret_features]\n",
    "target_ret_features = np.array(['RET_' + str(s) for s in X_train['ID_TARGET'].unique()]) \n",
    "\n",
    "returns = {}\n",
    "\n",
    "for day in tqdm(X_train.ID_DAY.unique()):\n",
    "    u = X_train.loc[X_train.ID_DAY == day] # dataframe with all 'day' entries\n",
    "    a = u.iloc[0, idx_ret_features] # select only idx_ret_features columns\n",
    "    b = Y_train[X_train.ID_DAY == day]['RET_TARGET'] # select corresponding Y_train features\n",
    "    b.index = np.array(['RET_' + str(s) for s in u.ID_TARGET.to_numpy()]) # 'RET_' + u.ID_TARGET\n",
    "    returns[day] = pd.concat([a, b])\n",
    "    \n",
    "returns = pd.DataFrame(returns).T.astype(float)\n",
    "returns.head()"
   ]
  },
  {
   "cell_type": "markdown",
   "id": "939bcf6e-d40f-453f-8c96-d80355dcda77",
   "metadata": {
    "jp-MarkdownHeadingCollapsed": true,
    "tags": []
   },
   "source": [
    "### Exploring Data"
   ]
  },
  {
   "cell_type": "code",
   "execution_count": 46,
   "id": "a90f6a62-de22-49fa-9cca-d9cdad07867b",
   "metadata": {
    "tags": []
   },
   "outputs": [
    {
     "data": {
      "text/plain": [
       "<Axes: ylabel='Count'>"
      ]
     },
     "execution_count": 46,
     "metadata": {},
     "output_type": "execute_result"
    },
    {
     "data": {
      "image/png": "[encoded data removed]",
      "text/plain": [
       "<Figure size 640x480 with 1 Axes>"
      ]
     },
     "metadata": {},
     "output_type": "display_data"
    }
   ],
   "source": [
    "sns.histplot(data = returns[init_ret_features].mean(), kde=True, bins = 20)"
   ]
  },
  {
   "cell_type": "code",
   "execution_count": 47,
   "id": "46995ee4-4b39-4efd-bcd6-f4b6893e30b9",
   "metadata": {
    "tags": []
   },
   "outputs": [
    {
     "data": {
      "text/plain": [
       "<Axes: ylabel='Count'>"
      ]
     },
     "execution_count": 47,
     "metadata": {},
     "output_type": "execute_result"
    },
    {
     "data": {
      "image/png": "[encoded data removed]",
      "text/plain": [
       "<Figure size 640x480 with 1 Axes>"
      ]
     },
     "metadata": {},
     "output_type": "display_data"
    }
   ],
   "source": [
    "sns.histplot(data = returns[target_ret_features].mean(), kde=True, bins = 20)"
   ]
  },
  {
   "cell_type": "markdown",
   "id": "1c2ea9b6-3c1e-491c-b3d7-065c4fcf7949",
   "metadata": {},
   "source": [
    "- The two histograms looks rather similar. So it makes sense that the illiquid assets could be used to predict the prices for the liquid assets."
   ]
  },
  {
   "cell_type": "code",
   "execution_count": 52,
   "id": "523e0f21-b6df-48e0-aa13-31bd3b69ec96",
   "metadata": {
    "tags": []
   },
   "outputs": [
    {
     "data": {
      "text/plain": [
       "RET_196    0.001445\n",
       "RET_75     0.001150\n",
       "RET_217    0.001141\n",
       "RET_1      0.001039\n",
       "RET_166    0.001033\n",
       "             ...   \n",
       "RET_52    -0.000120\n",
       "RET_68    -0.000142\n",
       "RET_98    -0.000239\n",
       "RET_178   -0.000339\n",
       "RET_90    -0.000446\n",
       "Length: 100, dtype: float64"
      ]
     },
     "execution_count": 52,
     "metadata": {},
     "output_type": "execute_result"
    }
   ],
   "source": [
    "returns[target_ret_features].mean().sort_values(ascending=False)"
   ]
  },
  {
   "cell_type": "markdown",
   "id": "feed37f3-62ac-4ddb-944f-d66b10deadbe",
   "metadata": {},
   "source": [
    "- Let us also check for possible outliers. These could happen, for instance, around the earnings report."
   ]
  },
  {
   "cell_type": "code",
   "execution_count": 57,
   "id": "b59578eb-7510-447a-ba35-a8067bdf3294",
   "metadata": {
    "tags": []
   },
   "outputs": [
    {
     "data": {
      "text/html": [
       "<div>\n",
       "<style scoped>\n",
       "    .dataframe tbody tr th:only-of-type {\n",
       "        vertical-align: middle;\n",
       "    }\n",
       "\n",
       "    .dataframe tbody tr th {\n",
       "        vertical-align: top;\n",
       "    }\n",
       "\n",
       "    .dataframe thead th {\n",
       "        text-align: right;\n",
       "    }\n",
       "</style>\n",
       "<table border=\"1\" class=\"dataframe\">\n",
       "  <thead>\n",
       "    <tr style=\"text-align: right;\">\n",
       "      <th></th>\n",
       "      <th>RET_0</th>\n",
       "      <th>RET_1</th>\n",
       "      <th>RET_102</th>\n",
       "      <th>RET_105</th>\n",
       "      <th>RET_106</th>\n",
       "      <th>RET_108</th>\n",
       "      <th>RET_109</th>\n",
       "      <th>RET_110</th>\n",
       "      <th>RET_114</th>\n",
       "      <th>RET_115</th>\n",
       "      <th>...</th>\n",
       "      <th>RET_88</th>\n",
       "      <th>RET_9</th>\n",
       "      <th>RET_90</th>\n",
       "      <th>RET_91</th>\n",
       "      <th>RET_93</th>\n",
       "      <th>RET_95</th>\n",
       "      <th>RET_96</th>\n",
       "      <th>RET_97</th>\n",
       "      <th>RET_98</th>\n",
       "      <th>RET_99</th>\n",
       "    </tr>\n",
       "  </thead>\n",
       "  <tbody>\n",
       "    <tr>\n",
       "      <th>3316</th>\n",
       "      <td>NaN</td>\n",
       "      <td>NaN</td>\n",
       "      <td>NaN</td>\n",
       "      <td>NaN</td>\n",
       "      <td>NaN</td>\n",
       "      <td>NaN</td>\n",
       "      <td>NaN</td>\n",
       "      <td>NaN</td>\n",
       "      <td>NaN</td>\n",
       "      <td>NaN</td>\n",
       "      <td>...</td>\n",
       "      <td>NaN</td>\n",
       "      <td>NaN</td>\n",
       "      <td>NaN</td>\n",
       "      <td>NaN</td>\n",
       "      <td>NaN</td>\n",
       "      <td>NaN</td>\n",
       "      <td>NaN</td>\n",
       "      <td>NaN</td>\n",
       "      <td>NaN</td>\n",
       "      <td>NaN</td>\n",
       "    </tr>\n",
       "    <tr>\n",
       "      <th>3355</th>\n",
       "      <td>NaN</td>\n",
       "      <td>NaN</td>\n",
       "      <td>NaN</td>\n",
       "      <td>NaN</td>\n",
       "      <td>NaN</td>\n",
       "      <td>NaN</td>\n",
       "      <td>NaN</td>\n",
       "      <td>NaN</td>\n",
       "      <td>NaN</td>\n",
       "      <td>NaN</td>\n",
       "      <td>...</td>\n",
       "      <td>NaN</td>\n",
       "      <td>NaN</td>\n",
       "      <td>0.061274</td>\n",
       "      <td>NaN</td>\n",
       "      <td>NaN</td>\n",
       "      <td>NaN</td>\n",
       "      <td>NaN</td>\n",
       "      <td>NaN</td>\n",
       "      <td>NaN</td>\n",
       "      <td>NaN</td>\n",
       "    </tr>\n",
       "    <tr>\n",
       "      <th>1662</th>\n",
       "      <td>NaN</td>\n",
       "      <td>NaN</td>\n",
       "      <td>NaN</td>\n",
       "      <td>NaN</td>\n",
       "      <td>NaN</td>\n",
       "      <td>NaN</td>\n",
       "      <td>NaN</td>\n",
       "      <td>NaN</td>\n",
       "      <td>NaN</td>\n",
       "      <td>NaN</td>\n",
       "      <td>...</td>\n",
       "      <td>NaN</td>\n",
       "      <td>NaN</td>\n",
       "      <td>NaN</td>\n",
       "      <td>NaN</td>\n",
       "      <td>NaN</td>\n",
       "      <td>NaN</td>\n",
       "      <td>NaN</td>\n",
       "      <td>NaN</td>\n",
       "      <td>NaN</td>\n",
       "      <td>NaN</td>\n",
       "    </tr>\n",
       "    <tr>\n",
       "      <th>3405</th>\n",
       "      <td>NaN</td>\n",
       "      <td>NaN</td>\n",
       "      <td>NaN</td>\n",
       "      <td>NaN</td>\n",
       "      <td>NaN</td>\n",
       "      <td>NaN</td>\n",
       "      <td>NaN</td>\n",
       "      <td>NaN</td>\n",
       "      <td>NaN</td>\n",
       "      <td>NaN</td>\n",
       "      <td>...</td>\n",
       "      <td>NaN</td>\n",
       "      <td>NaN</td>\n",
       "      <td>NaN</td>\n",
       "      <td>NaN</td>\n",
       "      <td>NaN</td>\n",
       "      <td>NaN</td>\n",
       "      <td>NaN</td>\n",
       "      <td>NaN</td>\n",
       "      <td>NaN</td>\n",
       "      <td>NaN</td>\n",
       "    </tr>\n",
       "    <tr>\n",
       "      <th>1602</th>\n",
       "      <td>NaN</td>\n",
       "      <td>NaN</td>\n",
       "      <td>NaN</td>\n",
       "      <td>NaN</td>\n",
       "      <td>NaN</td>\n",
       "      <td>NaN</td>\n",
       "      <td>NaN</td>\n",
       "      <td>NaN</td>\n",
       "      <td>NaN</td>\n",
       "      <td>NaN</td>\n",
       "      <td>...</td>\n",
       "      <td>NaN</td>\n",
       "      <td>NaN</td>\n",
       "      <td>NaN</td>\n",
       "      <td>NaN</td>\n",
       "      <td>NaN</td>\n",
       "      <td>NaN</td>\n",
       "      <td>NaN</td>\n",
       "      <td>NaN</td>\n",
       "      <td>NaN</td>\n",
       "      <td>NaN</td>\n",
       "    </tr>\n",
       "    <tr>\n",
       "      <th>...</th>\n",
       "      <td>...</td>\n",
       "      <td>...</td>\n",
       "      <td>...</td>\n",
       "      <td>...</td>\n",
       "      <td>...</td>\n",
       "      <td>...</td>\n",
       "      <td>...</td>\n",
       "      <td>...</td>\n",
       "      <td>...</td>\n",
       "      <td>...</td>\n",
       "      <td>...</td>\n",
       "      <td>...</td>\n",
       "      <td>...</td>\n",
       "      <td>...</td>\n",
       "      <td>...</td>\n",
       "      <td>...</td>\n",
       "      <td>...</td>\n",
       "      <td>...</td>\n",
       "      <td>...</td>\n",
       "      <td>...</td>\n",
       "      <td>...</td>\n",
       "    </tr>\n",
       "    <tr>\n",
       "      <th>3332</th>\n",
       "      <td>NaN</td>\n",
       "      <td>NaN</td>\n",
       "      <td>NaN</td>\n",
       "      <td>NaN</td>\n",
       "      <td>NaN</td>\n",
       "      <td>NaN</td>\n",
       "      <td>NaN</td>\n",
       "      <td>NaN</td>\n",
       "      <td>NaN</td>\n",
       "      <td>NaN</td>\n",
       "      <td>...</td>\n",
       "      <td>NaN</td>\n",
       "      <td>NaN</td>\n",
       "      <td>NaN</td>\n",
       "      <td>NaN</td>\n",
       "      <td>NaN</td>\n",
       "      <td>NaN</td>\n",
       "      <td>NaN</td>\n",
       "      <td>NaN</td>\n",
       "      <td>NaN</td>\n",
       "      <td>NaN</td>\n",
       "    </tr>\n",
       "    <tr>\n",
       "      <th>2314</th>\n",
       "      <td>NaN</td>\n",
       "      <td>NaN</td>\n",
       "      <td>NaN</td>\n",
       "      <td>NaN</td>\n",
       "      <td>NaN</td>\n",
       "      <td>NaN</td>\n",
       "      <td>NaN</td>\n",
       "      <td>NaN</td>\n",
       "      <td>NaN</td>\n",
       "      <td>NaN</td>\n",
       "      <td>...</td>\n",
       "      <td>NaN</td>\n",
       "      <td>NaN</td>\n",
       "      <td>NaN</td>\n",
       "      <td>NaN</td>\n",
       "      <td>NaN</td>\n",
       "      <td>NaN</td>\n",
       "      <td>NaN</td>\n",
       "      <td>NaN</td>\n",
       "      <td>NaN</td>\n",
       "      <td>NaN</td>\n",
       "    </tr>\n",
       "    <tr>\n",
       "      <th>1863</th>\n",
       "      <td>NaN</td>\n",
       "      <td>NaN</td>\n",
       "      <td>NaN</td>\n",
       "      <td>NaN</td>\n",
       "      <td>NaN</td>\n",
       "      <td>NaN</td>\n",
       "      <td>NaN</td>\n",
       "      <td>NaN</td>\n",
       "      <td>NaN</td>\n",
       "      <td>NaN</td>\n",
       "      <td>...</td>\n",
       "      <td>NaN</td>\n",
       "      <td>NaN</td>\n",
       "      <td>NaN</td>\n",
       "      <td>NaN</td>\n",
       "      <td>NaN</td>\n",
       "      <td>NaN</td>\n",
       "      <td>NaN</td>\n",
       "      <td>NaN</td>\n",
       "      <td>NaN</td>\n",
       "      <td>NaN</td>\n",
       "    </tr>\n",
       "    <tr>\n",
       "      <th>2868</th>\n",
       "      <td>NaN</td>\n",
       "      <td>NaN</td>\n",
       "      <td>NaN</td>\n",
       "      <td>NaN</td>\n",
       "      <td>NaN</td>\n",
       "      <td>NaN</td>\n",
       "      <td>NaN</td>\n",
       "      <td>NaN</td>\n",
       "      <td>NaN</td>\n",
       "      <td>NaN</td>\n",
       "      <td>...</td>\n",
       "      <td>NaN</td>\n",
       "      <td>NaN</td>\n",
       "      <td>NaN</td>\n",
       "      <td>NaN</td>\n",
       "      <td>NaN</td>\n",
       "      <td>NaN</td>\n",
       "      <td>NaN</td>\n",
       "      <td>NaN</td>\n",
       "      <td>NaN</td>\n",
       "      <td>NaN</td>\n",
       "    </tr>\n",
       "    <tr>\n",
       "      <th>3028</th>\n",
       "      <td>NaN</td>\n",
       "      <td>NaN</td>\n",
       "      <td>NaN</td>\n",
       "      <td>NaN</td>\n",
       "      <td>NaN</td>\n",
       "      <td>NaN</td>\n",
       "      <td>NaN</td>\n",
       "      <td>NaN</td>\n",
       "      <td>NaN</td>\n",
       "      <td>NaN</td>\n",
       "      <td>...</td>\n",
       "      <td>NaN</td>\n",
       "      <td>NaN</td>\n",
       "      <td>NaN</td>\n",
       "      <td>NaN</td>\n",
       "      <td>NaN</td>\n",
       "      <td>NaN</td>\n",
       "      <td>NaN</td>\n",
       "      <td>NaN</td>\n",
       "      <td>NaN</td>\n",
       "      <td>NaN</td>\n",
       "    </tr>\n",
       "  </tbody>\n",
       "</table>\n",
       "<p>2748 rows × 200 columns</p>\n",
       "</div>"
      ],
      "text/plain": [
       "      RET_0  RET_1  RET_102  RET_105  RET_106  RET_108  RET_109  RET_110   \n",
       "3316    NaN    NaN      NaN      NaN      NaN      NaN      NaN      NaN  \\\n",
       "3355    NaN    NaN      NaN      NaN      NaN      NaN      NaN      NaN   \n",
       "1662    NaN    NaN      NaN      NaN      NaN      NaN      NaN      NaN   \n",
       "3405    NaN    NaN      NaN      NaN      NaN      NaN      NaN      NaN   \n",
       "1602    NaN    NaN      NaN      NaN      NaN      NaN      NaN      NaN   \n",
       "...     ...    ...      ...      ...      ...      ...      ...      ...   \n",
       "3332    NaN    NaN      NaN      NaN      NaN      NaN      NaN      NaN   \n",
       "2314    NaN    NaN      NaN      NaN      NaN      NaN      NaN      NaN   \n",
       "1863    NaN    NaN      NaN      NaN      NaN      NaN      NaN      NaN   \n",
       "2868    NaN    NaN      NaN      NaN      NaN      NaN      NaN      NaN   \n",
       "3028    NaN    NaN      NaN      NaN      NaN      NaN      NaN      NaN   \n",
       "\n",
       "      RET_114  RET_115  ...  RET_88  RET_9    RET_90  RET_91  RET_93  RET_95   \n",
       "3316      NaN      NaN  ...     NaN    NaN       NaN     NaN     NaN     NaN  \\\n",
       "3355      NaN      NaN  ...     NaN    NaN  0.061274     NaN     NaN     NaN   \n",
       "1662      NaN      NaN  ...     NaN    NaN       NaN     NaN     NaN     NaN   \n",
       "3405      NaN      NaN  ...     NaN    NaN       NaN     NaN     NaN     NaN   \n",
       "1602      NaN      NaN  ...     NaN    NaN       NaN     NaN     NaN     NaN   \n",
       "...       ...      ...  ...     ...    ...       ...     ...     ...     ...   \n",
       "3332      NaN      NaN  ...     NaN    NaN       NaN     NaN     NaN     NaN   \n",
       "2314      NaN      NaN  ...     NaN    NaN       NaN     NaN     NaN     NaN   \n",
       "1863      NaN      NaN  ...     NaN    NaN       NaN     NaN     NaN     NaN   \n",
       "2868      NaN      NaN  ...     NaN    NaN       NaN     NaN     NaN     NaN   \n",
       "3028      NaN      NaN  ...     NaN    NaN       NaN     NaN     NaN     NaN   \n",
       "\n",
       "      RET_96  RET_97  RET_98  RET_99  \n",
       "3316     NaN     NaN     NaN     NaN  \n",
       "3355     NaN     NaN     NaN     NaN  \n",
       "1662     NaN     NaN     NaN     NaN  \n",
       "3405     NaN     NaN     NaN     NaN  \n",
       "1602     NaN     NaN     NaN     NaN  \n",
       "...      ...     ...     ...     ...  \n",
       "3332     NaN     NaN     NaN     NaN  \n",
       "2314     NaN     NaN     NaN     NaN  \n",
       "1863     NaN     NaN     NaN     NaN  \n",
       "2868     NaN     NaN     NaN     NaN  \n",
       "3028     NaN     NaN     NaN     NaN  \n",
       "\n",
       "[2748 rows x 200 columns]"
      ]
     },
     "execution_count": 57,
     "metadata": {},
     "output_type": "execute_result"
    }
   ],
   "source": [
    "returns[returns>0.06] # RET_90 for instance"
   ]
  },
  {
   "cell_type": "code",
   "execution_count": 59,
   "id": "1e06beb7-ce8e-41a8-b312-112541253420",
   "metadata": {
    "tags": []
   },
   "outputs": [
    {
     "data": {
      "text/plain": [
       "3572    0.114813\n",
       "2544    0.107803\n",
       "2143    0.105829\n",
       "2110    0.104033\n",
       "2282    0.102837\n",
       "          ...   \n",
       "2046         NaN\n",
       "3690         NaN\n",
       "3865         NaN\n",
       "1403         NaN\n",
       "2527         NaN\n",
       "Name: RET_90, Length: 2748, dtype: float64"
      ]
     },
     "execution_count": 59,
     "metadata": {},
     "output_type": "execute_result"
    }
   ],
   "source": [
    "returns['RET_90'].sort_values(ascending=False)"
   ]
  },
  {
   "cell_type": "code",
   "execution_count": 60,
   "id": "ebacc1a4-6fe4-4572-88e0-92bafc8adeba",
   "metadata": {
    "tags": []
   },
   "outputs": [
    {
     "data": {
      "text/plain": [
       "<Axes: xlabel='RET_90', ylabel='Count'>"
      ]
     },
     "execution_count": 60,
     "metadata": {},
     "output_type": "execute_result"
    },
    {
     "data": {
      "image/png": "[encoded data removed]",
      "text/plain": [
       "<Figure size 640x480 with 1 Axes>"
      ]
     },
     "metadata": {},
     "output_type": "display_data"
    }
   ],
   "source": [
    "sns.histplot(data = returns['RET_90'], kde=True, bins = 20)"
   ]
  },
  {
   "cell_type": "code",
   "execution_count": 62,
   "id": "0916db21-43ff-45ef-8381-4b30e4ed29cd",
   "metadata": {
    "tags": []
   },
   "outputs": [
    {
     "data": {
      "text/plain": [
       "array(['RET_139', 'RET_129', 'RET_136', 'RET_161', 'RET_217', 'RET_91',\n",
       "       'RET_137', 'RET_8', 'RET_3', 'RET_9', 'RET_131', 'RET_21',\n",
       "       'RET_54', 'RET_130', 'RET_269', 'RET_157', 'RET_249', 'RET_22',\n",
       "       'RET_202', 'RET_132', 'RET_96', 'RET_7', 'RET_178', 'RET_68',\n",
       "       'RET_44', 'RET_196', 'RET_292', 'RET_239', 'RET_279', 'RET_38',\n",
       "       'RET_209', 'RET_207', 'RET_98', 'RET_65', 'RET_51', 'RET_78',\n",
       "       'RET_177', 'RET_231', 'RET_119', 'RET_158', 'RET_80', 'RET_25',\n",
       "       'RET_175', 'RET_151', 'RET_257', 'RET_75', 'RET_244', 'RET_149',\n",
       "       'RET_85', 'RET_190', 'RET_13', 'RET_228', 'RET_144', 'RET_290',\n",
       "       'RET_114', 'RET_166', 'RET_234', 'RET_34', 'RET_154', 'RET_225',\n",
       "       'RET_185', 'RET_39', 'RET_272', 'RET_282', 'RET_90', 'RET_52',\n",
       "       'RET_258', 'RET_291', 'RET_152', 'RET_133', 'RET_29', 'RET_274',\n",
       "       'RET_106', 'RET_173', 'RET_33', 'RET_69', 'RET_17', 'RET_189',\n",
       "       'RET_284', 'RET_218', 'RET_183', 'RET_206', 'RET_93', 'RET_16',\n",
       "       'RET_246', 'RET_167', 'RET_1', 'RET_289', 'RET_141', 'RET_109',\n",
       "       'RET_19', 'RET_28', 'RET_251', 'RET_278', 'RET_76', 'RET_241',\n",
       "       'RET_214', 'RET_102', 'RET_145', 'RET_155'], dtype='<U7')"
      ]
     },
     "execution_count": 62,
     "metadata": {},
     "output_type": "execute_result"
    }
   ],
   "source": [
    "target_ret_features"
   ]
  },
  {
   "cell_type": "code",
   "execution_count": 63,
   "id": "5972c667-48bb-4777-8e55-7300f1c1b37d",
   "metadata": {
    "tags": []
   },
   "outputs": [
    {
     "data": {
      "text/plain": [
       "<Axes: xlabel='RET_139', ylabel='Count'>"
      ]
     },
     "execution_count": 63,
     "metadata": {},
     "output_type": "execute_result"
    },
    {
     "data": {
      "image/png": "[encoded data removed]",
      "text/plain": [
       "<Figure size 640x480 with 1 Axes>"
      ]
     },
     "metadata": {},
     "output_type": "display_data"
    }
   ],
   "source": [
    "sns.histplot(data = returns['RET_139'], kde=True, bins = 20)"
   ]
  },
  {
   "cell_type": "markdown",
   "id": "ad0f34e7-2d99-4018-bd86-871e6870b289",
   "metadata": {},
   "source": [
    "- From a look at some random examples, it seems that the illiquid assets have some possibly larger returns. We could consider neglecting those at some point. "
   ]
  },
  {
   "cell_type": "code",
   "execution_count": null,
   "id": "5e71299b-cd61-4acf-836a-054019d8d356",
   "metadata": {},
   "outputs": [],
   "source": []
  },
  {
   "cell_type": "markdown",
   "id": "467ac6b1-7552-4017-a8f2-86f7e1a6fd49",
   "metadata": {},
   "source": [
    "- Let us look at the additional data:"
   ]
  },
  {
   "cell_type": "code",
   "execution_count": 14,
   "id": "757e74e7-0bcf-45c8-8dc7-55e76c3d365c",
   "metadata": {
    "tags": []
   },
   "outputs": [
    {
     "data": {
      "text/plain": [
       "<Axes: xlabel='CLASS_LEVEL_4', ylabel='count'>"
      ]
     },
     "execution_count": 14,
     "metadata": {},
     "output_type": "execute_result"
    },
    {
     "data": {
      "image/png": "[encoded data removed]",
      "text/plain": [
       "<Figure size 1500x800 with 4 Axes>"
      ]
     },
     "metadata": {},
     "output_type": "display_data"
    }
   ],
   "source": [
    "# Extra_data['CLASS_LEVEL_1'].value_counts()\n",
    "fig, ax = plt.subplots(2, 2, figsize = (15,8))\n",
    "\n",
    "sns.countplot(ax = ax[0][0], x = Extra_data['CLASS_LEVEL_1'])\n",
    "sns.countplot(ax = ax[0][1], x = Extra_data['CLASS_LEVEL_2'])\n",
    "sns.countplot(ax = ax[1][0], x = Extra_data['CLASS_LEVEL_3'])\n",
    "sns.countplot(ax = ax[1][1], x = Extra_data['CLASS_LEVEL_4'])"
   ]
  },
  {
   "cell_type": "markdown",
   "id": "3ea19df2-0e8f-42d7-8d93-af929eb3e80d",
   "metadata": {},
   "source": [
    "- What is the relation between the classes? Given that class 1 has a particular value, what value will the other classes take? Let's check some examples."
   ]
  },
  {
   "cell_type": "code",
   "execution_count": 27,
   "id": "2cc9953d-4e5a-4cd1-a1da-6d0e18ae507d",
   "metadata": {
    "tags": []
   },
   "outputs": [
    {
     "data": {
      "text/plain": [
       "<Axes: xlabel='CLASS_LEVEL_4', ylabel='count'>"
      ]
     },
     "execution_count": 27,
     "metadata": {},
     "output_type": "execute_result"
    },
    {
     "data": {
      "image/png": "[encoded data removed]",
      "text/plain": [
       "<Figure size 800x300 with 3 Axes>"
      ]
     },
     "metadata": {},
     "output_type": "display_data"
    }
   ],
   "source": [
    "fig, ax = plt.subplots(1,3, figsize = (8,3))\n",
    "sns.countplot(ax = ax[0], x = Extra_data[Extra_data['CLASS_LEVEL_1'] == 1]['CLASS_LEVEL_2'])\n",
    "sns.countplot(ax = ax[1], x = Extra_data[Extra_data['CLASS_LEVEL_1'] == 1]['CLASS_LEVEL_3'])\n",
    "sns.countplot(ax = ax[2], x = Extra_data[Extra_data['CLASS_LEVEL_1'] == 1]['CLASS_LEVEL_4'])"
   ]
  },
  {
   "cell_type": "code",
   "execution_count": 30,
   "id": "4dcdad7e-9f18-4467-bd6c-1465b5f56785",
   "metadata": {
    "tags": []
   },
   "outputs": [
    {
     "data": {
      "text/plain": [
       "<Axes: xlabel='CLASS_LEVEL_4', ylabel='count'>"
      ]
     },
     "execution_count": 30,
     "metadata": {},
     "output_type": "execute_result"
    },
    {
     "data": {
      "image/png": "[encoded data removed]",
      "text/plain": [
       "<Figure size 1300x300 with 3 Axes>"
      ]
     },
     "metadata": {},
     "output_type": "display_data"
    }
   ],
   "source": [
    "fig, ax = plt.subplots(1,3, figsize = (13,3))\n",
    "sns.countplot(ax = ax[0], x = Extra_data[Extra_data['CLASS_LEVEL_1'] == 2]['CLASS_LEVEL_2'])\n",
    "sns.countplot(ax = ax[1], x = Extra_data[Extra_data['CLASS_LEVEL_1'] == 2]['CLASS_LEVEL_3'])\n",
    "sns.countplot(ax = ax[2], x = Extra_data[Extra_data['CLASS_LEVEL_1'] == 2]['CLASS_LEVEL_4'])"
   ]
  },
  {
   "cell_type": "markdown",
   "id": "df1d06e2-0322-417c-bec3-6e7cbc46b1e5",
   "metadata": {},
   "source": [
    "- Idea for feature engineering: can group assets by their classes, and take something like the mean to engineer new features."
   ]
  },
  {
   "cell_type": "markdown",
   "id": "8c4c5ccb-cfed-47ae-becc-04d8ed6cb5c8",
   "metadata": {
    "jp-MarkdownHeadingCollapsed": true,
    "tags": []
   },
   "source": [
    "# Benchmark Model"
   ]
  },
  {
   "cell_type": "markdown",
   "id": "9987fdce-973a-4b52-9c75-f669f9ddc132",
   "metadata": {
    "jp-MarkdownHeadingCollapsed": true,
    "tags": []
   },
   "source": [
    "### Beta computation\n",
    "\n",
    "We compute the $\\beta$ between all assets. This matrix will determine the linear link between all assets.\n",
    "\n",
    "This step is not necessary and could be done in the next step, but it is a good way to introduce the use of a matrix shrinkage, greatly used in finance when dealing with noisy data. See [here](https://scikit-learn.org/stable/auto_examples/covariance/plot_covariance_estimation.html) for more information."
   ]
  },
  {
   "cell_type": "code",
   "execution_count": 333,
   "id": "59dee7e4-04bb-47ac-ac58-3a269ad28188",
   "metadata": {
    "tags": []
   },
   "outputs": [
    {
     "data": {
      "text/html": [
       "<div>\n",
       "<style scoped>\n",
       "    .dataframe tbody tr th:only-of-type {\n",
       "        vertical-align: middle;\n",
       "    }\n",
       "\n",
       "    .dataframe tbody tr th {\n",
       "        vertical-align: top;\n",
       "    }\n",
       "\n",
       "    .dataframe thead th {\n",
       "        text-align: right;\n",
       "    }\n",
       "</style>\n",
       "<table border=\"1\" class=\"dataframe\">\n",
       "  <thead>\n",
       "    <tr style=\"text-align: right;\">\n",
       "      <th></th>\n",
       "      <th>RET_0</th>\n",
       "      <th>RET_1</th>\n",
       "      <th>RET_102</th>\n",
       "      <th>RET_105</th>\n",
       "      <th>RET_106</th>\n",
       "      <th>RET_108</th>\n",
       "      <th>RET_109</th>\n",
       "      <th>RET_110</th>\n",
       "      <th>RET_114</th>\n",
       "      <th>RET_115</th>\n",
       "      <th>...</th>\n",
       "      <th>RET_88</th>\n",
       "      <th>RET_9</th>\n",
       "      <th>RET_90</th>\n",
       "      <th>RET_91</th>\n",
       "      <th>RET_93</th>\n",
       "      <th>RET_95</th>\n",
       "      <th>RET_96</th>\n",
       "      <th>RET_97</th>\n",
       "      <th>RET_98</th>\n",
       "      <th>RET_99</th>\n",
       "    </tr>\n",
       "  </thead>\n",
       "  <tbody>\n",
       "    <tr>\n",
       "      <th>RET_0</th>\n",
       "      <td>1.000000</td>\n",
       "      <td>0.126513</td>\n",
       "      <td>0.108238</td>\n",
       "      <td>0.128353</td>\n",
       "      <td>0.117609</td>\n",
       "      <td>0.070110</td>\n",
       "      <td>0.194425</td>\n",
       "      <td>0.080396</td>\n",
       "      <td>0.174791</td>\n",
       "      <td>0.118757</td>\n",
       "      <td>...</td>\n",
       "      <td>0.146664</td>\n",
       "      <td>-0.012388</td>\n",
       "      <td>0.155055</td>\n",
       "      <td>0.081016</td>\n",
       "      <td>0.181609</td>\n",
       "      <td>0.172702</td>\n",
       "      <td>0.063350</td>\n",
       "      <td>0.138673</td>\n",
       "      <td>0.104377</td>\n",
       "      <td>0.165404</td>\n",
       "    </tr>\n",
       "    <tr>\n",
       "      <th>RET_1</th>\n",
       "      <td>0.184228</td>\n",
       "      <td>1.000000</td>\n",
       "      <td>0.122461</td>\n",
       "      <td>0.214639</td>\n",
       "      <td>0.131930</td>\n",
       "      <td>0.117362</td>\n",
       "      <td>0.196036</td>\n",
       "      <td>0.174030</td>\n",
       "      <td>0.256237</td>\n",
       "      <td>0.223324</td>\n",
       "      <td>...</td>\n",
       "      <td>0.242727</td>\n",
       "      <td>-0.067669</td>\n",
       "      <td>0.228235</td>\n",
       "      <td>0.132136</td>\n",
       "      <td>0.177939</td>\n",
       "      <td>0.253013</td>\n",
       "      <td>0.105388</td>\n",
       "      <td>0.160021</td>\n",
       "      <td>0.109545</td>\n",
       "      <td>0.206384</td>\n",
       "    </tr>\n",
       "    <tr>\n",
       "      <th>RET_102</th>\n",
       "      <td>0.086988</td>\n",
       "      <td>0.067585</td>\n",
       "      <td>1.000000</td>\n",
       "      <td>0.149505</td>\n",
       "      <td>0.381845</td>\n",
       "      <td>0.146912</td>\n",
       "      <td>0.064788</td>\n",
       "      <td>0.142368</td>\n",
       "      <td>0.090649</td>\n",
       "      <td>0.104195</td>\n",
       "      <td>...</td>\n",
       "      <td>0.101701</td>\n",
       "      <td>0.008833</td>\n",
       "      <td>0.111743</td>\n",
       "      <td>0.043866</td>\n",
       "      <td>0.090732</td>\n",
       "      <td>0.162930</td>\n",
       "      <td>0.033348</td>\n",
       "      <td>0.124352</td>\n",
       "      <td>0.450246</td>\n",
       "      <td>0.230993</td>\n",
       "    </tr>\n",
       "    <tr>\n",
       "      <th>RET_105</th>\n",
       "      <td>0.141652</td>\n",
       "      <td>0.162670</td>\n",
       "      <td>0.205304</td>\n",
       "      <td>1.000000</td>\n",
       "      <td>0.195409</td>\n",
       "      <td>0.126792</td>\n",
       "      <td>0.134372</td>\n",
       "      <td>0.238152</td>\n",
       "      <td>0.197308</td>\n",
       "      <td>0.179270</td>\n",
       "      <td>...</td>\n",
       "      <td>0.165933</td>\n",
       "      <td>-0.003716</td>\n",
       "      <td>0.200567</td>\n",
       "      <td>0.221046</td>\n",
       "      <td>0.223728</td>\n",
       "      <td>0.219295</td>\n",
       "      <td>0.154519</td>\n",
       "      <td>0.205005</td>\n",
       "      <td>0.245215</td>\n",
       "      <td>0.320027</td>\n",
       "    </tr>\n",
       "    <tr>\n",
       "      <th>RET_106</th>\n",
       "      <td>0.093577</td>\n",
       "      <td>0.072087</td>\n",
       "      <td>0.378043</td>\n",
       "      <td>0.140882</td>\n",
       "      <td>1.000000</td>\n",
       "      <td>0.099451</td>\n",
       "      <td>0.076619</td>\n",
       "      <td>0.123011</td>\n",
       "      <td>0.100518</td>\n",
       "      <td>0.105586</td>\n",
       "      <td>...</td>\n",
       "      <td>0.096279</td>\n",
       "      <td>-0.018555</td>\n",
       "      <td>0.104224</td>\n",
       "      <td>0.020172</td>\n",
       "      <td>0.121545</td>\n",
       "      <td>0.133660</td>\n",
       "      <td>0.011020</td>\n",
       "      <td>0.144167</td>\n",
       "      <td>0.393937</td>\n",
       "      <td>0.196698</td>\n",
       "    </tr>\n",
       "  </tbody>\n",
       "</table>\n",
       "<p>5 rows × 200 columns</p>\n",
       "</div>"
      ],
      "text/plain": [
       "            RET_0     RET_1   RET_102   RET_105   RET_106   RET_108   RET_109   \n",
       "RET_0    1.000000  0.126513  0.108238  0.128353  0.117609  0.070110  0.194425  \\\n",
       "RET_1    0.184228  1.000000  0.122461  0.214639  0.131930  0.117362  0.196036   \n",
       "RET_102  0.086988  0.067585  1.000000  0.149505  0.381845  0.146912  0.064788   \n",
       "RET_105  0.141652  0.162670  0.205304  1.000000  0.195409  0.126792  0.134372   \n",
       "RET_106  0.093577  0.072087  0.378043  0.140882  1.000000  0.099451  0.076619   \n",
       "\n",
       "          RET_110   RET_114   RET_115  ...    RET_88     RET_9    RET_90   \n",
       "RET_0    0.080396  0.174791  0.118757  ...  0.146664 -0.012388  0.155055  \\\n",
       "RET_1    0.174030  0.256237  0.223324  ...  0.242727 -0.067669  0.228235   \n",
       "RET_102  0.142368  0.090649  0.104195  ...  0.101701  0.008833  0.111743   \n",
       "RET_105  0.238152  0.197308  0.179270  ...  0.165933 -0.003716  0.200567   \n",
       "RET_106  0.123011  0.100518  0.105586  ...  0.096279 -0.018555  0.104224   \n",
       "\n",
       "           RET_91    RET_93    RET_95    RET_96    RET_97    RET_98    RET_99  \n",
       "RET_0    0.081016  0.181609  0.172702  0.063350  0.138673  0.104377  0.165404  \n",
       "RET_1    0.132136  0.177939  0.253013  0.105388  0.160021  0.109545  0.206384  \n",
       "RET_102  0.043866  0.090732  0.162930  0.033348  0.124352  0.450246  0.230993  \n",
       "RET_105  0.221046  0.223728  0.219295  0.154519  0.205005  0.245215  0.320027  \n",
       "RET_106  0.020172  0.121545  0.133660  0.011020  0.144167  0.393937  0.196698  \n",
       "\n",
       "[5 rows x 200 columns]"
      ]
     },
     "execution_count": 333,
     "metadata": {},
     "output_type": "execute_result"
    }
   ],
   "source": [
    "from sklearn.covariance import oas\n",
    "\n",
    "features = returns.columns\n",
    "cov = pd.DataFrame(oas(returns.fillna(0))[0], index=features, columns=features)\n",
    "beta = cov / np.diag(cov)\n",
    "beta.head()"
   ]
  },
  {
   "cell_type": "markdown",
   "id": "9404d758-81cc-47d4-a3e9-db90c24d946b",
   "metadata": {
    "jp-MarkdownHeadingCollapsed": true,
    "tags": []
   },
   "source": [
    "### Determine the pairs and beta coefficients\n",
    "\n",
    "For each target asset (liquid assets), we determine the illiquid asset that has maximum correlation and we save the id and the associated beta coefficient."
   ]
  },
  {
   "cell_type": "code",
   "execution_count": 6,
   "id": "9de4ee3b-44f0-4ecc-9420-884e142f8b3e",
   "metadata": {
    "tags": []
   },
   "outputs": [],
   "source": [
    "target_ret_features = np.array(['RET_' + str(s) for s in X_train['ID_TARGET'].unique()]) "
   ]
  },
  {
   "cell_type": "code",
   "execution_count": 334,
   "id": "2ce02f6c-4c0c-4538-af2f-e846556631d8",
   "metadata": {
    "tags": []
   },
   "outputs": [
    {
     "name": "stderr",
     "output_type": "stream",
     "text": [
      "100%|██████████████████████████████████████████████████████████████████████████████| 100/100 [00:00<00:00, 7161.92it/s]\n"
     ]
    }
   ],
   "source": [
    "proj_matrix = beta.T.loc[init_ret_features, target_ret_features] # look at beta between X and Y features only \n",
    "corr = returns.corr().loc[init_ret_features, target_ret_features] # Compute Correlation between X and Y features \n",
    "\n",
    "coeffs = {}\n",
    "for id_target in tqdm(target_ret_features): # for every Y feature\n",
    "    x = proj_matrix[id_target]  \n",
    "    c = corr[id_target]\n",
    "    id_init_max = c.abs().idxmax() # pick MAX correlation with some X feature\n",
    "    j = int(id_target.replace('RET_', ''))\n",
    "    coeffs[j] = (id_init_max,  x[id_init_max]) # store in coeffs Y_feat: (X_feat, \\beta_XY)"
   ]
  },
  {
   "cell_type": "markdown",
   "id": "f89758b7-6fe7-4885-8dc1-e1978a12abb9",
   "metadata": {
    "jp-MarkdownHeadingCollapsed": true,
    "tags": []
   },
   "source": [
    "### Prediction on train data\n",
    "\n",
    "- Before submitting, we can check accuracy on training data.\n",
    "- In the future, it will be better to have same validation set."
   ]
  },
  {
   "cell_type": "code",
   "execution_count": 335,
   "id": "a64d7ec6-9c68-4008-8e67-f965b4ecbcd4",
   "metadata": {
    "tags": []
   },
   "outputs": [
    {
     "name": "stderr",
     "output_type": "stream",
     "text": [
      "267100it [00:12, 20858.30it/s]\n"
     ]
    }
   ],
   "source": [
    "pred_train = {}\n",
    "\n",
    "for idx, row in tqdm(X_train.iterrows()):\n",
    "    j = int(row['ID_TARGET'])\n",
    "    i, val = coeffs[j] # find from stored data the best X and the \\beta\n",
    "    x = row[i] # find return of the X stock\n",
    "    \n",
    "    if np.isnan(x): \n",
    "        x = row[init_ret_features].mean() # if return is NAN, use mean of returns\n",
    "        \n",
    "    p = x * val\n",
    "    pred_train[idx] = p # store returns in pred hashtable\n",
    "    \n",
    "pred_train = pd.Series(pred_train, name=\"RET_TARGET\") \n",
    "\n",
    "# The NaNs are filled by the mean of the prediction of that day\n",
    "pred_train_mean_day = pred.groupby(X_train['ID_DAY']).transform('mean')\n",
    "pred_train = pred_train.fillna(pred_train_mean_day)\n",
    "pred_train = np.sign(pred_train)"
   ]
  },
  {
   "cell_type": "code",
   "execution_count": 104,
   "id": "90821638-a04e-4efa-9dea-0c52026a2e61",
   "metadata": {
    "tags": []
   },
   "outputs": [
    {
     "data": {
      "text/plain": [
       "0   -1\n",
       "1    1\n",
       "2   -1\n",
       "3    1\n",
       "4    1\n",
       "Name: RET_TARGET, dtype: int32"
      ]
     },
     "execution_count": 104,
     "metadata": {},
     "output_type": "execute_result"
    }
   ],
   "source": [
    "pred_train.name = \"RET_TARGET\"\n",
    "pred_train = pred_train.astype(int)\n",
    "pred_train.head()"
   ]
  },
  {
   "cell_type": "code",
   "execution_count": 111,
   "id": "c70b710d-0cbc-4e36-af77-7a685bd5e0d7",
   "metadata": {
    "tags": []
   },
   "outputs": [
    {
     "data": {
      "text/plain": [
       "0.6984343923365474"
      ]
     },
     "execution_count": 111,
     "metadata": {},
     "output_type": "execute_result"
    }
   ],
   "source": [
    "weighted_accuracy(Y_train['RET_TARGET'].to_numpy(), pred_train.to_numpy())"
   ]
  },
  {
   "cell_type": "markdown",
   "id": "c6c373a4-2f30-4b38-9474-7d2e87dcf62f",
   "metadata": {
    "jp-MarkdownHeadingCollapsed": true,
    "tags": []
   },
   "source": [
    "### Prediction on test data\n",
    "\n",
    "We thus simply make the predictions on the test data set using the pairs we saved and the beta.\n",
    "\n",
    "If there is missing values, we replace them with the mean."
   ]
  },
  {
   "cell_type": "code",
   "execution_count": 81,
   "id": "a95e7110-48a9-40f5-87e0-99a18acaf304",
   "metadata": {
    "tags": []
   },
   "outputs": [
    {
     "name": "stderr",
     "output_type": "stream",
     "text": [
      "114468it [00:04, 22950.28it/s]\n"
     ]
    }
   ],
   "source": [
    "pred = {}\n",
    "\n",
    "for idx, row in tqdm(X_test.iterrows()):\n",
    "    j = int(row['ID_TARGET'])\n",
    "    i, val = coeffs[j] # find from stored data the best X and the \\beta\n",
    "    x = row[i] # find return of the X stock\n",
    "    \n",
    "    if np.isnan(x): \n",
    "        x = row[init_ret_features].mean() # if return is NAN, use mean of returns\n",
    "        \n",
    "    p = x * val\n",
    "    pred[idx] = p # store returns in pred hashtable\n",
    "    \n",
    "pred = pd.Series(pred, name=\"RET_TARGET\") \n",
    "\n",
    "# The NaNs are filled by the mean of the prediction of that day\n",
    "pred_mean_day = pred.groupby(X_test['ID_DAY']).transform('mean')\n",
    "pred = pred.fillna(pred_mean_day)\n",
    "pred = np.sign(pred)"
   ]
  },
  {
   "cell_type": "markdown",
   "id": "ef77c063-851b-457a-9364-df3e4775e883",
   "metadata": {
    "jp-MarkdownHeadingCollapsed": true,
    "tags": []
   },
   "source": [
    "### Save the result before submission"
   ]
  },
  {
   "cell_type": "code",
   "execution_count": 83,
   "id": "29252bd0-85a1-48b6-9073-3da501f4387f",
   "metadata": {
    "tags": []
   },
   "outputs": [],
   "source": [
    "pred.name = \"RET_TARGET\"\n",
    "pred = pred.astype(int)\n",
    "pred.to_csv('benchmark.csv')"
   ]
  },
  {
   "cell_type": "code",
   "execution_count": 99,
   "id": "45bf1d9c-982b-4f5b-b78a-e6de8e0dd669",
   "metadata": {
    "tags": []
   },
   "outputs": [
    {
     "data": {
      "text/plain": [
       "<generator object DataFrame.iterrows at 0x000001D68C5B1580>"
      ]
     },
     "execution_count": 99,
     "metadata": {},
     "output_type": "execute_result"
    }
   ],
   "source": [
    "X_test.iterrows()"
   ]
  },
  {
   "cell_type": "markdown",
   "id": "969b5d83-7838-42fa-b9bf-44b1abae71ca",
   "metadata": {
    "jp-MarkdownHeadingCollapsed": true,
    "tags": []
   },
   "source": [
    "# Slight improvement on Benchmark\n",
    "\n",
    "- As a first improvement, let's try to get rid of the stock returns greater than a certain value."
   ]
  },
  {
   "cell_type": "code",
   "execution_count": 444,
   "id": "c7d2f773-fa41-435a-9cb4-d3bab7ed07ec",
   "metadata": {
    "tags": []
   },
   "outputs": [
    {
     "data": {
      "text/html": [
       "<div>\n",
       "<style scoped>\n",
       "    .dataframe tbody tr th:only-of-type {\n",
       "        vertical-align: middle;\n",
       "    }\n",
       "\n",
       "    .dataframe tbody tr th {\n",
       "        vertical-align: top;\n",
       "    }\n",
       "\n",
       "    .dataframe thead th {\n",
       "        text-align: right;\n",
       "    }\n",
       "</style>\n",
       "<table border=\"1\" class=\"dataframe\">\n",
       "  <thead>\n",
       "    <tr style=\"text-align: right;\">\n",
       "      <th></th>\n",
       "      <th>RET_0</th>\n",
       "      <th>RET_1</th>\n",
       "      <th>RET_102</th>\n",
       "      <th>RET_105</th>\n",
       "      <th>RET_106</th>\n",
       "      <th>RET_108</th>\n",
       "      <th>RET_109</th>\n",
       "      <th>RET_110</th>\n",
       "      <th>RET_114</th>\n",
       "      <th>RET_115</th>\n",
       "      <th>...</th>\n",
       "      <th>RET_88</th>\n",
       "      <th>RET_9</th>\n",
       "      <th>RET_90</th>\n",
       "      <th>RET_91</th>\n",
       "      <th>RET_93</th>\n",
       "      <th>RET_95</th>\n",
       "      <th>RET_96</th>\n",
       "      <th>RET_97</th>\n",
       "      <th>RET_98</th>\n",
       "      <th>RET_99</th>\n",
       "    </tr>\n",
       "  </thead>\n",
       "  <tbody>\n",
       "    <tr>\n",
       "      <th>3316</th>\n",
       "      <td>NaN</td>\n",
       "      <td>NaN</td>\n",
       "      <td>NaN</td>\n",
       "      <td>NaN</td>\n",
       "      <td>NaN</td>\n",
       "      <td>NaN</td>\n",
       "      <td>NaN</td>\n",
       "      <td>0.057911</td>\n",
       "      <td>NaN</td>\n",
       "      <td>NaN</td>\n",
       "      <td>...</td>\n",
       "      <td>NaN</td>\n",
       "      <td>NaN</td>\n",
       "      <td>NaN</td>\n",
       "      <td>NaN</td>\n",
       "      <td>NaN</td>\n",
       "      <td>NaN</td>\n",
       "      <td>NaN</td>\n",
       "      <td>NaN</td>\n",
       "      <td>NaN</td>\n",
       "      <td>NaN</td>\n",
       "    </tr>\n",
       "    <tr>\n",
       "      <th>3355</th>\n",
       "      <td>NaN</td>\n",
       "      <td>NaN</td>\n",
       "      <td>NaN</td>\n",
       "      <td>NaN</td>\n",
       "      <td>NaN</td>\n",
       "      <td>NaN</td>\n",
       "      <td>NaN</td>\n",
       "      <td>NaN</td>\n",
       "      <td>NaN</td>\n",
       "      <td>NaN</td>\n",
       "      <td>...</td>\n",
       "      <td>NaN</td>\n",
       "      <td>NaN</td>\n",
       "      <td>0.061274</td>\n",
       "      <td>NaN</td>\n",
       "      <td>NaN</td>\n",
       "      <td>NaN</td>\n",
       "      <td>NaN</td>\n",
       "      <td>NaN</td>\n",
       "      <td>NaN</td>\n",
       "      <td>NaN</td>\n",
       "    </tr>\n",
       "    <tr>\n",
       "      <th>1662</th>\n",
       "      <td>NaN</td>\n",
       "      <td>NaN</td>\n",
       "      <td>NaN</td>\n",
       "      <td>NaN</td>\n",
       "      <td>NaN</td>\n",
       "      <td>NaN</td>\n",
       "      <td>NaN</td>\n",
       "      <td>NaN</td>\n",
       "      <td>NaN</td>\n",
       "      <td>NaN</td>\n",
       "      <td>...</td>\n",
       "      <td>NaN</td>\n",
       "      <td>NaN</td>\n",
       "      <td>NaN</td>\n",
       "      <td>NaN</td>\n",
       "      <td>NaN</td>\n",
       "      <td>NaN</td>\n",
       "      <td>NaN</td>\n",
       "      <td>NaN</td>\n",
       "      <td>NaN</td>\n",
       "      <td>NaN</td>\n",
       "    </tr>\n",
       "    <tr>\n",
       "      <th>3405</th>\n",
       "      <td>NaN</td>\n",
       "      <td>NaN</td>\n",
       "      <td>NaN</td>\n",
       "      <td>NaN</td>\n",
       "      <td>NaN</td>\n",
       "      <td>NaN</td>\n",
       "      <td>NaN</td>\n",
       "      <td>NaN</td>\n",
       "      <td>NaN</td>\n",
       "      <td>NaN</td>\n",
       "      <td>...</td>\n",
       "      <td>NaN</td>\n",
       "      <td>NaN</td>\n",
       "      <td>NaN</td>\n",
       "      <td>NaN</td>\n",
       "      <td>NaN</td>\n",
       "      <td>NaN</td>\n",
       "      <td>NaN</td>\n",
       "      <td>NaN</td>\n",
       "      <td>NaN</td>\n",
       "      <td>NaN</td>\n",
       "    </tr>\n",
       "    <tr>\n",
       "      <th>1602</th>\n",
       "      <td>NaN</td>\n",
       "      <td>NaN</td>\n",
       "      <td>NaN</td>\n",
       "      <td>NaN</td>\n",
       "      <td>NaN</td>\n",
       "      <td>NaN</td>\n",
       "      <td>NaN</td>\n",
       "      <td>NaN</td>\n",
       "      <td>NaN</td>\n",
       "      <td>NaN</td>\n",
       "      <td>...</td>\n",
       "      <td>NaN</td>\n",
       "      <td>NaN</td>\n",
       "      <td>NaN</td>\n",
       "      <td>NaN</td>\n",
       "      <td>NaN</td>\n",
       "      <td>NaN</td>\n",
       "      <td>NaN</td>\n",
       "      <td>NaN</td>\n",
       "      <td>NaN</td>\n",
       "      <td>NaN</td>\n",
       "    </tr>\n",
       "    <tr>\n",
       "      <th>...</th>\n",
       "      <td>...</td>\n",
       "      <td>...</td>\n",
       "      <td>...</td>\n",
       "      <td>...</td>\n",
       "      <td>...</td>\n",
       "      <td>...</td>\n",
       "      <td>...</td>\n",
       "      <td>...</td>\n",
       "      <td>...</td>\n",
       "      <td>...</td>\n",
       "      <td>...</td>\n",
       "      <td>...</td>\n",
       "      <td>...</td>\n",
       "      <td>...</td>\n",
       "      <td>...</td>\n",
       "      <td>...</td>\n",
       "      <td>...</td>\n",
       "      <td>...</td>\n",
       "      <td>...</td>\n",
       "      <td>...</td>\n",
       "      <td>...</td>\n",
       "    </tr>\n",
       "    <tr>\n",
       "      <th>3332</th>\n",
       "      <td>NaN</td>\n",
       "      <td>NaN</td>\n",
       "      <td>NaN</td>\n",
       "      <td>NaN</td>\n",
       "      <td>NaN</td>\n",
       "      <td>NaN</td>\n",
       "      <td>NaN</td>\n",
       "      <td>NaN</td>\n",
       "      <td>NaN</td>\n",
       "      <td>NaN</td>\n",
       "      <td>...</td>\n",
       "      <td>NaN</td>\n",
       "      <td>NaN</td>\n",
       "      <td>NaN</td>\n",
       "      <td>NaN</td>\n",
       "      <td>NaN</td>\n",
       "      <td>NaN</td>\n",
       "      <td>NaN</td>\n",
       "      <td>NaN</td>\n",
       "      <td>NaN</td>\n",
       "      <td>NaN</td>\n",
       "    </tr>\n",
       "    <tr>\n",
       "      <th>2314</th>\n",
       "      <td>NaN</td>\n",
       "      <td>NaN</td>\n",
       "      <td>NaN</td>\n",
       "      <td>NaN</td>\n",
       "      <td>NaN</td>\n",
       "      <td>NaN</td>\n",
       "      <td>NaN</td>\n",
       "      <td>NaN</td>\n",
       "      <td>NaN</td>\n",
       "      <td>NaN</td>\n",
       "      <td>...</td>\n",
       "      <td>NaN</td>\n",
       "      <td>NaN</td>\n",
       "      <td>NaN</td>\n",
       "      <td>NaN</td>\n",
       "      <td>NaN</td>\n",
       "      <td>NaN</td>\n",
       "      <td>NaN</td>\n",
       "      <td>NaN</td>\n",
       "      <td>NaN</td>\n",
       "      <td>NaN</td>\n",
       "    </tr>\n",
       "    <tr>\n",
       "      <th>1863</th>\n",
       "      <td>NaN</td>\n",
       "      <td>NaN</td>\n",
       "      <td>NaN</td>\n",
       "      <td>NaN</td>\n",
       "      <td>NaN</td>\n",
       "      <td>NaN</td>\n",
       "      <td>NaN</td>\n",
       "      <td>NaN</td>\n",
       "      <td>NaN</td>\n",
       "      <td>NaN</td>\n",
       "      <td>...</td>\n",
       "      <td>NaN</td>\n",
       "      <td>NaN</td>\n",
       "      <td>NaN</td>\n",
       "      <td>NaN</td>\n",
       "      <td>NaN</td>\n",
       "      <td>NaN</td>\n",
       "      <td>NaN</td>\n",
       "      <td>NaN</td>\n",
       "      <td>NaN</td>\n",
       "      <td>NaN</td>\n",
       "    </tr>\n",
       "    <tr>\n",
       "      <th>2868</th>\n",
       "      <td>NaN</td>\n",
       "      <td>NaN</td>\n",
       "      <td>NaN</td>\n",
       "      <td>NaN</td>\n",
       "      <td>NaN</td>\n",
       "      <td>NaN</td>\n",
       "      <td>NaN</td>\n",
       "      <td>NaN</td>\n",
       "      <td>NaN</td>\n",
       "      <td>NaN</td>\n",
       "      <td>...</td>\n",
       "      <td>NaN</td>\n",
       "      <td>NaN</td>\n",
       "      <td>NaN</td>\n",
       "      <td>NaN</td>\n",
       "      <td>NaN</td>\n",
       "      <td>NaN</td>\n",
       "      <td>NaN</td>\n",
       "      <td>NaN</td>\n",
       "      <td>NaN</td>\n",
       "      <td>NaN</td>\n",
       "    </tr>\n",
       "    <tr>\n",
       "      <th>3028</th>\n",
       "      <td>NaN</td>\n",
       "      <td>NaN</td>\n",
       "      <td>NaN</td>\n",
       "      <td>NaN</td>\n",
       "      <td>NaN</td>\n",
       "      <td>NaN</td>\n",
       "      <td>NaN</td>\n",
       "      <td>NaN</td>\n",
       "      <td>NaN</td>\n",
       "      <td>NaN</td>\n",
       "      <td>...</td>\n",
       "      <td>NaN</td>\n",
       "      <td>NaN</td>\n",
       "      <td>NaN</td>\n",
       "      <td>NaN</td>\n",
       "      <td>NaN</td>\n",
       "      <td>NaN</td>\n",
       "      <td>NaN</td>\n",
       "      <td>NaN</td>\n",
       "      <td>NaN</td>\n",
       "      <td>NaN</td>\n",
       "    </tr>\n",
       "  </tbody>\n",
       "</table>\n",
       "<p>2748 rows × 200 columns</p>\n",
       "</div>"
      ],
      "text/plain": [
       "      RET_0  RET_1  RET_102  RET_105  RET_106  RET_108  RET_109   RET_110   \n",
       "3316    NaN    NaN      NaN      NaN      NaN      NaN      NaN  0.057911  \\\n",
       "3355    NaN    NaN      NaN      NaN      NaN      NaN      NaN       NaN   \n",
       "1662    NaN    NaN      NaN      NaN      NaN      NaN      NaN       NaN   \n",
       "3405    NaN    NaN      NaN      NaN      NaN      NaN      NaN       NaN   \n",
       "1602    NaN    NaN      NaN      NaN      NaN      NaN      NaN       NaN   \n",
       "...     ...    ...      ...      ...      ...      ...      ...       ...   \n",
       "3332    NaN    NaN      NaN      NaN      NaN      NaN      NaN       NaN   \n",
       "2314    NaN    NaN      NaN      NaN      NaN      NaN      NaN       NaN   \n",
       "1863    NaN    NaN      NaN      NaN      NaN      NaN      NaN       NaN   \n",
       "2868    NaN    NaN      NaN      NaN      NaN      NaN      NaN       NaN   \n",
       "3028    NaN    NaN      NaN      NaN      NaN      NaN      NaN       NaN   \n",
       "\n",
       "      RET_114  RET_115  ...  RET_88  RET_9    RET_90  RET_91  RET_93  RET_95   \n",
       "3316      NaN      NaN  ...     NaN    NaN       NaN     NaN     NaN     NaN  \\\n",
       "3355      NaN      NaN  ...     NaN    NaN  0.061274     NaN     NaN     NaN   \n",
       "1662      NaN      NaN  ...     NaN    NaN       NaN     NaN     NaN     NaN   \n",
       "3405      NaN      NaN  ...     NaN    NaN       NaN     NaN     NaN     NaN   \n",
       "1602      NaN      NaN  ...     NaN    NaN       NaN     NaN     NaN     NaN   \n",
       "...       ...      ...  ...     ...    ...       ...     ...     ...     ...   \n",
       "3332      NaN      NaN  ...     NaN    NaN       NaN     NaN     NaN     NaN   \n",
       "2314      NaN      NaN  ...     NaN    NaN       NaN     NaN     NaN     NaN   \n",
       "1863      NaN      NaN  ...     NaN    NaN       NaN     NaN     NaN     NaN   \n",
       "2868      NaN      NaN  ...     NaN    NaN       NaN     NaN     NaN     NaN   \n",
       "3028      NaN      NaN  ...     NaN    NaN       NaN     NaN     NaN     NaN   \n",
       "\n",
       "      RET_96  RET_97  RET_98  RET_99  \n",
       "3316     NaN     NaN     NaN     NaN  \n",
       "3355     NaN     NaN     NaN     NaN  \n",
       "1662     NaN     NaN     NaN     NaN  \n",
       "3405     NaN     NaN     NaN     NaN  \n",
       "1602     NaN     NaN     NaN     NaN  \n",
       "...      ...     ...     ...     ...  \n",
       "3332     NaN     NaN     NaN     NaN  \n",
       "2314     NaN     NaN     NaN     NaN  \n",
       "1863     NaN     NaN     NaN     NaN  \n",
       "2868     NaN     NaN     NaN     NaN  \n",
       "3028     NaN     NaN     NaN     NaN  \n",
       "\n",
       "[2748 rows x 200 columns]"
      ]
     },
     "execution_count": 444,
     "metadata": {},
     "output_type": "execute_result"
    }
   ],
   "source": [
    "returns[returns > 0.05]"
   ]
  },
  {
   "cell_type": "markdown",
   "id": "c669bb5b-f9e0-4fef-b6fa-ad112ee386d9",
   "metadata": {},
   "source": [
    "- We check if any such values improves the benchmark. 9% seems to be the best."
   ]
  },
  {
   "cell_type": "code",
   "execution_count": 479,
   "id": "27508bb7-aa39-4bcb-923c-f27a638eb49c",
   "metadata": {
    "tags": []
   },
   "outputs": [],
   "source": [
    "returns1 = returns.copy()\n",
    "returns1[returns1 > 0.09] = np.nan\n",
    "returns1[returns1 < -0.09] = np.nan\n",
    "returns1 = returns1.fillna(returns1.mean())"
   ]
  },
  {
   "cell_type": "code",
   "execution_count": 480,
   "id": "a60d7c5c-0589-4964-aeaa-5229762f31be",
   "metadata": {
    "tags": []
   },
   "outputs": [
    {
     "name": "stderr",
     "output_type": "stream",
     "text": [
      "100%|██████████████████████████████████████████████████████████████████████████████| 100/100 [00:00<00:00, 8380.90it/s]\n"
     ]
    }
   ],
   "source": [
    "features = returns1.columns\n",
    "cov = pd.DataFrame(oas(returns1)[0], index=features, columns=features)\n",
    "beta = cov / np.diag(cov)\n",
    "\n",
    "proj_matrix = beta.T.loc[init_ret_features, target_ret_features] # look at beta between X and Y features only \n",
    "corr = returns1.corr().loc[init_ret_features, target_ret_features] # Compute Correlation between X and Y features \n",
    "\n",
    "coeffs = {}\n",
    "for id_target in tqdm(target_ret_features): # for every Y feature\n",
    "    x = proj_matrix[id_target]  \n",
    "    c = corr[id_target]\n",
    "    id_init_max = c.abs().idxmax() # pick MAX correlation with some X feature\n",
    "    j = int(id_target.replace('RET_', ''))\n",
    "    coeffs[j] = (id_init_max,  x[id_init_max]) # store in coeffs Y_feat: (X_feat, \\beta_XY)"
   ]
  },
  {
   "cell_type": "code",
   "execution_count": 481,
   "id": "1bca4c03-f7d7-4980-ac26-458e807528d7",
   "metadata": {
    "tags": []
   },
   "outputs": [
    {
     "name": "stderr",
     "output_type": "stream",
     "text": [
      "267100it [00:11, 23331.88it/s]\n"
     ]
    },
    {
     "data": {
      "text/plain": [
       "0.6993881439595868"
      ]
     },
     "execution_count": 481,
     "metadata": {},
     "output_type": "execute_result"
    }
   ],
   "source": [
    "pred_train = {}\n",
    "\n",
    "for idx, row in tqdm(X_train.iterrows()):\n",
    "    j = int(row['ID_TARGET'])\n",
    "    i, val = coeffs[j] # find from stored data the best X and the \\beta\n",
    "    x = row[i] # find return of the X stock\n",
    "    \n",
    "    if np.isnan(x): \n",
    "        x = row[init_ret_features].mean() # if return is NAN, use mean of returns\n",
    "        \n",
    "    p = x * val\n",
    "    pred_train[idx] = p # store returns in pred hashtable\n",
    "    \n",
    "pred_train = pd.Series(pred_train, name=\"RET_TARGET\") \n",
    "\n",
    "# The NaNs are filled by the mean of the prediction of that day\n",
    "pred_train_mean_day = pred.groupby(X_train['ID_DAY']).transform('mean')\n",
    "pred_train = pred_train.fillna(pred_train_mean_day)\n",
    "pred_train = np.sign(pred_train)\n",
    "\n",
    "#pred_train.name = \"RET_TARGET\"\n",
    "pred_train = pred_train.astype(int)\n",
    "\n",
    "weighted_accuracy(Y_train['RET_TARGET'].to_numpy(), pred_train.to_numpy())"
   ]
  },
  {
   "cell_type": "markdown",
   "id": "093173b5-5d65-4139-afe0-1a3f2c6b22aa",
   "metadata": {},
   "source": [
    "- We don't really much of an improvement, but let's keep this change."
   ]
  },
  {
   "cell_type": "code",
   "execution_count": null,
   "id": "970603b7-d0b7-4eaf-bdb9-5bca69aadf89",
   "metadata": {},
   "outputs": [],
   "source": []
  },
  {
   "cell_type": "markdown",
   "id": "434fc007-c3b5-4413-a311-43813ebf552b",
   "metadata": {
    "jp-MarkdownHeadingCollapsed": true,
    "tags": []
   },
   "source": [
    "# A curiosity - Single Model Attempt\n",
    "\n",
    "- The $\\beta$ of a stock is particularly useful if we can create the 'market portfolio'. This is, of course, the portfolio that maximizes the Sharpe Ratio. \n",
    "- So let us try to build one single portfolio that maximizes the Sharpe Ratio."
   ]
  },
  {
   "cell_type": "markdown",
   "id": "b33bfffb-1dc5-413d-a3cd-6f1bee3988a4",
   "metadata": {
    "tags": []
   },
   "source": [
    "- We sort the data by days - 2748 days and compute the 'stock returns' for each stock.\n",
    "- Then, we determine the weights for this portfolio, based on these 2748 days.\n",
    "- We then compute the beta of the liquid stocks with the 'market portfolio'.\n",
    "\n",
    "NOTE: Returns are NOT ADDITIVE!\n",
    "\n",
    "\n",
    "- returns -> contains stock returns sorted by day\n",
    "- init_ret_features -> contains illiquid stocks"
   ]
  },
  {
   "cell_type": "markdown",
   "id": "31b05744-b3b9-4f07-a2eb-a7489ca560f3",
   "metadata": {
    "tags": []
   },
   "source": [
    "- The Sharpe Ratio is defined as:\n",
    "$$S_P = \\frac{\\mathbb{E}[R_P]}{\\sigma_P} = \\left( \\sum_j \\mathbb{E}[R_j]\\, w_j \\right) \\left(\\sum_{i,j} w_i\\, \\Sigma_{ij} \\, w_j\\right)^{-1/2}$$\n",
    "- Note, however, that $\\mathbb{E}[R_P]$ won't make much sense, as the $R_i$ are NOT additive. Thus, we use instead the Log returns, which are additive."
   ]
  },
  {
   "cell_type": "code",
   "execution_count": 237,
   "id": "6fa000f1-cf2a-40ae-a64f-98bebfcbbf5c",
   "metadata": {
    "tags": []
   },
   "outputs": [
    {
     "data": {
      "text/html": [
       "<div>\n",
       "<style scoped>\n",
       "    .dataframe tbody tr th:only-of-type {\n",
       "        vertical-align: middle;\n",
       "    }\n",
       "\n",
       "    .dataframe tbody tr th {\n",
       "        vertical-align: top;\n",
       "    }\n",
       "\n",
       "    .dataframe thead th {\n",
       "        text-align: right;\n",
       "    }\n",
       "</style>\n",
       "<table border=\"1\" class=\"dataframe\">\n",
       "  <thead>\n",
       "    <tr style=\"text-align: right;\">\n",
       "      <th></th>\n",
       "      <th>RET_216</th>\n",
       "      <th>RET_238</th>\n",
       "      <th>RET_45</th>\n",
       "      <th>RET_295</th>\n",
       "      <th>RET_230</th>\n",
       "      <th>RET_120</th>\n",
       "      <th>RET_188</th>\n",
       "      <th>RET_260</th>\n",
       "      <th>RET_15</th>\n",
       "      <th>RET_150</th>\n",
       "      <th>...</th>\n",
       "      <th>RET_108</th>\n",
       "      <th>RET_122</th>\n",
       "      <th>RET_194</th>\n",
       "      <th>RET_72</th>\n",
       "      <th>RET_293</th>\n",
       "      <th>RET_281</th>\n",
       "      <th>RET_193</th>\n",
       "      <th>RET_95</th>\n",
       "      <th>RET_162</th>\n",
       "      <th>RET_297</th>\n",
       "    </tr>\n",
       "  </thead>\n",
       "  <tbody>\n",
       "    <tr>\n",
       "      <th>3316</th>\n",
       "      <td>0.004024</td>\n",
       "      <td>0.009237</td>\n",
       "      <td>0.004967</td>\n",
       "      <td>NaN</td>\n",
       "      <td>0.017040</td>\n",
       "      <td>0.013885</td>\n",
       "      <td>0.041885</td>\n",
       "      <td>0.015207</td>\n",
       "      <td>-0.003143</td>\n",
       "      <td>0.018565</td>\n",
       "      <td>...</td>\n",
       "      <td>0.027374</td>\n",
       "      <td>0.007596</td>\n",
       "      <td>0.015010</td>\n",
       "      <td>0.014733</td>\n",
       "      <td>-0.000476</td>\n",
       "      <td>0.006539</td>\n",
       "      <td>-0.010233</td>\n",
       "      <td>0.001251</td>\n",
       "      <td>-0.003102</td>\n",
       "      <td>-0.094847</td>\n",
       "    </tr>\n",
       "    <tr>\n",
       "      <th>3355</th>\n",
       "      <td>0.025848</td>\n",
       "      <td>-0.002109</td>\n",
       "      <td>-0.021802</td>\n",
       "      <td>0.040229</td>\n",
       "      <td>0.015093</td>\n",
       "      <td>-0.015498</td>\n",
       "      <td>0.011188</td>\n",
       "      <td>0.011622</td>\n",
       "      <td>0.016624</td>\n",
       "      <td>0.041997</td>\n",
       "      <td>...</td>\n",
       "      <td>-0.007413</td>\n",
       "      <td>0.001506</td>\n",
       "      <td>0.003077</td>\n",
       "      <td>-0.002341</td>\n",
       "      <td>0.061228</td>\n",
       "      <td>0.005301</td>\n",
       "      <td>0.008942</td>\n",
       "      <td>-0.010232</td>\n",
       "      <td>0.005529</td>\n",
       "      <td>0.006545</td>\n",
       "    </tr>\n",
       "    <tr>\n",
       "      <th>1662</th>\n",
       "      <td>-0.012267</td>\n",
       "      <td>0.007461</td>\n",
       "      <td>0.051311</td>\n",
       "      <td>0.105340</td>\n",
       "      <td>-0.006361</td>\n",
       "      <td>0.004964</td>\n",
       "      <td>0.011933</td>\n",
       "      <td>0.018921</td>\n",
       "      <td>-0.035044</td>\n",
       "      <td>0.044667</td>\n",
       "      <td>...</td>\n",
       "      <td>0.005593</td>\n",
       "      <td>0.009226</td>\n",
       "      <td>0.032670</td>\n",
       "      <td>-0.000716</td>\n",
       "      <td>0.008429</td>\n",
       "      <td>-0.002871</td>\n",
       "      <td>0.009932</td>\n",
       "      <td>0.023721</td>\n",
       "      <td>0.009349</td>\n",
       "      <td>0.033554</td>\n",
       "    </tr>\n",
       "    <tr>\n",
       "      <th>3405</th>\n",
       "      <td>-0.033598</td>\n",
       "      <td>-0.003446</td>\n",
       "      <td>-0.009100</td>\n",
       "      <td>0.016753</td>\n",
       "      <td>-0.016952</td>\n",
       "      <td>-0.008924</td>\n",
       "      <td>-0.010984</td>\n",
       "      <td>0.001948</td>\n",
       "      <td>-0.034591</td>\n",
       "      <td>-0.029038</td>\n",
       "      <td>...</td>\n",
       "      <td>0.002788</td>\n",
       "      <td>0.001551</td>\n",
       "      <td>-0.008077</td>\n",
       "      <td>0.009507</td>\n",
       "      <td>-0.008005</td>\n",
       "      <td>-0.016593</td>\n",
       "      <td>-0.007481</td>\n",
       "      <td>-0.024835</td>\n",
       "      <td>0.004360</td>\n",
       "      <td>0.031087</td>\n",
       "    </tr>\n",
       "    <tr>\n",
       "      <th>1602</th>\n",
       "      <td>0.029170</td>\n",
       "      <td>-0.084293</td>\n",
       "      <td>0.000325</td>\n",
       "      <td>0.021458</td>\n",
       "      <td>-0.018345</td>\n",
       "      <td>-0.012230</td>\n",
       "      <td>-0.001818</td>\n",
       "      <td>0.000842</td>\n",
       "      <td>0.003885</td>\n",
       "      <td>0.007138</td>\n",
       "      <td>...</td>\n",
       "      <td>-0.031061</td>\n",
       "      <td>-0.012181</td>\n",
       "      <td>0.002507</td>\n",
       "      <td>0.004408</td>\n",
       "      <td>-0.022913</td>\n",
       "      <td>-0.010133</td>\n",
       "      <td>-0.006468</td>\n",
       "      <td>-0.025205</td>\n",
       "      <td>-0.001612</td>\n",
       "      <td>-0.056735</td>\n",
       "    </tr>\n",
       "    <tr>\n",
       "      <th>...</th>\n",
       "      <td>...</td>\n",
       "      <td>...</td>\n",
       "      <td>...</td>\n",
       "      <td>...</td>\n",
       "      <td>...</td>\n",
       "      <td>...</td>\n",
       "      <td>...</td>\n",
       "      <td>...</td>\n",
       "      <td>...</td>\n",
       "      <td>...</td>\n",
       "      <td>...</td>\n",
       "      <td>...</td>\n",
       "      <td>...</td>\n",
       "      <td>...</td>\n",
       "      <td>...</td>\n",
       "      <td>...</td>\n",
       "      <td>...</td>\n",
       "      <td>...</td>\n",
       "      <td>...</td>\n",
       "      <td>...</td>\n",
       "      <td>...</td>\n",
       "    </tr>\n",
       "    <tr>\n",
       "      <th>3332</th>\n",
       "      <td>-0.012034</td>\n",
       "      <td>-0.021459</td>\n",
       "      <td>-0.004453</td>\n",
       "      <td>-0.011604</td>\n",
       "      <td>0.086227</td>\n",
       "      <td>-0.003680</td>\n",
       "      <td>-0.022954</td>\n",
       "      <td>-0.011491</td>\n",
       "      <td>0.004187</td>\n",
       "      <td>-0.015049</td>\n",
       "      <td>...</td>\n",
       "      <td>-0.020082</td>\n",
       "      <td>-0.005921</td>\n",
       "      <td>-0.000173</td>\n",
       "      <td>0.016216</td>\n",
       "      <td>-0.010907</td>\n",
       "      <td>-0.043811</td>\n",
       "      <td>-0.003677</td>\n",
       "      <td>0.003975</td>\n",
       "      <td>-0.004490</td>\n",
       "      <td>-0.005928</td>\n",
       "    </tr>\n",
       "    <tr>\n",
       "      <th>2314</th>\n",
       "      <td>0.001643</td>\n",
       "      <td>0.018795</td>\n",
       "      <td>0.052567</td>\n",
       "      <td>0.003184</td>\n",
       "      <td>0.102134</td>\n",
       "      <td>-0.001182</td>\n",
       "      <td>0.030033</td>\n",
       "      <td>0.010007</td>\n",
       "      <td>0.002148</td>\n",
       "      <td>0.001877</td>\n",
       "      <td>...</td>\n",
       "      <td>-0.003109</td>\n",
       "      <td>0.002858</td>\n",
       "      <td>0.006811</td>\n",
       "      <td>0.026210</td>\n",
       "      <td>-0.001437</td>\n",
       "      <td>0.011124</td>\n",
       "      <td>-0.000478</td>\n",
       "      <td>-0.013254</td>\n",
       "      <td>0.043495</td>\n",
       "      <td>0.002780</td>\n",
       "    </tr>\n",
       "    <tr>\n",
       "      <th>1863</th>\n",
       "      <td>0.010200</td>\n",
       "      <td>-0.003231</td>\n",
       "      <td>-0.018298</td>\n",
       "      <td>-0.009153</td>\n",
       "      <td>-0.055494</td>\n",
       "      <td>-0.001865</td>\n",
       "      <td>-0.035667</td>\n",
       "      <td>-0.020259</td>\n",
       "      <td>-0.020393</td>\n",
       "      <td>-0.008491</td>\n",
       "      <td>...</td>\n",
       "      <td>0.005332</td>\n",
       "      <td>-0.003975</td>\n",
       "      <td>-0.006258</td>\n",
       "      <td>0.001214</td>\n",
       "      <td>-0.003871</td>\n",
       "      <td>-0.010329</td>\n",
       "      <td>-0.001843</td>\n",
       "      <td>0.009359</td>\n",
       "      <td>-0.017191</td>\n",
       "      <td>-0.012770</td>\n",
       "    </tr>\n",
       "    <tr>\n",
       "      <th>2868</th>\n",
       "      <td>0.000532</td>\n",
       "      <td>-0.006588</td>\n",
       "      <td>-0.053379</td>\n",
       "      <td>-0.011904</td>\n",
       "      <td>-0.068993</td>\n",
       "      <td>-0.018487</td>\n",
       "      <td>0.003643</td>\n",
       "      <td>-0.012991</td>\n",
       "      <td>0.001841</td>\n",
       "      <td>-0.009929</td>\n",
       "      <td>...</td>\n",
       "      <td>-0.016217</td>\n",
       "      <td>0.005227</td>\n",
       "      <td>0.002653</td>\n",
       "      <td>-0.045902</td>\n",
       "      <td>-0.008034</td>\n",
       "      <td>-0.016351</td>\n",
       "      <td>-0.001056</td>\n",
       "      <td>-0.018058</td>\n",
       "      <td>-0.012541</td>\n",
       "      <td>-0.001299</td>\n",
       "    </tr>\n",
       "    <tr>\n",
       "      <th>3028</th>\n",
       "      <td>0.025293</td>\n",
       "      <td>-0.003277</td>\n",
       "      <td>-0.028823</td>\n",
       "      <td>-0.006021</td>\n",
       "      <td>-0.008381</td>\n",
       "      <td>0.006805</td>\n",
       "      <td>0.018665</td>\n",
       "      <td>-0.010479</td>\n",
       "      <td>0.005288</td>\n",
       "      <td>0.003881</td>\n",
       "      <td>...</td>\n",
       "      <td>0.008079</td>\n",
       "      <td>0.013698</td>\n",
       "      <td>-0.007358</td>\n",
       "      <td>0.022241</td>\n",
       "      <td>0.008688</td>\n",
       "      <td>0.006896</td>\n",
       "      <td>0.005854</td>\n",
       "      <td>-0.003103</td>\n",
       "      <td>-0.022325</td>\n",
       "      <td>0.014949</td>\n",
       "    </tr>\n",
       "  </tbody>\n",
       "</table>\n",
       "<p>2748 rows × 100 columns</p>\n",
       "</div>"
      ],
      "text/plain": [
       "       RET_216   RET_238    RET_45   RET_295   RET_230   RET_120   RET_188   \n",
       "3316  0.004024  0.009237  0.004967       NaN  0.017040  0.013885  0.041885  \\\n",
       "3355  0.025848 -0.002109 -0.021802  0.040229  0.015093 -0.015498  0.011188   \n",
       "1662 -0.012267  0.007461  0.051311  0.105340 -0.006361  0.004964  0.011933   \n",
       "3405 -0.033598 -0.003446 -0.009100  0.016753 -0.016952 -0.008924 -0.010984   \n",
       "1602  0.029170 -0.084293  0.000325  0.021458 -0.018345 -0.012230 -0.001818   \n",
       "...        ...       ...       ...       ...       ...       ...       ...   \n",
       "3332 -0.012034 -0.021459 -0.004453 -0.011604  0.086227 -0.003680 -0.022954   \n",
       "2314  0.001643  0.018795  0.052567  0.003184  0.102134 -0.001182  0.030033   \n",
       "1863  0.010200 -0.003231 -0.018298 -0.009153 -0.055494 -0.001865 -0.035667   \n",
       "2868  0.000532 -0.006588 -0.053379 -0.011904 -0.068993 -0.018487  0.003643   \n",
       "3028  0.025293 -0.003277 -0.028823 -0.006021 -0.008381  0.006805  0.018665   \n",
       "\n",
       "       RET_260    RET_15   RET_150  ...   RET_108   RET_122   RET_194   \n",
       "3316  0.015207 -0.003143  0.018565  ...  0.027374  0.007596  0.015010  \\\n",
       "3355  0.011622  0.016624  0.041997  ... -0.007413  0.001506  0.003077   \n",
       "1662  0.018921 -0.035044  0.044667  ...  0.005593  0.009226  0.032670   \n",
       "3405  0.001948 -0.034591 -0.029038  ...  0.002788  0.001551 -0.008077   \n",
       "1602  0.000842  0.003885  0.007138  ... -0.031061 -0.012181  0.002507   \n",
       "...        ...       ...       ...  ...       ...       ...       ...   \n",
       "3332 -0.011491  0.004187 -0.015049  ... -0.020082 -0.005921 -0.000173   \n",
       "2314  0.010007  0.002148  0.001877  ... -0.003109  0.002858  0.006811   \n",
       "1863 -0.020259 -0.020393 -0.008491  ...  0.005332 -0.003975 -0.006258   \n",
       "2868 -0.012991  0.001841 -0.009929  ... -0.016217  0.005227  0.002653   \n",
       "3028 -0.010479  0.005288  0.003881  ...  0.008079  0.013698 -0.007358   \n",
       "\n",
       "        RET_72   RET_293   RET_281   RET_193    RET_95   RET_162   RET_297  \n",
       "3316  0.014733 -0.000476  0.006539 -0.010233  0.001251 -0.003102 -0.094847  \n",
       "3355 -0.002341  0.061228  0.005301  0.008942 -0.010232  0.005529  0.006545  \n",
       "1662 -0.000716  0.008429 -0.002871  0.009932  0.023721  0.009349  0.033554  \n",
       "3405  0.009507 -0.008005 -0.016593 -0.007481 -0.024835  0.004360  0.031087  \n",
       "1602  0.004408 -0.022913 -0.010133 -0.006468 -0.025205 -0.001612 -0.056735  \n",
       "...        ...       ...       ...       ...       ...       ...       ...  \n",
       "3332  0.016216 -0.010907 -0.043811 -0.003677  0.003975 -0.004490 -0.005928  \n",
       "2314  0.026210 -0.001437  0.011124 -0.000478 -0.013254  0.043495  0.002780  \n",
       "1863  0.001214 -0.003871 -0.010329 -0.001843  0.009359 -0.017191 -0.012770  \n",
       "2868 -0.045902 -0.008034 -0.016351 -0.001056 -0.018058 -0.012541 -0.001299  \n",
       "3028  0.022241  0.008688  0.006896  0.005854 -0.003103 -0.022325  0.014949  \n",
       "\n",
       "[2748 rows x 100 columns]"
      ]
     },
     "execution_count": 237,
     "metadata": {},
     "output_type": "execute_result"
    }
   ],
   "source": [
    "returns[init_ret_features]"
   ]
  },
  {
   "cell_type": "markdown",
   "id": "018e11a3-4ae1-4d03-9ffc-e187f0ddae87",
   "metadata": {},
   "source": [
    "- At this point, note that there might be NAN values, so let's fill them with the average of the column."
   ]
  },
  {
   "cell_type": "code",
   "execution_count": 260,
   "id": "acb7366b-bbaa-4409-a4dc-ec693c8d7902",
   "metadata": {
    "tags": []
   },
   "outputs": [
    {
     "data": {
      "text/html": [
       "<div>\n",
       "<style scoped>\n",
       "    .dataframe tbody tr th:only-of-type {\n",
       "        vertical-align: middle;\n",
       "    }\n",
       "\n",
       "    .dataframe tbody tr th {\n",
       "        vertical-align: top;\n",
       "    }\n",
       "\n",
       "    .dataframe thead th {\n",
       "        text-align: right;\n",
       "    }\n",
       "</style>\n",
       "<table border=\"1\" class=\"dataframe\">\n",
       "  <thead>\n",
       "    <tr style=\"text-align: right;\">\n",
       "      <th></th>\n",
       "      <th>RET_216</th>\n",
       "      <th>RET_238</th>\n",
       "      <th>RET_45</th>\n",
       "      <th>RET_295</th>\n",
       "      <th>RET_230</th>\n",
       "      <th>RET_120</th>\n",
       "      <th>RET_188</th>\n",
       "      <th>RET_260</th>\n",
       "      <th>RET_15</th>\n",
       "      <th>RET_150</th>\n",
       "      <th>...</th>\n",
       "      <th>RET_108</th>\n",
       "      <th>RET_122</th>\n",
       "      <th>RET_194</th>\n",
       "      <th>RET_72</th>\n",
       "      <th>RET_293</th>\n",
       "      <th>RET_281</th>\n",
       "      <th>RET_193</th>\n",
       "      <th>RET_95</th>\n",
       "      <th>RET_162</th>\n",
       "      <th>RET_297</th>\n",
       "    </tr>\n",
       "  </thead>\n",
       "  <tbody>\n",
       "    <tr>\n",
       "      <th>3316</th>\n",
       "      <td>0.004024</td>\n",
       "      <td>0.009237</td>\n",
       "      <td>0.004967</td>\n",
       "      <td>0.000771</td>\n",
       "      <td>0.017040</td>\n",
       "      <td>0.013885</td>\n",
       "      <td>0.041885</td>\n",
       "      <td>0.015207</td>\n",
       "      <td>-0.003143</td>\n",
       "      <td>0.018565</td>\n",
       "      <td>...</td>\n",
       "      <td>0.027374</td>\n",
       "      <td>0.007596</td>\n",
       "      <td>0.015010</td>\n",
       "      <td>0.014733</td>\n",
       "      <td>-0.000476</td>\n",
       "      <td>0.006539</td>\n",
       "      <td>-0.010233</td>\n",
       "      <td>0.001251</td>\n",
       "      <td>-0.003102</td>\n",
       "      <td>-0.094847</td>\n",
       "    </tr>\n",
       "    <tr>\n",
       "      <th>3355</th>\n",
       "      <td>0.025848</td>\n",
       "      <td>-0.002109</td>\n",
       "      <td>-0.021802</td>\n",
       "      <td>0.040229</td>\n",
       "      <td>0.015093</td>\n",
       "      <td>-0.015498</td>\n",
       "      <td>0.011188</td>\n",
       "      <td>0.011622</td>\n",
       "      <td>0.016624</td>\n",
       "      <td>0.041997</td>\n",
       "      <td>...</td>\n",
       "      <td>-0.007413</td>\n",
       "      <td>0.001506</td>\n",
       "      <td>0.003077</td>\n",
       "      <td>-0.002341</td>\n",
       "      <td>0.061228</td>\n",
       "      <td>0.005301</td>\n",
       "      <td>0.008942</td>\n",
       "      <td>-0.010232</td>\n",
       "      <td>0.005529</td>\n",
       "      <td>0.006545</td>\n",
       "    </tr>\n",
       "    <tr>\n",
       "      <th>1662</th>\n",
       "      <td>-0.012267</td>\n",
       "      <td>0.007461</td>\n",
       "      <td>0.051311</td>\n",
       "      <td>0.105340</td>\n",
       "      <td>-0.006361</td>\n",
       "      <td>0.004964</td>\n",
       "      <td>0.011933</td>\n",
       "      <td>0.018921</td>\n",
       "      <td>-0.035044</td>\n",
       "      <td>0.044667</td>\n",
       "      <td>...</td>\n",
       "      <td>0.005593</td>\n",
       "      <td>0.009226</td>\n",
       "      <td>0.032670</td>\n",
       "      <td>-0.000716</td>\n",
       "      <td>0.008429</td>\n",
       "      <td>-0.002871</td>\n",
       "      <td>0.009932</td>\n",
       "      <td>0.023721</td>\n",
       "      <td>0.009349</td>\n",
       "      <td>0.033554</td>\n",
       "    </tr>\n",
       "    <tr>\n",
       "      <th>3405</th>\n",
       "      <td>-0.033598</td>\n",
       "      <td>-0.003446</td>\n",
       "      <td>-0.009100</td>\n",
       "      <td>0.016753</td>\n",
       "      <td>-0.016952</td>\n",
       "      <td>-0.008924</td>\n",
       "      <td>-0.010984</td>\n",
       "      <td>0.001948</td>\n",
       "      <td>-0.034591</td>\n",
       "      <td>-0.029038</td>\n",
       "      <td>...</td>\n",
       "      <td>0.002788</td>\n",
       "      <td>0.001551</td>\n",
       "      <td>-0.008077</td>\n",
       "      <td>0.009507</td>\n",
       "      <td>-0.008005</td>\n",
       "      <td>-0.016593</td>\n",
       "      <td>-0.007481</td>\n",
       "      <td>-0.024835</td>\n",
       "      <td>0.004360</td>\n",
       "      <td>0.031087</td>\n",
       "    </tr>\n",
       "    <tr>\n",
       "      <th>1602</th>\n",
       "      <td>0.029170</td>\n",
       "      <td>-0.084293</td>\n",
       "      <td>0.000325</td>\n",
       "      <td>0.021458</td>\n",
       "      <td>-0.018345</td>\n",
       "      <td>-0.012230</td>\n",
       "      <td>-0.001818</td>\n",
       "      <td>0.000842</td>\n",
       "      <td>0.003885</td>\n",
       "      <td>0.007138</td>\n",
       "      <td>...</td>\n",
       "      <td>-0.031061</td>\n",
       "      <td>-0.012181</td>\n",
       "      <td>0.002507</td>\n",
       "      <td>0.004408</td>\n",
       "      <td>-0.022913</td>\n",
       "      <td>-0.010133</td>\n",
       "      <td>-0.006468</td>\n",
       "      <td>-0.025205</td>\n",
       "      <td>-0.001612</td>\n",
       "      <td>-0.056735</td>\n",
       "    </tr>\n",
       "    <tr>\n",
       "      <th>...</th>\n",
       "      <td>...</td>\n",
       "      <td>...</td>\n",
       "      <td>...</td>\n",
       "      <td>...</td>\n",
       "      <td>...</td>\n",
       "      <td>...</td>\n",
       "      <td>...</td>\n",
       "      <td>...</td>\n",
       "      <td>...</td>\n",
       "      <td>...</td>\n",
       "      <td>...</td>\n",
       "      <td>...</td>\n",
       "      <td>...</td>\n",
       "      <td>...</td>\n",
       "      <td>...</td>\n",
       "      <td>...</td>\n",
       "      <td>...</td>\n",
       "      <td>...</td>\n",
       "      <td>...</td>\n",
       "      <td>...</td>\n",
       "      <td>...</td>\n",
       "    </tr>\n",
       "    <tr>\n",
       "      <th>3332</th>\n",
       "      <td>-0.012034</td>\n",
       "      <td>-0.021459</td>\n",
       "      <td>-0.004453</td>\n",
       "      <td>-0.011604</td>\n",
       "      <td>0.086227</td>\n",
       "      <td>-0.003680</td>\n",
       "      <td>-0.022954</td>\n",
       "      <td>-0.011491</td>\n",
       "      <td>0.004187</td>\n",
       "      <td>-0.015049</td>\n",
       "      <td>...</td>\n",
       "      <td>-0.020082</td>\n",
       "      <td>-0.005921</td>\n",
       "      <td>-0.000173</td>\n",
       "      <td>0.016216</td>\n",
       "      <td>-0.010907</td>\n",
       "      <td>-0.043811</td>\n",
       "      <td>-0.003677</td>\n",
       "      <td>0.003975</td>\n",
       "      <td>-0.004490</td>\n",
       "      <td>-0.005928</td>\n",
       "    </tr>\n",
       "    <tr>\n",
       "      <th>2314</th>\n",
       "      <td>0.001643</td>\n",
       "      <td>0.018795</td>\n",
       "      <td>0.052567</td>\n",
       "      <td>0.003184</td>\n",
       "      <td>0.102134</td>\n",
       "      <td>-0.001182</td>\n",
       "      <td>0.030033</td>\n",
       "      <td>0.010007</td>\n",
       "      <td>0.002148</td>\n",
       "      <td>0.001877</td>\n",
       "      <td>...</td>\n",
       "      <td>-0.003109</td>\n",
       "      <td>0.002858</td>\n",
       "      <td>0.006811</td>\n",
       "      <td>0.026210</td>\n",
       "      <td>-0.001437</td>\n",
       "      <td>0.011124</td>\n",
       "      <td>-0.000478</td>\n",
       "      <td>-0.013254</td>\n",
       "      <td>0.043495</td>\n",
       "      <td>0.002780</td>\n",
       "    </tr>\n",
       "    <tr>\n",
       "      <th>1863</th>\n",
       "      <td>0.010200</td>\n",
       "      <td>-0.003231</td>\n",
       "      <td>-0.018298</td>\n",
       "      <td>-0.009153</td>\n",
       "      <td>-0.055494</td>\n",
       "      <td>-0.001865</td>\n",
       "      <td>-0.035667</td>\n",
       "      <td>-0.020259</td>\n",
       "      <td>-0.020393</td>\n",
       "      <td>-0.008491</td>\n",
       "      <td>...</td>\n",
       "      <td>0.005332</td>\n",
       "      <td>-0.003975</td>\n",
       "      <td>-0.006258</td>\n",
       "      <td>0.001214</td>\n",
       "      <td>-0.003871</td>\n",
       "      <td>-0.010329</td>\n",
       "      <td>-0.001843</td>\n",
       "      <td>0.009359</td>\n",
       "      <td>-0.017191</td>\n",
       "      <td>-0.012770</td>\n",
       "    </tr>\n",
       "    <tr>\n",
       "      <th>2868</th>\n",
       "      <td>0.000532</td>\n",
       "      <td>-0.006588</td>\n",
       "      <td>-0.053379</td>\n",
       "      <td>-0.011904</td>\n",
       "      <td>-0.068993</td>\n",
       "      <td>-0.018487</td>\n",
       "      <td>0.003643</td>\n",
       "      <td>-0.012991</td>\n",
       "      <td>0.001841</td>\n",
       "      <td>-0.009929</td>\n",
       "      <td>...</td>\n",
       "      <td>-0.016217</td>\n",
       "      <td>0.005227</td>\n",
       "      <td>0.002653</td>\n",
       "      <td>-0.045902</td>\n",
       "      <td>-0.008034</td>\n",
       "      <td>-0.016351</td>\n",
       "      <td>-0.001056</td>\n",
       "      <td>-0.018058</td>\n",
       "      <td>-0.012541</td>\n",
       "      <td>-0.001299</td>\n",
       "    </tr>\n",
       "    <tr>\n",
       "      <th>3028</th>\n",
       "      <td>0.025293</td>\n",
       "      <td>-0.003277</td>\n",
       "      <td>-0.028823</td>\n",
       "      <td>-0.006021</td>\n",
       "      <td>-0.008381</td>\n",
       "      <td>0.006805</td>\n",
       "      <td>0.018665</td>\n",
       "      <td>-0.010479</td>\n",
       "      <td>0.005288</td>\n",
       "      <td>0.003881</td>\n",
       "      <td>...</td>\n",
       "      <td>0.008079</td>\n",
       "      <td>0.013698</td>\n",
       "      <td>-0.007358</td>\n",
       "      <td>0.022241</td>\n",
       "      <td>0.008688</td>\n",
       "      <td>0.006896</td>\n",
       "      <td>0.005854</td>\n",
       "      <td>-0.003103</td>\n",
       "      <td>-0.022325</td>\n",
       "      <td>0.014949</td>\n",
       "    </tr>\n",
       "  </tbody>\n",
       "</table>\n",
       "<p>2748 rows × 100 columns</p>\n",
       "</div>"
      ],
      "text/plain": [
       "       RET_216   RET_238    RET_45   RET_295   RET_230   RET_120   RET_188   \n",
       "3316  0.004024  0.009237  0.004967  0.000771  0.017040  0.013885  0.041885  \\\n",
       "3355  0.025848 -0.002109 -0.021802  0.040229  0.015093 -0.015498  0.011188   \n",
       "1662 -0.012267  0.007461  0.051311  0.105340 -0.006361  0.004964  0.011933   \n",
       "3405 -0.033598 -0.003446 -0.009100  0.016753 -0.016952 -0.008924 -0.010984   \n",
       "1602  0.029170 -0.084293  0.000325  0.021458 -0.018345 -0.012230 -0.001818   \n",
       "...        ...       ...       ...       ...       ...       ...       ...   \n",
       "3332 -0.012034 -0.021459 -0.004453 -0.011604  0.086227 -0.003680 -0.022954   \n",
       "2314  0.001643  0.018795  0.052567  0.003184  0.102134 -0.001182  0.030033   \n",
       "1863  0.010200 -0.003231 -0.018298 -0.009153 -0.055494 -0.001865 -0.035667   \n",
       "2868  0.000532 -0.006588 -0.053379 -0.011904 -0.068993 -0.018487  0.003643   \n",
       "3028  0.025293 -0.003277 -0.028823 -0.006021 -0.008381  0.006805  0.018665   \n",
       "\n",
       "       RET_260    RET_15   RET_150  ...   RET_108   RET_122   RET_194   \n",
       "3316  0.015207 -0.003143  0.018565  ...  0.027374  0.007596  0.015010  \\\n",
       "3355  0.011622  0.016624  0.041997  ... -0.007413  0.001506  0.003077   \n",
       "1662  0.018921 -0.035044  0.044667  ...  0.005593  0.009226  0.032670   \n",
       "3405  0.001948 -0.034591 -0.029038  ...  0.002788  0.001551 -0.008077   \n",
       "1602  0.000842  0.003885  0.007138  ... -0.031061 -0.012181  0.002507   \n",
       "...        ...       ...       ...  ...       ...       ...       ...   \n",
       "3332 -0.011491  0.004187 -0.015049  ... -0.020082 -0.005921 -0.000173   \n",
       "2314  0.010007  0.002148  0.001877  ... -0.003109  0.002858  0.006811   \n",
       "1863 -0.020259 -0.020393 -0.008491  ...  0.005332 -0.003975 -0.006258   \n",
       "2868 -0.012991  0.001841 -0.009929  ... -0.016217  0.005227  0.002653   \n",
       "3028 -0.010479  0.005288  0.003881  ...  0.008079  0.013698 -0.007358   \n",
       "\n",
       "        RET_72   RET_293   RET_281   RET_193    RET_95   RET_162   RET_297  \n",
       "3316  0.014733 -0.000476  0.006539 -0.010233  0.001251 -0.003102 -0.094847  \n",
       "3355 -0.002341  0.061228  0.005301  0.008942 -0.010232  0.005529  0.006545  \n",
       "1662 -0.000716  0.008429 -0.002871  0.009932  0.023721  0.009349  0.033554  \n",
       "3405  0.009507 -0.008005 -0.016593 -0.007481 -0.024835  0.004360  0.031087  \n",
       "1602  0.004408 -0.022913 -0.010133 -0.006468 -0.025205 -0.001612 -0.056735  \n",
       "...        ...       ...       ...       ...       ...       ...       ...  \n",
       "3332  0.016216 -0.010907 -0.043811 -0.003677  0.003975 -0.004490 -0.005928  \n",
       "2314  0.026210 -0.001437  0.011124 -0.000478 -0.013254  0.043495  0.002780  \n",
       "1863  0.001214 -0.003871 -0.010329 -0.001843  0.009359 -0.017191 -0.012770  \n",
       "2868 -0.045902 -0.008034 -0.016351 -0.001056 -0.018058 -0.012541 -0.001299  \n",
       "3028  0.022241  0.008688  0.006896  0.005854 -0.003103 -0.022325  0.014949  \n",
       "\n",
       "[2748 rows x 100 columns]"
      ]
     },
     "execution_count": 260,
     "metadata": {},
     "output_type": "execute_result"
    }
   ],
   "source": [
    "df = returns[init_ret_features]\n",
    "df = df.fillna(df.mean())\n",
    "df "
   ]
  },
  {
   "cell_type": "code",
   "execution_count": 261,
   "id": "21b6d31d-0d66-4f39-8bcf-368f4376eaee",
   "metadata": {
    "tags": []
   },
   "outputs": [],
   "source": [
    "number_of_symbols = init_ret_features.size\n",
    "\n",
    "# Calculate the Log of returns.\n",
    "log_return = np.log(1 + df)"
   ]
  },
  {
   "cell_type": "code",
   "execution_count": 243,
   "id": "67bab7be-5194-4455-941f-f416b894e3a6",
   "metadata": {
    "tags": []
   },
   "outputs": [],
   "source": [
    "import scipy.optimize as sci_opt\n",
    "\n",
    "def get_metrics(weights: list) -> np.array:\n",
    "    weights = np.array(weights) # Convert to a Numpy Array.\n",
    "    ret = np.sum(log_return.mean() * weights) * 252 # Calculate the returns, remember to annualize them (252).\n",
    "\n",
    "    # Calculate the volatility, remember to annualize them (252).\n",
    "    vol = np.sqrt(\n",
    "        np.dot(weights.T, np.dot(log_return.cov() * 252, weights))\n",
    "        )\n",
    "\n",
    "    sr = ret / vol # Calculate the Sharpe Ratio.\n",
    "    return np.array([ret, vol, sr])\n",
    "\n",
    "def grab_negative_sharpe(weights: list) -> np.array:\n",
    "    return - get_metrics(weights)[2]  # negative sharpe ratio \n",
    "\n",
    "def grab_volatility(weights: list) -> np.array:\n",
    "    return get_metrics(weights)[1]\n",
    "\n",
    "def check_sum(weights: list) -> float:\n",
    "    return np.sum(weights) - 1\n"
   ]
  },
  {
   "cell_type": "code",
   "execution_count": 262,
   "id": "e3730d93-1459-4801-949d-bd408ef17673",
   "metadata": {
    "tags": []
   },
   "outputs": [
    {
     "name": "stdout",
     "output_type": "stream",
     "text": [
      "\n",
      "================================================================================\n",
      "OPTIMIZED SHARPE RATIO:\n",
      "--------------------------------------------------------------------------------\n",
      " message: Optimization terminated successfully\n",
      " success: True\n",
      "  status: 0\n",
      "     fun: -0.9173863327805641\n",
      "       x: [ 0.000e+00  2.039e-15 ...  8.090e-16  0.000e+00]\n",
      "     nit: 9\n",
      "     jac: [ 4.321e-01  7.037e-02 ...  3.128e-01  9.377e-01]\n",
      "    nfev: 910\n",
      "    njev: 9\n",
      "--------------------------------------------------------------------------------\n"
     ]
    }
   ],
   "source": [
    "# Define the boundaries for each symbol. Remember I can only invest up to 100% of my capital into a single asset.\n",
    "bounds = tuple((0, 1) for symbol in range(number_of_symbols))\n",
    "\n",
    "# Define the constraints, here I'm saying that the sum of each weight must not exceed 100%.\n",
    "constraints = ({'type': 'eq', 'fun': check_sum})\n",
    "\n",
    "# We need to create an initial guess to start with, and usually the best initial guess is just a uniform distribution. \n",
    "init_guess = number_of_symbols * [1 / number_of_symbols]\n",
    "\n",
    "# Perform the operation to minimize the risk.\n",
    "optimized_sharpe = sci_opt.minimize(\n",
    "    grab_negative_sharpe, # minimize this.\n",
    "    init_guess, # Start with these values.\n",
    "    method='SLSQP', # Sequential Least Squares Programming\n",
    "    bounds=bounds, # don't exceed these bounds.\n",
    "    constraints=constraints # make sure you don't exceed the 100% constraint.\n",
    ")\n",
    "\n",
    "# Print the results.\n",
    "print('')\n",
    "print('='*80)\n",
    "print('OPTIMIZED SHARPE RATIO:')\n",
    "print('-'*80)\n",
    "print(optimized_sharpe)\n",
    "print('-'*80)"
   ]
  },
  {
   "cell_type": "code",
   "execution_count": 263,
   "id": "f7dfe55c-814b-4f4a-a309-0ae68ed9fe64",
   "metadata": {
    "tags": []
   },
   "outputs": [
    {
     "name": "stdout",
     "output_type": "stream",
     "text": [
      "\n",
      "================================================================================\n",
      "OPTIMIZED WEIGHTS:\n",
      "--------------------------------------------------------------------------------\n",
      "[0.00000000e+00 2.03919288e-15 0.00000000e+00 0.00000000e+00\n",
      " 0.00000000e+00 2.25364194e-16 1.82809018e-16 1.09080321e-16\n",
      " 0.00000000e+00 0.00000000e+00 9.49531194e-16 8.22706843e-16\n",
      " 0.00000000e+00 3.74356633e-16 0.00000000e+00 0.00000000e+00\n",
      " 0.00000000e+00 0.00000000e+00 0.00000000e+00 7.99491963e-16\n",
      " 0.00000000e+00 2.52870346e-01 0.00000000e+00 1.61182242e-17\n",
      " 4.61107956e-16 3.43066437e-02 1.66569721e-16 2.29548056e-16\n",
      " 4.82363850e-16 1.28359237e-15 0.00000000e+00 0.00000000e+00\n",
      " 7.55298168e-17 0.00000000e+00 0.00000000e+00 1.68466867e-16\n",
      " 9.21036910e-16 8.51852710e-16 4.53922841e-16 2.30399207e-01\n",
      " 0.00000000e+00 0.00000000e+00 1.11957865e-15 0.00000000e+00\n",
      " 0.00000000e+00 1.33897880e-15 0.00000000e+00 0.00000000e+00\n",
      " 1.40252453e-15 0.00000000e+00 8.74723908e-16 3.63599400e-16\n",
      " 1.18898887e-01 7.45814569e-16 5.52861738e-16 1.38709861e-16\n",
      " 3.61315308e-16 0.00000000e+00 0.00000000e+00 1.16519375e-01\n",
      " 0.00000000e+00 6.41969793e-02 0.00000000e+00 1.20558845e-15\n",
      " 8.49355421e-16 0.00000000e+00 0.00000000e+00 0.00000000e+00\n",
      " 0.00000000e+00 6.82550005e-16 4.96669288e-02 4.98915708e-16\n",
      " 0.00000000e+00 0.00000000e+00 3.21451081e-02 1.11825312e-15\n",
      " 2.18420581e-15 1.96678230e-02 0.00000000e+00 0.00000000e+00\n",
      " 1.27343559e-17 1.24462861e-15 1.42237361e-15 5.66138535e-16\n",
      " 0.00000000e+00 1.49221809e-15 1.11290248e-16 1.65261515e-16\n",
      " 0.00000000e+00 1.87720844e-15 8.13287025e-02 1.90434411e-17\n",
      " 6.68268419e-16 0.00000000e+00 0.00000000e+00 1.58655465e-15\n",
      " 4.48108359e-16 0.00000000e+00 8.09020450e-16 0.00000000e+00]\n",
      "--------------------------------------------------------------------------------\n",
      "\n",
      "================================================================================\n",
      "OPTIMIZED METRICS:\n",
      "--------------------------------------------------------------------------------\n",
      "[0.23510687 0.25627902 0.91738633]\n",
      "--------------------------------------------------------------------------------\n"
     ]
    }
   ],
   "source": [
    "# Grab the metrics.\n",
    "optimized_metrics = get_metrics(weights=optimized_sharpe.x)\n",
    "\n",
    "# Print the Optimized Weights.\n",
    "print('')\n",
    "print('='*80)\n",
    "print('OPTIMIZED WEIGHTS:')\n",
    "print('-'*80)\n",
    "print(optimized_sharpe.x)\n",
    "print('-'*80)\n",
    "\n",
    "\n",
    "# Print the Optimized Metrics.\n",
    "print('')\n",
    "print('='*80)\n",
    "print('OPTIMIZED METRICS:')\n",
    "print('-'*80)\n",
    "print(optimized_metrics)\n",
    "print('-'*80)"
   ]
  },
  {
   "cell_type": "markdown",
   "id": "929de44f-8698-4a70-b0c8-89e4d64e381b",
   "metadata": {},
   "source": [
    "- So we find a portfolio with Sharpe Ratio 0.91738633 and the following weights:"
   ]
  },
  {
   "cell_type": "code",
   "execution_count": 264,
   "id": "2ca6f318-ada9-445d-8893-065111326488",
   "metadata": {
    "tags": []
   },
   "outputs": [
    {
     "data": {
      "text/plain": [
       "(100,)"
      ]
     },
     "execution_count": 264,
     "metadata": {},
     "output_type": "execute_result"
    }
   ],
   "source": [
    "weights = optimized_sharpe.x\n",
    "weights.shape"
   ]
  },
  {
   "cell_type": "markdown",
   "id": "dbb18721-d6a8-48bd-8fe0-bfcc6d0f4dd9",
   "metadata": {
    "tags": []
   },
   "source": [
    "- Now that we have the 'Market portfolio', we need to compute the daily returns: $R = w_i R_i$ should do"
   ]
  },
  {
   "cell_type": "code",
   "execution_count": 286,
   "id": "938da60c-6ed6-456d-9402-a838dc08d4e9",
   "metadata": {
    "tags": []
   },
   "outputs": [
    {
     "name": "stderr",
     "output_type": "stream",
     "text": [
      "2748it [00:00, 18582.62it/s]\n"
     ]
    }
   ],
   "source": [
    "market_returns = {}\n",
    "\n",
    "for idx, row in tqdm(df.iterrows()):\n",
    "    market_returns[idx] = np.dot(row, weights)\n"
   ]
  },
  {
   "cell_type": "code",
   "execution_count": 283,
   "id": "5a0f676b-11a1-4cf9-a58e-9e257de11ac2",
   "metadata": {
    "tags": []
   },
   "outputs": [
    {
     "data": {
      "text/html": [
       "<div>\n",
       "<style scoped>\n",
       "    .dataframe tbody tr th:only-of-type {\n",
       "        vertical-align: middle;\n",
       "    }\n",
       "\n",
       "    .dataframe tbody tr th {\n",
       "        vertical-align: top;\n",
       "    }\n",
       "\n",
       "    .dataframe thead th {\n",
       "        text-align: right;\n",
       "    }\n",
       "</style>\n",
       "<table border=\"1\" class=\"dataframe\">\n",
       "  <thead>\n",
       "    <tr style=\"text-align: right;\">\n",
       "      <th></th>\n",
       "      <th>RET_MARKET</th>\n",
       "    </tr>\n",
       "  </thead>\n",
       "  <tbody>\n",
       "    <tr>\n",
       "      <th>3316</th>\n",
       "      <td>0.008749</td>\n",
       "    </tr>\n",
       "    <tr>\n",
       "      <th>3355</th>\n",
       "      <td>-0.005496</td>\n",
       "    </tr>\n",
       "    <tr>\n",
       "      <th>1662</th>\n",
       "      <td>0.006109</td>\n",
       "    </tr>\n",
       "    <tr>\n",
       "      <th>3405</th>\n",
       "      <td>-0.016502</td>\n",
       "    </tr>\n",
       "    <tr>\n",
       "      <th>1602</th>\n",
       "      <td>-0.012407</td>\n",
       "    </tr>\n",
       "    <tr>\n",
       "      <th>...</th>\n",
       "      <td>...</td>\n",
       "    </tr>\n",
       "    <tr>\n",
       "      <th>3332</th>\n",
       "      <td>-0.015332</td>\n",
       "    </tr>\n",
       "    <tr>\n",
       "      <th>2314</th>\n",
       "      <td>-0.005367</td>\n",
       "    </tr>\n",
       "    <tr>\n",
       "      <th>1863</th>\n",
       "      <td>-0.002475</td>\n",
       "    </tr>\n",
       "    <tr>\n",
       "      <th>2868</th>\n",
       "      <td>0.016731</td>\n",
       "    </tr>\n",
       "    <tr>\n",
       "      <th>3028</th>\n",
       "      <td>0.019850</td>\n",
       "    </tr>\n",
       "  </tbody>\n",
       "</table>\n",
       "<p>2748 rows × 1 columns</p>\n",
       "</div>"
      ],
      "text/plain": [
       "      RET_MARKET\n",
       "3316    0.008749\n",
       "3355   -0.005496\n",
       "1662    0.006109\n",
       "3405   -0.016502\n",
       "1602   -0.012407\n",
       "...          ...\n",
       "3332   -0.015332\n",
       "2314   -0.005367\n",
       "1863   -0.002475\n",
       "2868    0.016731\n",
       "3028    0.019850\n",
       "\n",
       "[2748 rows x 1 columns]"
      ]
     },
     "execution_count": 283,
     "metadata": {},
     "output_type": "execute_result"
    }
   ],
   "source": [
    "market_returns1 = pd.DataFrame.from_dict(market_returns, orient='index', columns = [\"RET_MARKET\"])\n",
    "market_returns1"
   ]
  },
  {
   "cell_type": "code",
   "execution_count": 291,
   "id": "952ec6a0-a5ae-424a-b47c-993262c32362",
   "metadata": {
    "tags": []
   },
   "outputs": [
    {
     "name": "stderr",
     "output_type": "stream",
     "text": [
      "C:\\Users\\some3785\\AppData\\Local\\Temp\\ipykernel_13496\\3616837889.py:2: SettingWithCopyWarning: \n",
      "A value is trying to be set on a copy of a slice from a DataFrame.\n",
      "Try using .loc[row_indexer,col_indexer] = value instead\n",
      "\n",
      "See the caveats in the documentation: https://pandas.pydata.org/pandas-docs/stable/user_guide/indexing.html#returning-a-view-versus-a-copy\n",
      "  df1['RET_MARKET'] = market_returns1['RET_MARKET'].to_numpy()\n"
     ]
    },
    {
     "data": {
      "text/html": [
       "<div>\n",
       "<style scoped>\n",
       "    .dataframe tbody tr th:only-of-type {\n",
       "        vertical-align: middle;\n",
       "    }\n",
       "\n",
       "    .dataframe tbody tr th {\n",
       "        vertical-align: top;\n",
       "    }\n",
       "\n",
       "    .dataframe thead th {\n",
       "        text-align: right;\n",
       "    }\n",
       "</style>\n",
       "<table border=\"1\" class=\"dataframe\">\n",
       "  <thead>\n",
       "    <tr style=\"text-align: right;\">\n",
       "      <th></th>\n",
       "      <th>RET_139</th>\n",
       "      <th>RET_129</th>\n",
       "      <th>RET_136</th>\n",
       "      <th>RET_161</th>\n",
       "      <th>RET_217</th>\n",
       "      <th>RET_91</th>\n",
       "      <th>RET_137</th>\n",
       "      <th>RET_8</th>\n",
       "      <th>RET_3</th>\n",
       "      <th>RET_9</th>\n",
       "      <th>...</th>\n",
       "      <th>RET_28</th>\n",
       "      <th>RET_251</th>\n",
       "      <th>RET_278</th>\n",
       "      <th>RET_76</th>\n",
       "      <th>RET_241</th>\n",
       "      <th>RET_214</th>\n",
       "      <th>RET_102</th>\n",
       "      <th>RET_145</th>\n",
       "      <th>RET_155</th>\n",
       "      <th>RET_MARKET</th>\n",
       "    </tr>\n",
       "  </thead>\n",
       "  <tbody>\n",
       "    <tr>\n",
       "      <th>3316</th>\n",
       "      <td>-0.022351</td>\n",
       "      <td>-0.011892</td>\n",
       "      <td>-0.015285</td>\n",
       "      <td>-0.019226</td>\n",
       "      <td>0.006644</td>\n",
       "      <td>0.038581</td>\n",
       "      <td>-0.027564</td>\n",
       "      <td>-0.006485</td>\n",
       "      <td>0.001636</td>\n",
       "      <td>0.008602</td>\n",
       "      <td>...</td>\n",
       "      <td>0.003896</td>\n",
       "      <td>0.021969</td>\n",
       "      <td>-0.011481</td>\n",
       "      <td>0.005774</td>\n",
       "      <td>0.013807</td>\n",
       "      <td>0.018478</td>\n",
       "      <td>0.005316</td>\n",
       "      <td>0.019524</td>\n",
       "      <td>0.024187</td>\n",
       "      <td>0.008749</td>\n",
       "    </tr>\n",
       "    <tr>\n",
       "      <th>3355</th>\n",
       "      <td>0.008354</td>\n",
       "      <td>0.006387</td>\n",
       "      <td>0.016149</td>\n",
       "      <td>-0.066479</td>\n",
       "      <td>-0.008493</td>\n",
       "      <td>-0.018643</td>\n",
       "      <td>-0.019316</td>\n",
       "      <td>0.013662</td>\n",
       "      <td>-0.009729</td>\n",
       "      <td>0.001658</td>\n",
       "      <td>...</td>\n",
       "      <td>-0.014319</td>\n",
       "      <td>-0.041155</td>\n",
       "      <td>0.005281</td>\n",
       "      <td>-0.016182</td>\n",
       "      <td>0.012736</td>\n",
       "      <td>0.011762</td>\n",
       "      <td>0.007938</td>\n",
       "      <td>-0.006012</td>\n",
       "      <td>0.051994</td>\n",
       "      <td>-0.005496</td>\n",
       "    </tr>\n",
       "    <tr>\n",
       "      <th>1662</th>\n",
       "      <td>0.012218</td>\n",
       "      <td>-0.018714</td>\n",
       "      <td>0.003823</td>\n",
       "      <td>0.023728</td>\n",
       "      <td>-0.011891</td>\n",
       "      <td>-0.026479</td>\n",
       "      <td>0.019207</td>\n",
       "      <td>-0.015060</td>\n",
       "      <td>-0.002181</td>\n",
       "      <td>-0.016289</td>\n",
       "      <td>...</td>\n",
       "      <td>-0.007979</td>\n",
       "      <td>-0.006814</td>\n",
       "      <td>0.005620</td>\n",
       "      <td>0.001881</td>\n",
       "      <td>0.001445</td>\n",
       "      <td>0.005860</td>\n",
       "      <td>0.007901</td>\n",
       "      <td>0.005987</td>\n",
       "      <td>0.029763</td>\n",
       "      <td>0.006109</td>\n",
       "    </tr>\n",
       "    <tr>\n",
       "      <th>3405</th>\n",
       "      <td>-0.004456</td>\n",
       "      <td>-0.005490</td>\n",
       "      <td>-0.009667</td>\n",
       "      <td>0.000411</td>\n",
       "      <td>0.027863</td>\n",
       "      <td>0.029652</td>\n",
       "      <td>-0.010765</td>\n",
       "      <td>0.000756</td>\n",
       "      <td>-0.010372</td>\n",
       "      <td>0.021897</td>\n",
       "      <td>...</td>\n",
       "      <td>0.010628</td>\n",
       "      <td>-0.000260</td>\n",
       "      <td>-0.015552</td>\n",
       "      <td>-0.002899</td>\n",
       "      <td>-0.009160</td>\n",
       "      <td>-0.009073</td>\n",
       "      <td>0.004325</td>\n",
       "      <td>-0.010975</td>\n",
       "      <td>-0.027428</td>\n",
       "      <td>-0.016502</td>\n",
       "    </tr>\n",
       "    <tr>\n",
       "      <th>1602</th>\n",
       "      <td>0.008788</td>\n",
       "      <td>-0.022748</td>\n",
       "      <td>-0.032628</td>\n",
       "      <td>-0.040292</td>\n",
       "      <td>0.020774</td>\n",
       "      <td>0.014627</td>\n",
       "      <td>-0.004642</td>\n",
       "      <td>-0.018739</td>\n",
       "      <td>0.041263</td>\n",
       "      <td>0.016530</td>\n",
       "      <td>...</td>\n",
       "      <td>-0.009417</td>\n",
       "      <td>0.007602</td>\n",
       "      <td>0.004367</td>\n",
       "      <td>-0.010166</td>\n",
       "      <td>-0.001703</td>\n",
       "      <td>0.018822</td>\n",
       "      <td>0.008947</td>\n",
       "      <td>-0.016812</td>\n",
       "      <td>-0.043582</td>\n",
       "      <td>-0.012407</td>\n",
       "    </tr>\n",
       "    <tr>\n",
       "      <th>...</th>\n",
       "      <td>...</td>\n",
       "      <td>...</td>\n",
       "      <td>...</td>\n",
       "      <td>...</td>\n",
       "      <td>...</td>\n",
       "      <td>...</td>\n",
       "      <td>...</td>\n",
       "      <td>...</td>\n",
       "      <td>...</td>\n",
       "      <td>...</td>\n",
       "      <td>...</td>\n",
       "      <td>...</td>\n",
       "      <td>...</td>\n",
       "      <td>...</td>\n",
       "      <td>...</td>\n",
       "      <td>...</td>\n",
       "      <td>...</td>\n",
       "      <td>...</td>\n",
       "      <td>...</td>\n",
       "      <td>...</td>\n",
       "      <td>...</td>\n",
       "    </tr>\n",
       "    <tr>\n",
       "      <th>3332</th>\n",
       "      <td>0.019691</td>\n",
       "      <td>0.011514</td>\n",
       "      <td>-0.001988</td>\n",
       "      <td>-0.025836</td>\n",
       "      <td>0.025985</td>\n",
       "      <td>-0.004481</td>\n",
       "      <td>-0.028998</td>\n",
       "      <td>0.021548</td>\n",
       "      <td>0.006525</td>\n",
       "      <td>-0.009443</td>\n",
       "      <td>...</td>\n",
       "      <td>0.005536</td>\n",
       "      <td>-0.008441</td>\n",
       "      <td>-0.010259</td>\n",
       "      <td>0.006600</td>\n",
       "      <td>0.002275</td>\n",
       "      <td>-0.014070</td>\n",
       "      <td>0.008916</td>\n",
       "      <td>-0.013456</td>\n",
       "      <td>0.041931</td>\n",
       "      <td>-0.015332</td>\n",
       "    </tr>\n",
       "    <tr>\n",
       "      <th>2314</th>\n",
       "      <td>0.001614</td>\n",
       "      <td>0.001712</td>\n",
       "      <td>0.001527</td>\n",
       "      <td>-0.020972</td>\n",
       "      <td>-0.006676</td>\n",
       "      <td>0.008056</td>\n",
       "      <td>0.027826</td>\n",
       "      <td>-0.002929</td>\n",
       "      <td>-0.009770</td>\n",
       "      <td>0.002149</td>\n",
       "      <td>...</td>\n",
       "      <td>-0.000279</td>\n",
       "      <td>0.005777</td>\n",
       "      <td>0.000702</td>\n",
       "      <td>0.003807</td>\n",
       "      <td>-0.005226</td>\n",
       "      <td>0.015998</td>\n",
       "      <td>0.009608</td>\n",
       "      <td>-0.003654</td>\n",
       "      <td>-0.019130</td>\n",
       "      <td>-0.005367</td>\n",
       "    </tr>\n",
       "    <tr>\n",
       "      <th>1863</th>\n",
       "      <td>0.003476</td>\n",
       "      <td>0.011180</td>\n",
       "      <td>0.000912</td>\n",
       "      <td>-0.054898</td>\n",
       "      <td>-0.003096</td>\n",
       "      <td>-0.018977</td>\n",
       "      <td>-0.006847</td>\n",
       "      <td>0.013717</td>\n",
       "      <td>-0.004258</td>\n",
       "      <td>-0.002974</td>\n",
       "      <td>...</td>\n",
       "      <td>-0.003095</td>\n",
       "      <td>-0.001099</td>\n",
       "      <td>-0.020561</td>\n",
       "      <td>-0.008325</td>\n",
       "      <td>-0.001570</td>\n",
       "      <td>-0.009728</td>\n",
       "      <td>-0.018022</td>\n",
       "      <td>-0.042102</td>\n",
       "      <td>0.015095</td>\n",
       "      <td>-0.002475</td>\n",
       "    </tr>\n",
       "    <tr>\n",
       "      <th>2868</th>\n",
       "      <td>-0.002670</td>\n",
       "      <td>0.009382</td>\n",
       "      <td>0.012957</td>\n",
       "      <td>0.068866</td>\n",
       "      <td>-0.013242</td>\n",
       "      <td>-0.013654</td>\n",
       "      <td>-0.023191</td>\n",
       "      <td>-0.008903</td>\n",
       "      <td>-0.013090</td>\n",
       "      <td>0.006387</td>\n",
       "      <td>...</td>\n",
       "      <td>-0.026884</td>\n",
       "      <td>-0.008646</td>\n",
       "      <td>-0.006960</td>\n",
       "      <td>-0.009163</td>\n",
       "      <td>0.004338</td>\n",
       "      <td>-0.017995</td>\n",
       "      <td>-0.012663</td>\n",
       "      <td>-0.002804</td>\n",
       "      <td>-0.009511</td>\n",
       "      <td>0.016731</td>\n",
       "    </tr>\n",
       "    <tr>\n",
       "      <th>3028</th>\n",
       "      <td>-0.016508</td>\n",
       "      <td>-0.006000</td>\n",
       "      <td>-0.003255</td>\n",
       "      <td>-0.010969</td>\n",
       "      <td>-0.004491</td>\n",
       "      <td>-0.019258</td>\n",
       "      <td>-0.008982</td>\n",
       "      <td>0.013676</td>\n",
       "      <td>0.012288</td>\n",
       "      <td>-0.019442</td>\n",
       "      <td>...</td>\n",
       "      <td>0.010414</td>\n",
       "      <td>0.006516</td>\n",
       "      <td>0.015377</td>\n",
       "      <td>-0.008216</td>\n",
       "      <td>0.002080</td>\n",
       "      <td>-0.002565</td>\n",
       "      <td>-0.018406</td>\n",
       "      <td>0.045101</td>\n",
       "      <td>0.005056</td>\n",
       "      <td>0.019850</td>\n",
       "    </tr>\n",
       "  </tbody>\n",
       "</table>\n",
       "<p>2748 rows × 101 columns</p>\n",
       "</div>"
      ],
      "text/plain": [
       "       RET_139   RET_129   RET_136   RET_161   RET_217    RET_91   RET_137   \n",
       "3316 -0.022351 -0.011892 -0.015285 -0.019226  0.006644  0.038581 -0.027564  \\\n",
       "3355  0.008354  0.006387  0.016149 -0.066479 -0.008493 -0.018643 -0.019316   \n",
       "1662  0.012218 -0.018714  0.003823  0.023728 -0.011891 -0.026479  0.019207   \n",
       "3405 -0.004456 -0.005490 -0.009667  0.000411  0.027863  0.029652 -0.010765   \n",
       "1602  0.008788 -0.022748 -0.032628 -0.040292  0.020774  0.014627 -0.004642   \n",
       "...        ...       ...       ...       ...       ...       ...       ...   \n",
       "3332  0.019691  0.011514 -0.001988 -0.025836  0.025985 -0.004481 -0.028998   \n",
       "2314  0.001614  0.001712  0.001527 -0.020972 -0.006676  0.008056  0.027826   \n",
       "1863  0.003476  0.011180  0.000912 -0.054898 -0.003096 -0.018977 -0.006847   \n",
       "2868 -0.002670  0.009382  0.012957  0.068866 -0.013242 -0.013654 -0.023191   \n",
       "3028 -0.016508 -0.006000 -0.003255 -0.010969 -0.004491 -0.019258 -0.008982   \n",
       "\n",
       "         RET_8     RET_3     RET_9  ...    RET_28   RET_251   RET_278   \n",
       "3316 -0.006485  0.001636  0.008602  ...  0.003896  0.021969 -0.011481  \\\n",
       "3355  0.013662 -0.009729  0.001658  ... -0.014319 -0.041155  0.005281   \n",
       "1662 -0.015060 -0.002181 -0.016289  ... -0.007979 -0.006814  0.005620   \n",
       "3405  0.000756 -0.010372  0.021897  ...  0.010628 -0.000260 -0.015552   \n",
       "1602 -0.018739  0.041263  0.016530  ... -0.009417  0.007602  0.004367   \n",
       "...        ...       ...       ...  ...       ...       ...       ...   \n",
       "3332  0.021548  0.006525 -0.009443  ...  0.005536 -0.008441 -0.010259   \n",
       "2314 -0.002929 -0.009770  0.002149  ... -0.000279  0.005777  0.000702   \n",
       "1863  0.013717 -0.004258 -0.002974  ... -0.003095 -0.001099 -0.020561   \n",
       "2868 -0.008903 -0.013090  0.006387  ... -0.026884 -0.008646 -0.006960   \n",
       "3028  0.013676  0.012288 -0.019442  ...  0.010414  0.006516  0.015377   \n",
       "\n",
       "        RET_76   RET_241   RET_214   RET_102   RET_145   RET_155  RET_MARKET  \n",
       "3316  0.005774  0.013807  0.018478  0.005316  0.019524  0.024187    0.008749  \n",
       "3355 -0.016182  0.012736  0.011762  0.007938 -0.006012  0.051994   -0.005496  \n",
       "1662  0.001881  0.001445  0.005860  0.007901  0.005987  0.029763    0.006109  \n",
       "3405 -0.002899 -0.009160 -0.009073  0.004325 -0.010975 -0.027428   -0.016502  \n",
       "1602 -0.010166 -0.001703  0.018822  0.008947 -0.016812 -0.043582   -0.012407  \n",
       "...        ...       ...       ...       ...       ...       ...         ...  \n",
       "3332  0.006600  0.002275 -0.014070  0.008916 -0.013456  0.041931   -0.015332  \n",
       "2314  0.003807 -0.005226  0.015998  0.009608 -0.003654 -0.019130   -0.005367  \n",
       "1863 -0.008325 -0.001570 -0.009728 -0.018022 -0.042102  0.015095   -0.002475  \n",
       "2868 -0.009163  0.004338 -0.017995 -0.012663 -0.002804 -0.009511    0.016731  \n",
       "3028 -0.008216  0.002080 -0.002565 -0.018406  0.045101  0.005056    0.019850  \n",
       "\n",
       "[2748 rows x 101 columns]"
      ]
     },
     "execution_count": 291,
     "metadata": {},
     "output_type": "execute_result"
    }
   ],
   "source": [
    "df1 = returns[target_ret_features]\n",
    "df1['RET_MARKET'] = market_returns1['RET_MARKET'].to_numpy()\n",
    "df1"
   ]
  },
  {
   "cell_type": "markdown",
   "id": "1df180da-ab34-4822-8479-e71de99c82e8",
   "metadata": {},
   "source": [
    "- Now, let us compute the betas of the liquid assets with the Market:"
   ]
  },
  {
   "cell_type": "code",
   "execution_count": 340,
   "id": "58f342ac-ff1a-4376-84d9-e3ce2b7e51db",
   "metadata": {
    "tags": []
   },
   "outputs": [
    {
     "data": {
      "text/html": [
       "<div>\n",
       "<style scoped>\n",
       "    .dataframe tbody tr th:only-of-type {\n",
       "        vertical-align: middle;\n",
       "    }\n",
       "\n",
       "    .dataframe tbody tr th {\n",
       "        vertical-align: top;\n",
       "    }\n",
       "\n",
       "    .dataframe thead th {\n",
       "        text-align: right;\n",
       "    }\n",
       "</style>\n",
       "<table border=\"1\" class=\"dataframe\">\n",
       "  <thead>\n",
       "    <tr style=\"text-align: right;\">\n",
       "      <th></th>\n",
       "      <th>RET_139</th>\n",
       "      <th>RET_129</th>\n",
       "      <th>RET_136</th>\n",
       "      <th>RET_161</th>\n",
       "      <th>RET_217</th>\n",
       "      <th>RET_91</th>\n",
       "      <th>RET_137</th>\n",
       "      <th>RET_8</th>\n",
       "      <th>RET_3</th>\n",
       "      <th>RET_9</th>\n",
       "      <th>...</th>\n",
       "      <th>RET_28</th>\n",
       "      <th>RET_251</th>\n",
       "      <th>RET_278</th>\n",
       "      <th>RET_76</th>\n",
       "      <th>RET_241</th>\n",
       "      <th>RET_214</th>\n",
       "      <th>RET_102</th>\n",
       "      <th>RET_145</th>\n",
       "      <th>RET_155</th>\n",
       "      <th>RET_MARKET</th>\n",
       "    </tr>\n",
       "  </thead>\n",
       "  <tbody>\n",
       "    <tr>\n",
       "      <th>RET_139</th>\n",
       "      <td>1.000000</td>\n",
       "      <td>-0.011493</td>\n",
       "      <td>-0.067676</td>\n",
       "      <td>-0.018271</td>\n",
       "      <td>-0.069683</td>\n",
       "      <td>-0.017063</td>\n",
       "      <td>0.088751</td>\n",
       "      <td>-0.063662</td>\n",
       "      <td>0.013837</td>\n",
       "      <td>-0.039862</td>\n",
       "      <td>...</td>\n",
       "      <td>-0.009811</td>\n",
       "      <td>-0.013257</td>\n",
       "      <td>-0.002123</td>\n",
       "      <td>0.015522</td>\n",
       "      <td>-0.016804</td>\n",
       "      <td>0.022650</td>\n",
       "      <td>0.030636</td>\n",
       "      <td>-0.027391</td>\n",
       "      <td>-0.001715</td>\n",
       "      <td>-0.020500</td>\n",
       "    </tr>\n",
       "    <tr>\n",
       "      <th>RET_129</th>\n",
       "      <td>-0.010353</td>\n",
       "      <td>1.000000</td>\n",
       "      <td>0.413534</td>\n",
       "      <td>-0.109138</td>\n",
       "      <td>-0.133923</td>\n",
       "      <td>-0.164515</td>\n",
       "      <td>-0.095433</td>\n",
       "      <td>0.295644</td>\n",
       "      <td>-0.098974</td>\n",
       "      <td>0.016246</td>\n",
       "      <td>...</td>\n",
       "      <td>-0.079161</td>\n",
       "      <td>-0.075025</td>\n",
       "      <td>-0.075031</td>\n",
       "      <td>-0.104999</td>\n",
       "      <td>-0.104888</td>\n",
       "      <td>-0.097002</td>\n",
       "      <td>-0.073931</td>\n",
       "      <td>-0.084829</td>\n",
       "      <td>-0.075374</td>\n",
       "      <td>-0.170488</td>\n",
       "    </tr>\n",
       "    <tr>\n",
       "      <th>RET_136</th>\n",
       "      <td>-0.048406</td>\n",
       "      <td>0.328349</td>\n",
       "      <td>1.000000</td>\n",
       "      <td>-0.084231</td>\n",
       "      <td>-0.124058</td>\n",
       "      <td>-0.130431</td>\n",
       "      <td>-0.063649</td>\n",
       "      <td>0.202547</td>\n",
       "      <td>-0.059884</td>\n",
       "      <td>-0.012770</td>\n",
       "      <td>...</td>\n",
       "      <td>-0.072345</td>\n",
       "      <td>-0.079806</td>\n",
       "      <td>-0.084788</td>\n",
       "      <td>-0.069406</td>\n",
       "      <td>-0.117164</td>\n",
       "      <td>-0.099727</td>\n",
       "      <td>-0.061018</td>\n",
       "      <td>-0.085456</td>\n",
       "      <td>-0.068679</td>\n",
       "      <td>-0.166166</td>\n",
       "    </tr>\n",
       "    <tr>\n",
       "      <th>RET_161</th>\n",
       "      <td>-0.034450</td>\n",
       "      <td>-0.228435</td>\n",
       "      <td>-0.222040</td>\n",
       "      <td>1.000000</td>\n",
       "      <td>0.038937</td>\n",
       "      <td>0.061047</td>\n",
       "      <td>0.068201</td>\n",
       "      <td>-0.104080</td>\n",
       "      <td>0.067947</td>\n",
       "      <td>-0.005404</td>\n",
       "      <td>...</td>\n",
       "      <td>0.074075</td>\n",
       "      <td>0.074455</td>\n",
       "      <td>0.094598</td>\n",
       "      <td>0.113573</td>\n",
       "      <td>0.137694</td>\n",
       "      <td>0.106223</td>\n",
       "      <td>0.069874</td>\n",
       "      <td>0.241183</td>\n",
       "      <td>0.096585</td>\n",
       "      <td>0.208725</td>\n",
       "    </tr>\n",
       "    <tr>\n",
       "      <th>RET_217</th>\n",
       "      <td>-0.108365</td>\n",
       "      <td>-0.231195</td>\n",
       "      <td>-0.269727</td>\n",
       "      <td>0.032115</td>\n",
       "      <td>1.000000</td>\n",
       "      <td>0.479060</td>\n",
       "      <td>-0.033949</td>\n",
       "      <td>-0.204666</td>\n",
       "      <td>-0.002665</td>\n",
       "      <td>-0.074836</td>\n",
       "      <td>...</td>\n",
       "      <td>0.009635</td>\n",
       "      <td>0.018863</td>\n",
       "      <td>0.025834</td>\n",
       "      <td>0.019906</td>\n",
       "      <td>0.045364</td>\n",
       "      <td>0.006602</td>\n",
       "      <td>0.001826</td>\n",
       "      <td>0.059612</td>\n",
       "      <td>0.027155</td>\n",
       "      <td>0.102821</td>\n",
       "    </tr>\n",
       "  </tbody>\n",
       "</table>\n",
       "<p>5 rows × 101 columns</p>\n",
       "</div>"
      ],
      "text/plain": [
       "          RET_139   RET_129   RET_136   RET_161   RET_217    RET_91   RET_137   \n",
       "RET_139  1.000000 -0.011493 -0.067676 -0.018271 -0.069683 -0.017063  0.088751  \\\n",
       "RET_129 -0.010353  1.000000  0.413534 -0.109138 -0.133923 -0.164515 -0.095433   \n",
       "RET_136 -0.048406  0.328349  1.000000 -0.084231 -0.124058 -0.130431 -0.063649   \n",
       "RET_161 -0.034450 -0.228435 -0.222040  1.000000  0.038937  0.061047  0.068201   \n",
       "RET_217 -0.108365 -0.231195 -0.269727  0.032115  1.000000  0.479060 -0.033949   \n",
       "\n",
       "            RET_8     RET_3     RET_9  ...    RET_28   RET_251   RET_278   \n",
       "RET_139 -0.063662  0.013837 -0.039862  ... -0.009811 -0.013257 -0.002123  \\\n",
       "RET_129  0.295644 -0.098974  0.016246  ... -0.079161 -0.075025 -0.075031   \n",
       "RET_136  0.202547 -0.059884 -0.012770  ... -0.072345 -0.079806 -0.084788   \n",
       "RET_161 -0.104080  0.067947 -0.005404  ...  0.074075  0.074455  0.094598   \n",
       "RET_217 -0.204666 -0.002665 -0.074836  ...  0.009635  0.018863  0.025834   \n",
       "\n",
       "           RET_76   RET_241   RET_214   RET_102   RET_145   RET_155   \n",
       "RET_139  0.015522 -0.016804  0.022650  0.030636 -0.027391 -0.001715  \\\n",
       "RET_129 -0.104999 -0.104888 -0.097002 -0.073931 -0.084829 -0.075374   \n",
       "RET_136 -0.069406 -0.117164 -0.099727 -0.061018 -0.085456 -0.068679   \n",
       "RET_161  0.113573  0.137694  0.106223  0.069874  0.241183  0.096585   \n",
       "RET_217  0.019906  0.045364  0.006602  0.001826  0.059612  0.027155   \n",
       "\n",
       "         RET_MARKET  \n",
       "RET_139   -0.020500  \n",
       "RET_129   -0.170488  \n",
       "RET_136   -0.166166  \n",
       "RET_161    0.208725  \n",
       "RET_217    0.102821  \n",
       "\n",
       "[5 rows x 101 columns]"
      ]
     },
     "execution_count": 340,
     "metadata": {},
     "output_type": "execute_result"
    }
   ],
   "source": [
    "features = df1.columns\n",
    "cov = pd.DataFrame(oas(df1.fillna(df1.mean()))[0], index=features, columns=features)\n",
    "beta = cov / np.diag(cov)\n",
    "beta.head()"
   ]
  },
  {
   "cell_type": "code",
   "execution_count": 341,
   "id": "ba4fde3e-c92d-44a6-b6bd-96ab28bc04ec",
   "metadata": {
    "tags": []
   },
   "outputs": [
    {
     "name": "stderr",
     "output_type": "stream",
     "text": [
      "100%|████████████████████████████████████████████████████████████████████████████| 100/100 [00:00<00:00, 100294.21it/s]\n"
     ]
    }
   ],
   "source": [
    "proj_matrix = beta.T.loc['RET_MARKET', target_ret_features] # look at beta between X and Y features only \n",
    "# corr = returns.corr().loc['RET_MARKET', target_ret_features] # Compute Correlation between X and Y features \n",
    "\n",
    "coeffs_m = {}\n",
    "for id_target in tqdm(target_ret_features): # for every Y feature\n",
    "    j = int(id_target.replace('RET_', ''))\n",
    "    coeffs_m[j] = proj_matrix[id_target]  # store in coeffs Y_feat: \n"
   ]
  },
  {
   "cell_type": "code",
   "execution_count": 315,
   "id": "38b90e22-d141-467c-beab-0a3ee4073cf7",
   "metadata": {
    "tags": []
   },
   "outputs": [
    {
     "name": "stderr",
     "output_type": "stream",
     "text": [
      "267100it [00:10, 24974.24it/s]\n"
     ]
    }
   ],
   "source": [
    "pred_train = {}\n",
    "\n",
    "for idx, row in tqdm(X_train.iterrows()):\n",
    "    j = int(row['ID_TARGET'])\n",
    "    val = coeffs_m[j] # find from stored data the \\beta\n",
    "    x = df1['RET_MARKET'][row['ID_DAY']] # find return of the X stock\n",
    "        \n",
    "    p = x * val\n",
    "    pred_train[idx] = p # store returns in pred hashtable\n",
    "    \n",
    "pred_train = pd.Series(pred_train, name=\"RET_TARGET\") \n",
    "\n",
    "# The NaNs are filled by the mean of the prediction of that day\n",
    "pred_train_mean_day = pred.groupby(X_train['ID_DAY']).transform('mean')\n",
    "pred_train = pred_train.fillna(pred_train_mean_day)\n",
    "pred_train = np.sign(pred_train)"
   ]
  },
  {
   "cell_type": "code",
   "execution_count": 316,
   "id": "801371e8-11db-4b56-8403-22015c71b8fd",
   "metadata": {
    "tags": []
   },
   "outputs": [
    {
     "data": {
      "text/plain": [
       "0   -1\n",
       "1   -1\n",
       "2   -1\n",
       "3    1\n",
       "4    1\n",
       "Name: RET_TARGET, dtype: int32"
      ]
     },
     "execution_count": 316,
     "metadata": {},
     "output_type": "execute_result"
    }
   ],
   "source": [
    "pred_train.name = \"RET_TARGET\"\n",
    "pred_train = pred_train.astype(int)\n",
    "pred_train.head()"
   ]
  },
  {
   "cell_type": "code",
   "execution_count": 317,
   "id": "1b55f327-5a9f-441d-9ea6-6a07983e041d",
   "metadata": {
    "tags": []
   },
   "outputs": [
    {
     "data": {
      "text/plain": [
       "0.6510856309572834"
      ]
     },
     "execution_count": 317,
     "metadata": {},
     "output_type": "execute_result"
    }
   ],
   "source": [
    "weighted_accuracy(Y_train['RET_TARGET'].to_numpy(), pred_train.to_numpy())"
   ]
  },
  {
   "cell_type": "markdown",
   "id": "1c504c57-6f7e-4a95-89e1-cfff46c4d959",
   "metadata": {},
   "source": [
    "- Unfortunately, as it was to be expected, 100 models (even if simple ones), do better than a single model. :)\n",
    "- We also tried a Monte Carlo simulation to see if there is a better (single) portfolio for this prediction, but we couldn't get training accuracies above 69.2%."
   ]
  },
  {
   "cell_type": "markdown",
   "id": "09396274-fd30-496e-9d39-8e9250095823",
   "metadata": {
    "jp-MarkdownHeadingCollapsed": true,
    "tags": []
   },
   "source": [
    "# Feature Engineering"
   ]
  },
  {
   "cell_type": "markdown",
   "id": "d826d51e-407a-4404-a969-1181f978b800",
   "metadata": {},
   "source": [
    "- In the benchmark, we computed beta and selected to illiquid stock to predict the liquid stock based on the the higest correlation (OAS).\n",
    "- The additional data tells us more about how common some stocks are. The higher the level j is, the more specific the industry domain is.\n",
    "- So stocks in class_level_4 should be more similar to each other.\n",
    "\n",
    "Take the liquid asset 139, for instance. "
   ]
  },
  {
   "cell_type": "code",
   "execution_count": 539,
   "id": "2471385c-54ed-4908-acf3-df95dc2824ee",
   "metadata": {
    "tags": []
   },
   "outputs": [
    {
     "data": {
      "text/plain": [
       "array([ 0,  1,  2,  3,  4,  5,  6,  7,  8,  9, 10], dtype=int64)"
      ]
     },
     "execution_count": 539,
     "metadata": {},
     "output_type": "execute_result"
    }
   ],
   "source": [
    "np.sort(Extra_data['CLASS_LEVEL_1'].unique())"
   ]
  },
  {
   "cell_type": "code",
   "execution_count": 540,
   "id": "e0cbc4bd-be76-4b3f-baa2-68676aacb709",
   "metadata": {
    "tags": []
   },
   "outputs": [
    {
     "name": "stdout",
     "output_type": "stream",
     "text": [
      "[ 0  1  2  3  4  5  6  7  8  9 10]\n",
      "[ 0  1  2  3  4  5  6  7  8  9 10 11 12 13 14 15 16 17 18 20 21 22]\n",
      "[ 0  1  2  3  4  5  6  7  9 10 12 13 14 15 16 17 18 19 20 21 22 23 24 25\n",
      " 26 27 28 29 30 32 33 34 35 36 37 38 39 40 41 42 44 45 47 48 49]\n",
      "[ 0  1  2  3  4  5  6  7  8  9 10 11 12 13 14 16 17 18 20 21 22 23 24 25\n",
      " 26 27 28 29 30 31 32 33 34 35 37 38 39 40 42 43 45 46 47 48 49 50 52 53\n",
      " 54 56 57 58 59 60 61 62 63 64 65 68 70 72 73 74 75 77]\n"
     ]
    }
   ],
   "source": [
    "print(np.sort(Extra_data['CLASS_LEVEL_1'].unique()))\n",
    "print(np.sort(Extra_data['CLASS_LEVEL_2'].unique()))\n",
    "print(np.sort(Extra_data['CLASS_LEVEL_3'].unique()))\n",
    "print(np.sort(Extra_data['CLASS_LEVEL_4'].unique()))"
   ]
  },
  {
   "cell_type": "code",
   "execution_count": null,
   "id": "8684e506-12f4-450f-b74b-993ff8f66a90",
   "metadata": {},
   "outputs": [],
   "source": [
    "returns1 = returns.copy()\n",
    "returns1[returns1 > 0.09] = np.nan\n",
    "returns1[returns1 < -0.09] = np.nan\n",
    "returns1 = returns1.fillna(returns1.mean())\n",
    "\n",
    "# Create test returns \n",
    "returns_test = {}\n",
    "\n",
    "for day in tqdm(X_test.ID_DAY.unique()):\n",
    "    u = X_test.loc[X_test.ID_DAY == day] # dataframe with all 'day' entries\n",
    "    returns_test[day] = u.iloc[0, idx_ret_features] # select only idx_ret_features columns\n",
    "    \n",
    "returns_test = pd.DataFrame(returns_test).T.astype(float)\n",
    "returns_test = returns_test.fillna(returns_test.mean())"
   ]
  },
  {
   "cell_type": "code",
   "execution_count": null,
   "id": "97544c3d-6ba1-4c48-9490-a757fcebb783",
   "metadata": {},
   "outputs": [],
   "source": [
    "# Feature Engineering \n",
    "DF_NEW = returns1.copy()\n",
    "DF_NEW_test = returns_test.copy()\n",
    "Class_All = Extra_data[:100] # select only illiquid assets \n",
    "init_ret_features1 = np.array(init_ret_features[:])\n",
    "\n",
    "for level in range(1,5):\n",
    "    for j in np.sort(Extra_data['CLASS_LEVEL_'+str(level)].unique()):\n",
    "        assets = Class_All.loc[Class_All['CLASS_LEVEL_'+str(level)] == j]['ID_asset'].to_numpy()\n",
    "        \n",
    "        if assets.size > 1:\n",
    "            init_ret_features1 = np.append(init_ret_features1, np.array(['RET_L'+str(level)+'_'+str(j)]))\n",
    "            DF_NEW['RET_L'+str(level)+'_'+str(j)] = 0\n",
    "            DF_NEW_test['RET_L'+str(level)+'_'+str(j)] = 0\n",
    "            \n",
    "            for k in range(assets.size):\n",
    "                DF_NEW['RET_L'+str(level)+'_'+str(j)] += returns1['RET_'+str(assets[k])]\n",
    "                DF_NEW_test['RET_L'+str(level)+'_'+str(j)] += returns_test['RET_'+str(assets[k])]\n",
    "                \n",
    "            DF_NEW['RET_L'+str(level)+'_'+str(j)] = DF_NEW['RET_L'+str(level)+'_'+str(j)]/assets.size # average of class\n",
    "            DF_NEW_test['RET_L'+str(level)+'_'+str(j)] = DF_NEW_test['RET_L'+str(level)+'_'+str(j)]/assets.size # average of class\n",
    "    "
   ]
  },
  {
   "cell_type": "markdown",
   "id": "5e60a42e-d21f-427c-a739-d3063512728d",
   "metadata": {
    "jp-MarkdownHeadingCollapsed": true,
    "tags": []
   },
   "source": [
    "# New Model - improvement on Benchmark\n",
    "\n",
    "- Uses all new features"
   ]
  },
  {
   "cell_type": "code",
   "execution_count": 48,
   "id": "fe6efc4d-c8f9-481f-b55d-727870aa79ad",
   "metadata": {
    "tags": []
   },
   "outputs": [
    {
     "name": "stderr",
     "output_type": "stream",
     "text": [
      "100%|███████████████████████████████████████████████████████████████████████████████| 100/100 [00:00<00:00, 874.64it/s]\n"
     ]
    }
   ],
   "source": [
    "features = DF_NEW.columns\n",
    "cov = pd.DataFrame(oas(DF_NEW)[0], index=features, columns=features)\n",
    "beta = cov / np.diag(cov)\n",
    "\n",
    "proj_matrix = beta.T.loc[init_ret_features1, target_ret_features] # look at beta between X and Y features only \n",
    "corr = DF_NEW.corr().loc[init_ret_features1, target_ret_features] # Compute Correlation between X and Y features \n",
    "\n",
    "pred_train = pd.DataFrame()\n",
    "coeffs = {}\n",
    "\n",
    "for id_target in tqdm(target_ret_features): # for every Y feature\n",
    "    x = proj_matrix[id_target]  \n",
    "    c = corr[id_target]\n",
    "    id_init_max = c.abs().idxmax() # pick MAX correlation with some X feature\n",
    "    j = int(id_target.replace('RET_', ''))\n",
    "    coeffs[j] = (id_init_max,  x[id_init_max]) # store in coeffs Y_feat: (X_feat, \\beta_XY)\n",
    "    \n",
    "    pred_train[id_target] = DF_NEW[id_init_max]*x[id_init_max]"
   ]
  },
  {
   "cell_type": "code",
   "execution_count": 49,
   "id": "0a0cd1e7-ae09-4adf-9947-d5f372846b2f",
   "metadata": {
    "tags": []
   },
   "outputs": [
    {
     "name": "stderr",
     "output_type": "stream",
     "text": [
      "267100it [03:17, 1351.41it/s]\n"
     ]
    },
    {
     "data": {
      "text/plain": [
       "0.7223223642026401"
      ]
     },
     "execution_count": 49,
     "metadata": {},
     "output_type": "execute_result"
    }
   ],
   "source": [
    "final_train = np.array([])\n",
    "\n",
    "for idx, row in tqdm(X_train.iterrows()):\n",
    "    j = 'RET_'+str(int(row['ID_TARGET']))\n",
    "    day = int(row['ID_DAY'])\n",
    "    final_train = np.append(final_train, np.array([int(np.sign(pred_train[j].loc[day]))]))\n",
    "    \n",
    "weighted_accuracy(Y_train['RET_TARGET'].to_numpy(), final_train)"
   ]
  },
  {
   "cell_type": "markdown",
   "id": "15622398-a3c0-4441-a318-8a2e3754b715",
   "metadata": {},
   "source": [
    "- Slightly better accuracy! Let's try to produce the Y_test results."
   ]
  },
  {
   "cell_type": "code",
   "execution_count": 50,
   "id": "af32a01f-10a7-40ea-971a-00b817176829",
   "metadata": {
    "tags": []
   },
   "outputs": [
    {
     "name": "stderr",
     "output_type": "stream",
     "text": [
      "100%|█████████████████████████████████████████████████████████████████████████████| 1177/1177 [00:01<00:00, 803.72it/s]\n"
     ]
    }
   ],
   "source": [
    "returns_test = {}\n",
    "\n",
    "for day in tqdm(X_test.ID_DAY.unique()):\n",
    "    u = X_test.loc[X_test.ID_DAY == day] # dataframe with all 'day' entries\n",
    "    returns_test[day] = u.iloc[0, idx_ret_features] # select only idx_ret_features columns\n",
    "    # b = Y_train[X_train.ID_DAY == day]['RET_TARGET'] # select corresponding Y_train features\n",
    "    # b.index = np.array(['RET_' + str(s) for s in u.ID_TARGET.to_numpy()]) # 'RET_' + u.ID_TARGET\n",
    "    \n",
    "returns_test = pd.DataFrame(returns_test).T.astype(float)\n",
    "returns_test[returns_test > 0.09] = np.nan\n",
    "returns_test[returns_test< -0.09] = np.nan\n",
    "returns_test = returns_test.fillna(returns_test.mean())"
   ]
  },
  {
   "cell_type": "code",
   "execution_count": 52,
   "id": "ed8a14ac-23ba-4d13-9554-f25f1b905afb",
   "metadata": {
    "tags": []
   },
   "outputs": [
    {
     "name": "stderr",
     "output_type": "stream",
     "text": [
      "100%|██████████████████████████████████████████████████████████████████████████████| 100/100 [00:00<00:00, 1314.28it/s]\n"
     ]
    }
   ],
   "source": [
    "pred_test = pd.DataFrame()\n",
    "\n",
    "for id_target in tqdm(target_ret_features): # for every Y feature\n",
    "    j = int(id_target.replace('RET_', ''))\n",
    "    id_init_max,  x[id_init_max] = coeffs[j] \n",
    "    \n",
    "    pred_test[id_target] = DF_NEW_test[id_init_max]*x[id_init_max]\n"
   ]
  },
  {
   "cell_type": "code",
   "execution_count": 53,
   "id": "60024bba-9583-4f60-b96c-7545e5b61ca6",
   "metadata": {
    "tags": []
   },
   "outputs": [
    {
     "name": "stderr",
     "output_type": "stream",
     "text": [
      "114468it [00:34, 3339.32it/s]\n"
     ]
    }
   ],
   "source": [
    "final_test = np.array([])\n",
    "\n",
    "for idx, row in tqdm(X_test.iterrows()):\n",
    "    j = 'RET_'+str(int(row['ID_TARGET']))\n",
    "    day = int(row['ID_DAY'])\n",
    "    final_test = np.append(final_test, np.array([int(np.sign(pred_test[j].loc[day]))]))"
   ]
  },
  {
   "cell_type": "code",
   "execution_count": 54,
   "id": "52f5e288-1e70-4e14-88ad-41973c819b2a",
   "metadata": {
    "tags": []
   },
   "outputs": [
    {
     "data": {
      "text/plain": [
       "array([-1, -1, -1, ..., -1,  1,  1])"
      ]
     },
     "execution_count": 54,
     "metadata": {},
     "output_type": "execute_result"
    }
   ],
   "source": [
    "final_test = final_test.astype(int)\n",
    "final_test"
   ]
  },
  {
   "cell_type": "code",
   "execution_count": 55,
   "id": "57984481-a592-461b-bb7b-cadf75f12a71",
   "metadata": {
    "tags": []
   },
   "outputs": [
    {
     "data": {
      "text/plain": [
       "114468"
      ]
     },
     "execution_count": 55,
     "metadata": {},
     "output_type": "execute_result"
    }
   ],
   "source": [
    "id_test = np.arange(267100, 381568, 1)\n",
    "id_test.size"
   ]
  },
  {
   "cell_type": "code",
   "execution_count": 56,
   "id": "c901c87a-91f7-4ee6-9cfe-a0787088d5b8",
   "metadata": {
    "tags": []
   },
   "outputs": [
    {
     "data": {
      "text/html": [
       "<div>\n",
       "<style scoped>\n",
       "    .dataframe tbody tr th:only-of-type {\n",
       "        vertical-align: middle;\n",
       "    }\n",
       "\n",
       "    .dataframe tbody tr th {\n",
       "        vertical-align: top;\n",
       "    }\n",
       "\n",
       "    .dataframe thead th {\n",
       "        text-align: right;\n",
       "    }\n",
       "</style>\n",
       "<table border=\"1\" class=\"dataframe\">\n",
       "  <thead>\n",
       "    <tr style=\"text-align: right;\">\n",
       "      <th></th>\n",
       "      <th>ID</th>\n",
       "      <th>RET_TARGET</th>\n",
       "    </tr>\n",
       "  </thead>\n",
       "  <tbody>\n",
       "    <tr>\n",
       "      <th>0</th>\n",
       "      <td>267100</td>\n",
       "      <td>-1</td>\n",
       "    </tr>\n",
       "    <tr>\n",
       "      <th>1</th>\n",
       "      <td>267101</td>\n",
       "      <td>-1</td>\n",
       "    </tr>\n",
       "    <tr>\n",
       "      <th>2</th>\n",
       "      <td>267102</td>\n",
       "      <td>-1</td>\n",
       "    </tr>\n",
       "    <tr>\n",
       "      <th>3</th>\n",
       "      <td>267103</td>\n",
       "      <td>1</td>\n",
       "    </tr>\n",
       "    <tr>\n",
       "      <th>4</th>\n",
       "      <td>267104</td>\n",
       "      <td>1</td>\n",
       "    </tr>\n",
       "    <tr>\n",
       "      <th>...</th>\n",
       "      <td>...</td>\n",
       "      <td>...</td>\n",
       "    </tr>\n",
       "    <tr>\n",
       "      <th>114463</th>\n",
       "      <td>381563</td>\n",
       "      <td>-1</td>\n",
       "    </tr>\n",
       "    <tr>\n",
       "      <th>114464</th>\n",
       "      <td>381564</td>\n",
       "      <td>-1</td>\n",
       "    </tr>\n",
       "    <tr>\n",
       "      <th>114465</th>\n",
       "      <td>381565</td>\n",
       "      <td>-1</td>\n",
       "    </tr>\n",
       "    <tr>\n",
       "      <th>114466</th>\n",
       "      <td>381566</td>\n",
       "      <td>1</td>\n",
       "    </tr>\n",
       "    <tr>\n",
       "      <th>114467</th>\n",
       "      <td>381567</td>\n",
       "      <td>1</td>\n",
       "    </tr>\n",
       "  </tbody>\n",
       "</table>\n",
       "<p>114468 rows × 2 columns</p>\n",
       "</div>"
      ],
      "text/plain": [
       "            ID  RET_TARGET\n",
       "0       267100          -1\n",
       "1       267101          -1\n",
       "2       267102          -1\n",
       "3       267103           1\n",
       "4       267104           1\n",
       "...        ...         ...\n",
       "114463  381563          -1\n",
       "114464  381564          -1\n",
       "114465  381565          -1\n",
       "114466  381566           1\n",
       "114467  381567           1\n",
       "\n",
       "[114468 rows x 2 columns]"
      ]
     },
     "execution_count": 56,
     "metadata": {},
     "output_type": "execute_result"
    }
   ],
   "source": [
    "Y_test = pd.DataFrame()\n",
    "Y_test['ID'] = id_test\n",
    "Y_test['RET_TARGET'] = final_test\n",
    "\n",
    "Y_test"
   ]
  },
  {
   "cell_type": "code",
   "execution_count": 57,
   "id": "3c71931a-77b7-4274-8fdb-42b9f1fa126d",
   "metadata": {
    "tags": []
   },
   "outputs": [],
   "source": [
    "Y_test.to_csv('ver2.csv',  index=False)"
   ]
  },
  {
   "cell_type": "markdown",
   "id": "35bb244f-0f71-49b5-b3c5-5d22684c5186",
   "metadata": {
    "jp-MarkdownHeadingCollapsed": true,
    "tags": []
   },
   "source": [
    "# New Model #2 \n",
    "\n",
    "- Similar idea to previous model, but now let's use MULTIPLE features.\n",
    "- Select n features with highest correlations for each liquid asset: h = (h_1, ... h_n)\n",
    "- Normalize correlation coeffs, divide: h/sum(h)\n",
    "- Use these as 'weights': R_NEW = w_i R_i\n",
    "- find beta with R_NEW and compute R_liquid."
   ]
  },
  {
   "cell_type": "code",
   "execution_count": 151,
   "id": "7e491523-03c1-46b6-a48c-c77be703704a",
   "metadata": {
    "tags": []
   },
   "outputs": [
    {
     "name": "stderr",
     "output_type": "stream",
     "text": [
      "100%|████████████████████████████████████████████████████████████████████████████████| 100/100 [00:01<00:00, 76.02it/s]\n"
     ]
    }
   ],
   "source": [
    "features = DF_NEW.columns\n",
    "corr = DF_NEW.corr().loc[init_ret_features1, target_ret_features] # Compute Correlation between X and Y features \n",
    "nn = 10\n",
    "\n",
    "New_Features = pd.DataFrame()\n",
    "New_Features['RET_139'] = DF_NEW['RET_139']\n",
    "New_Features['RET_139'] = 0 # MAKE SURE YOU HAVE THE RIGHT INDICES\n",
    "\n",
    "pred_train = pd.DataFrame()\n",
    "coeffs = {}\n",
    "betas = {}\n",
    "  \n",
    "\n",
    "for id_target in tqdm(target_ret_features): # for every Y feature\n",
    "    c = corr[id_target]\n",
    "    ids_max = c.abs().sort_values(ascending=False)[:nn] # pick MAX correlation with some X feature\n",
    "    ids_max = ids_max/ids_max.to_numpy().sum()\n",
    "    \n",
    "    j = int(id_target.replace('RET_', ''))\n",
    "    coeffs[j] = ids_max \n",
    "    \n",
    "    # create new feature with the target that we want\n",
    "    New_Features[id_target] = 0\n",
    "    for dummy in range(nn):\n",
    "        New_Features[id_target] += DF_NEW[ids_max.index[dummy]]*ids_max[dummy]\n",
    "        \n",
    "    df_OAS = pd.DataFrame()\n",
    "    df_OAS[id_target] = DF_NEW[id_target]\n",
    "    df_OAS['NEW'] = New_Features[id_target]\n",
    "    \n",
    "    O = oas(df_OAS)[0]\n",
    "    beta = (O/np.diag(O))[1,0]\n",
    "    betas[j] = beta\n",
    "    \n",
    "    pred_train[id_target] = New_Features[id_target]*beta\n",
    "     "
   ]
  },
  {
   "cell_type": "code",
   "execution_count": 152,
   "id": "2c7b400b-3e2c-4122-b362-ec98e59858ee",
   "metadata": {
    "tags": []
   },
   "outputs": [
    {
     "name": "stderr",
     "output_type": "stream",
     "text": [
      "267100it [03:11, 1398.23it/s]\n"
     ]
    },
    {
     "data": {
      "text/plain": [
       "0.7370278763557894"
      ]
     },
     "execution_count": 152,
     "metadata": {},
     "output_type": "execute_result"
    }
   ],
   "source": [
    "final_train = np.array([])\n",
    "\n",
    "for idx in tqdm(X_fake_train['ID']):\n",
    "    j = 'RET_'+str(int(X_fake_train['ID_TARGET'][idx]))\n",
    "    day = int(X_fake_train['ID_DAY'][idx])\n",
    "    final_train = np.append(final_train, np.array([int(np.sign(pred_train[j].loc[day]))]))\n",
    "    \n",
    "weighted_accuracy(Y_train['RET_TARGET'].to_numpy(), final_train)"
   ]
  },
  {
   "cell_type": "markdown",
   "id": "97e0b898-b9c4-4da6-9483-bd0a90da009c",
   "metadata": {},
   "source": [
    "- We do a grid search for best values of nn. We find nn = 10 to be the best option.\n",
    "- We do not really need a validation set in this model, as there is no overfitting."
   ]
  },
  {
   "cell_type": "code",
   "execution_count": 163,
   "id": "02c2be93-bc10-447e-8af0-9b55f37f6afa",
   "metadata": {
    "tags": []
   },
   "outputs": [
    {
     "name": "stderr",
     "output_type": "stream",
     "text": [
      "100%|███████████████████████████████████████████████████████████████████████████████| 100/100 [00:00<00:00, 128.19it/s]\n"
     ]
    }
   ],
   "source": [
    "# Build the 'New_Features' dataframe:\n",
    "New_Features_test = pd.DataFrame()\n",
    "New_Features_test['RET_216'] = DF_NEW_test['RET_216']\n",
    "New_Features_test['RET_216'] = 0 # MAKE SURE YOU HAVE THE RIGHT INDICES\n",
    "\n",
    "pred_test = pd.DataFrame()\n",
    "\n",
    "for id_target in tqdm(target_ret_features): # for every Y feature  \n",
    "    j = int(id_target.replace('RET_', '')) \n",
    "    ids_max = coeffs[j]\n",
    "    # create new feature with the target that we want\n",
    "    New_Features_test[id_target] = 0\n",
    "    for dummy in range(nn):\n",
    "        New_Features_test[id_target] += DF_NEW_test[ids_max.index[dummy]]*ids_max[dummy]\n",
    "        \n",
    "    pred_test[id_target] = New_Features_test[id_target]*betas[j]\n"
   ]
  },
  {
   "cell_type": "code",
   "execution_count": 164,
   "id": "5deab952-433f-477f-954e-6f31bcfd773f",
   "metadata": {
    "tags": []
   },
   "outputs": [
    {
     "name": "stderr",
     "output_type": "stream",
     "text": [
      "114468it [00:32, 3497.32it/s]\n"
     ]
    }
   ],
   "source": [
    "final_test = np.array([])\n",
    "\n",
    "for idx, row in tqdm(X_test.iterrows()):\n",
    "    j = 'RET_'+str(int(row['ID_TARGET']))\n",
    "    day = int(row['ID_DAY'])\n",
    "    final_test = np.append(final_test, np.array([int(np.sign(pred_test[j].loc[day]))]))"
   ]
  },
  {
   "cell_type": "code",
   "execution_count": 165,
   "id": "aa8e31ac-d539-4857-b6ea-951cfc5901ec",
   "metadata": {
    "tags": []
   },
   "outputs": [
    {
     "name": "stdout",
     "output_type": "stream",
     "text": [
      "[114468, 114468]\n"
     ]
    }
   ],
   "source": [
    "final_test = final_test.astype(int)\n",
    "id_test = np.arange(267100, 381568, 1)\n",
    "print([final_test.size,id_test.size])"
   ]
  },
  {
   "cell_type": "code",
   "execution_count": 166,
   "id": "2fbb3051-e0a0-47e9-9cb3-b3b3a387f957",
   "metadata": {
    "tags": []
   },
   "outputs": [
    {
     "data": {
      "text/html": [
       "<div>\n",
       "<style scoped>\n",
       "    .dataframe tbody tr th:only-of-type {\n",
       "        vertical-align: middle;\n",
       "    }\n",
       "\n",
       "    .dataframe tbody tr th {\n",
       "        vertical-align: top;\n",
       "    }\n",
       "\n",
       "    .dataframe thead th {\n",
       "        text-align: right;\n",
       "    }\n",
       "</style>\n",
       "<table border=\"1\" class=\"dataframe\">\n",
       "  <thead>\n",
       "    <tr style=\"text-align: right;\">\n",
       "      <th></th>\n",
       "      <th>ID</th>\n",
       "      <th>RET_TARGET</th>\n",
       "    </tr>\n",
       "  </thead>\n",
       "  <tbody>\n",
       "    <tr>\n",
       "      <th>0</th>\n",
       "      <td>267100</td>\n",
       "      <td>1</td>\n",
       "    </tr>\n",
       "    <tr>\n",
       "      <th>1</th>\n",
       "      <td>267101</td>\n",
       "      <td>-1</td>\n",
       "    </tr>\n",
       "    <tr>\n",
       "      <th>2</th>\n",
       "      <td>267102</td>\n",
       "      <td>-1</td>\n",
       "    </tr>\n",
       "    <tr>\n",
       "      <th>3</th>\n",
       "      <td>267103</td>\n",
       "      <td>1</td>\n",
       "    </tr>\n",
       "    <tr>\n",
       "      <th>4</th>\n",
       "      <td>267104</td>\n",
       "      <td>1</td>\n",
       "    </tr>\n",
       "    <tr>\n",
       "      <th>...</th>\n",
       "      <td>...</td>\n",
       "      <td>...</td>\n",
       "    </tr>\n",
       "    <tr>\n",
       "      <th>114463</th>\n",
       "      <td>381563</td>\n",
       "      <td>-1</td>\n",
       "    </tr>\n",
       "    <tr>\n",
       "      <th>114464</th>\n",
       "      <td>381564</td>\n",
       "      <td>-1</td>\n",
       "    </tr>\n",
       "    <tr>\n",
       "      <th>114465</th>\n",
       "      <td>381565</td>\n",
       "      <td>-1</td>\n",
       "    </tr>\n",
       "    <tr>\n",
       "      <th>114466</th>\n",
       "      <td>381566</td>\n",
       "      <td>1</td>\n",
       "    </tr>\n",
       "    <tr>\n",
       "      <th>114467</th>\n",
       "      <td>381567</td>\n",
       "      <td>1</td>\n",
       "    </tr>\n",
       "  </tbody>\n",
       "</table>\n",
       "<p>114468 rows × 2 columns</p>\n",
       "</div>"
      ],
      "text/plain": [
       "            ID  RET_TARGET\n",
       "0       267100           1\n",
       "1       267101          -1\n",
       "2       267102          -1\n",
       "3       267103           1\n",
       "4       267104           1\n",
       "...        ...         ...\n",
       "114463  381563          -1\n",
       "114464  381564          -1\n",
       "114465  381565          -1\n",
       "114466  381566           1\n",
       "114467  381567           1\n",
       "\n",
       "[114468 rows x 2 columns]"
      ]
     },
     "execution_count": 166,
     "metadata": {},
     "output_type": "execute_result"
    }
   ],
   "source": [
    "Y_test = pd.DataFrame()\n",
    "Y_test['ID'] = id_test\n",
    "Y_test['RET_TARGET'] = final_test\n",
    "\n",
    "Y_test"
   ]
  },
  {
   "cell_type": "code",
   "execution_count": 167,
   "id": "743cb9f2-c8dc-4874-bb4c-3be4bdac9ea2",
   "metadata": {
    "tags": []
   },
   "outputs": [],
   "source": [
    "Y_test.to_csv('ver3.csv',  index=False)"
   ]
  },
  {
   "cell_type": "markdown",
   "id": "24ab17fd-1937-4bd5-b36a-b75179e60a69",
   "metadata": {
    "tags": []
   },
   "source": [
    "# Other models\n",
    "\n",
    "- Here, we try to use more complicated models.\n",
    "- We need to create a validation set from the beginning.\n"
   ]
  },
  {
   "cell_type": "markdown",
   "id": "94b93fd4-97bf-4280-8338-ab4f2ca0f609",
   "metadata": {
    "jp-MarkdownHeadingCollapsed": true,
    "tags": []
   },
   "source": [
    "### Splitting Data"
   ]
  },
  {
   "cell_type": "code",
   "execution_count": 178,
   "id": "b0c1d3c3-a3ce-480e-9641-68bb692df57f",
   "metadata": {
    "tags": []
   },
   "outputs": [
    {
     "name": "stderr",
     "output_type": "stream",
     "text": [
      "100%|████████████████████████████████████████████████████████████████████████████| 1177/1177 [00:00<00:00, 2125.10it/s]\n"
     ]
    }
   ],
   "source": [
    "returns1 = returns.copy()\n",
    "returns1[returns1 > 0.09] = np.nan\n",
    "returns1[returns1 < -0.09] = np.nan\n",
    "returns1 = returns1.fillna(returns1.mean())\n",
    "\n",
    "# Create test returns \n",
    "returns_test = {}\n",
    "\n",
    "for day in tqdm(X_test.ID_DAY.unique()):\n",
    "    u = X_test.loc[X_test.ID_DAY == day] # dataframe with all 'day' entries\n",
    "    returns_test[day] = u.iloc[0, idx_ret_features] # select only idx_ret_features columns\n",
    "    \n",
    "returns_test = pd.DataFrame(returns_test).T.astype(float)\n",
    "# returns_test[returns_test > 0.09] = np.nan\n",
    "# returns_test[returns_test< -0.09] = np.nan\n",
    "returns_test = returns_test.fillna(returns_test.mean())\n",
    "\n",
    "\n",
    "# Feature Engineering section\n",
    "\n",
    "DF_NEW = returns1.copy()\n",
    "DF_NEW_test = returns_test.copy()\n",
    "Class_All = Extra_data[:100]\n",
    "init_ret_features1 = np.array(init_ret_features[:])\n",
    "\n",
    "for level in range(1,5):\n",
    "    for j in np.sort(Extra_data['CLASS_LEVEL_'+str(level)].unique()):\n",
    "        assets = Class_All.loc[Class_All['CLASS_LEVEL_'+str(level)] == j]['ID_asset'].to_numpy()\n",
    "        \n",
    "        if assets.size > 1:\n",
    "            init_ret_features1 = np.append(init_ret_features1, np.array(['RET_L'+str(level)+'_'+str(j)]))\n",
    "            DF_NEW['RET_L'+str(level)+'_'+str(j)] = 0\n",
    "            DF_NEW_test['RET_L'+str(level)+'_'+str(j)] = 0\n",
    "            \n",
    "            for k in range(assets.size):\n",
    "                DF_NEW['RET_L'+str(level)+'_'+str(j)] += returns1['RET_'+str(assets[k])]\n",
    "                DF_NEW_test['RET_L'+str(level)+'_'+str(j)] += returns_test['RET_'+str(assets[k])]\n",
    "                \n",
    "            DF_NEW['RET_L'+str(level)+'_'+str(j)] = DF_NEW['RET_L'+str(level)+'_'+str(j)]/assets.size # average of class\n",
    "            DF_NEW_test['RET_L'+str(level)+'_'+str(j)] = DF_NEW_test['RET_L'+str(level)+'_'+str(j)]/assets.size # average of class\n",
    "    "
   ]
  },
  {
   "cell_type": "markdown",
   "id": "bfba0643-0a72-44ad-88d4-87a1dc512a4e",
   "metadata": {},
   "source": [
    "- Split our training data in some training and testing, to check for overfitting.\n",
    "- This below takes too long, so let's try something simpler instead."
   ]
  },
  {
   "cell_type": "code",
   "execution_count": 8,
   "id": "f514055d-4172-45f9-89e4-0ba37f0322f4",
   "metadata": {
    "tags": []
   },
   "outputs": [
    {
     "name": "stderr",
     "output_type": "stream",
     "text": [
      " 22%|████████████████▎                                                          | 58235/267100 [12:06<43:24, 80.20it/s]\n"
     ]
    },
    {
     "ename": "KeyboardInterrupt",
     "evalue": "",
     "output_type": "error",
     "traceback": [
      "\u001b[1;31m---------------------------------------------------------------------------\u001b[0m",
      "\u001b[1;31mKeyboardInterrupt\u001b[0m                         Traceback (most recent call last)",
      "\u001b[1;32m~\\AppData\\Local\\Temp\\ipykernel_4580\\2365744716.py\u001b[0m in \u001b[0;36m?\u001b[1;34m()\u001b[0m\n\u001b[0;32m     13\u001b[0m     \u001b[0mday\u001b[0m \u001b[1;33m=\u001b[0m \u001b[0mint\u001b[0m\u001b[1;33m(\u001b[0m\u001b[0mX_train\u001b[0m\u001b[1;33m[\u001b[0m\u001b[1;34m'ID_DAY'\u001b[0m\u001b[1;33m]\u001b[0m\u001b[1;33m[\u001b[0m\u001b[0midx\u001b[0m\u001b[1;33m]\u001b[0m\u001b[1;33m)\u001b[0m\u001b[1;33m\u001b[0m\u001b[1;33m\u001b[0m\u001b[0m\n\u001b[0;32m     14\u001b[0m \u001b[1;33m\u001b[0m\u001b[0m\n\u001b[0;32m     15\u001b[0m     \u001b[1;32mif\u001b[0m \u001b[0mday\u001b[0m \u001b[1;32min\u001b[0m \u001b[0mDF_fake_train\u001b[0m\u001b[1;33m.\u001b[0m\u001b[0mindex\u001b[0m\u001b[1;33m:\u001b[0m\u001b[1;33m\u001b[0m\u001b[1;33m\u001b[0m\u001b[0m\n\u001b[0;32m     16\u001b[0m         \u001b[0mX_fake_train\u001b[0m\u001b[1;33m[\u001b[0m\u001b[0midx\u001b[0m\u001b[1;33m]\u001b[0m \u001b[1;33m=\u001b[0m \u001b[0mX_train\u001b[0m\u001b[1;33m.\u001b[0m\u001b[0mloc\u001b[0m\u001b[1;33m[\u001b[0m\u001b[0midx\u001b[0m\u001b[1;33m]\u001b[0m\u001b[1;33m\u001b[0m\u001b[1;33m\u001b[0m\u001b[0m\n\u001b[1;32m---> 17\u001b[1;33m         \u001b[0mY_fake_train\u001b[0m\u001b[1;33m[\u001b[0m\u001b[0midx\u001b[0m\u001b[1;33m]\u001b[0m \u001b[1;33m=\u001b[0m \u001b[0mY_train\u001b[0m\u001b[1;33m.\u001b[0m\u001b[0mloc\u001b[0m\u001b[1;33m[\u001b[0m\u001b[0midx\u001b[0m\u001b[1;33m]\u001b[0m\u001b[1;33m\u001b[0m\u001b[1;33m\u001b[0m\u001b[0m\n\u001b[0m\u001b[0;32m     18\u001b[0m     \u001b[1;32melse\u001b[0m\u001b[1;33m:\u001b[0m\u001b[1;33m\u001b[0m\u001b[1;33m\u001b[0m\u001b[0m\n\u001b[0;32m     19\u001b[0m         \u001b[0mX_fake_test\u001b[0m\u001b[1;33m[\u001b[0m\u001b[0midx\u001b[0m\u001b[1;33m]\u001b[0m \u001b[1;33m=\u001b[0m \u001b[0mX_train\u001b[0m\u001b[1;33m.\u001b[0m\u001b[0mloc\u001b[0m\u001b[1;33m[\u001b[0m\u001b[0midx\u001b[0m\u001b[1;33m]\u001b[0m\u001b[1;33m\u001b[0m\u001b[1;33m\u001b[0m\u001b[0m\n\u001b[0;32m     20\u001b[0m         \u001b[0mY_fake_test\u001b[0m\u001b[1;33m[\u001b[0m\u001b[0midx\u001b[0m\u001b[1;33m]\u001b[0m \u001b[1;33m=\u001b[0m \u001b[0mY_train\u001b[0m\u001b[1;33m.\u001b[0m\u001b[0mloc\u001b[0m\u001b[1;33m[\u001b[0m\u001b[0midx\u001b[0m\u001b[1;33m]\u001b[0m\u001b[1;33m\u001b[0m\u001b[1;33m\u001b[0m\u001b[0m\n",
      "\u001b[1;32m~\\AppData\\Local\\Programs\\Python\\Python311\\Lib\\site-packages\\pandas\\core\\frame.py\u001b[0m in \u001b[0;36m?\u001b[1;34m(self, key, value)\u001b[0m\n\u001b[0;32m   3956\u001b[0m             \u001b[1;31m# Column to set is duplicated\u001b[0m\u001b[1;33m\u001b[0m\u001b[1;33m\u001b[0m\u001b[0m\n\u001b[0;32m   3957\u001b[0m             \u001b[0mself\u001b[0m\u001b[1;33m.\u001b[0m\u001b[0m_setitem_array\u001b[0m\u001b[1;33m(\u001b[0m\u001b[1;33m[\u001b[0m\u001b[0mkey\u001b[0m\u001b[1;33m]\u001b[0m\u001b[1;33m,\u001b[0m \u001b[0mvalue\u001b[0m\u001b[1;33m)\u001b[0m\u001b[1;33m\u001b[0m\u001b[1;33m\u001b[0m\u001b[0m\n\u001b[0;32m   3958\u001b[0m         \u001b[1;32melse\u001b[0m\u001b[1;33m:\u001b[0m\u001b[1;33m\u001b[0m\u001b[1;33m\u001b[0m\u001b[0m\n\u001b[0;32m   3959\u001b[0m             \u001b[1;31m# set column\u001b[0m\u001b[1;33m\u001b[0m\u001b[1;33m\u001b[0m\u001b[0m\n\u001b[1;32m-> 3960\u001b[1;33m             \u001b[0mself\u001b[0m\u001b[1;33m.\u001b[0m\u001b[0m_set_item\u001b[0m\u001b[1;33m(\u001b[0m\u001b[0mkey\u001b[0m\u001b[1;33m,\u001b[0m \u001b[0mvalue\u001b[0m\u001b[1;33m)\u001b[0m\u001b[1;33m\u001b[0m\u001b[1;33m\u001b[0m\u001b[0m\n\u001b[0m",
      "\u001b[1;32m~\\AppData\\Local\\Programs\\Python\\Python311\\Lib\\site-packages\\pandas\\core\\frame.py\u001b[0m in \u001b[0;36m?\u001b[1;34m(self, key, value)\u001b[0m\n\u001b[1;32m-> 4143\u001b[1;33m     \u001b[1;32mdef\u001b[0m \u001b[0m_set_item\u001b[0m\u001b[1;33m(\u001b[0m\u001b[0mself\u001b[0m\u001b[1;33m,\u001b[0m \u001b[0mkey\u001b[0m\u001b[1;33m,\u001b[0m \u001b[0mvalue\u001b[0m\u001b[1;33m)\u001b[0m \u001b[1;33m->\u001b[0m \u001b[1;32mNone\u001b[0m\u001b[1;33m:\u001b[0m\u001b[1;33m\u001b[0m\u001b[1;33m\u001b[0m\u001b[0m\n\u001b[0m\u001b[0;32m   4144\u001b[0m         \"\"\"\n\u001b[0;32m   4145\u001b[0m         \u001b[0mAdd\u001b[0m \u001b[0mseries\u001b[0m \u001b[0mto\u001b[0m \u001b[0mDataFrame\u001b[0m \u001b[1;32min\u001b[0m \u001b[0mspecified\u001b[0m \u001b[0mcolumn\u001b[0m\u001b[1;33m.\u001b[0m\u001b[1;33m\u001b[0m\u001b[1;33m\u001b[0m\u001b[0m\n\u001b[0;32m   4146\u001b[0m \u001b[1;33m\u001b[0m\u001b[0m\n",
      "\u001b[1;31mKeyboardInterrupt\u001b[0m: "
     ]
    }
   ],
   "source": [
    "DF_fake_train, DF_fake_test = train_test_split(DF_NEW, test_size=0.2)\n",
    "\n",
    "X_fake_train = pd.DataFrame()\n",
    "X_fake_test = pd.DataFrame()\n",
    "\n",
    "Y_fake_train = pd.DataFrame()\n",
    "Y_fake_test = pd.DataFrame()\n",
    "\n",
    "All_train_days = DF_fake_train.index\n",
    "\n",
    "for idx in tqdm(X_train['ID']):\n",
    "    # j = 'RET_'+str(int(X_train['ID_TARGET'][idx]))\n",
    "    day = int(X_train['ID_DAY'][idx])\n",
    "    \n",
    "    if day in DF_fake_train.index:\n",
    "        X_fake_train[idx] = X_train.loc[idx]\n",
    "        Y_fake_train[idx] = Y_train.loc[idx]\n",
    "    else:\n",
    "        X_fake_test[idx] = X_train.loc[idx]\n",
    "        Y_fake_test[idx] = Y_train.loc[idx]\n",
    "    \n",
    "#weighted_accuracy(Y_train['RET_TARGET'].to_numpy(), final_train)"
   ]
  },
  {
   "cell_type": "markdown",
   "id": "96e9c630-dba0-4887-a0e4-e9d800bec33a",
   "metadata": {
    "tags": []
   },
   "source": [
    "Stick to the 20% value for the validation set.\n",
    "\n",
    "- 2748*0.2 = 550\n",
    "- 2748 - 550= 2198"
   ]
  },
  {
   "cell_type": "code",
   "execution_count": 179,
   "id": "4de2af23-d3ce-44cb-8a07-9f872fdc55e0",
   "metadata": {
    "tags": []
   },
   "outputs": [],
   "source": [
    "DF_fake_train, DF_fake_test = DF_NEW[:2199], DF_NEW[2199:]\n",
    "\n",
    "# 267 100 entries\n",
    "# 3754 starts at 212908 entry \n",
    "X_fake_train = X_train[:212908]\n",
    "X_fake_test = X_train[212908:]\n",
    "\n",
    "Y_fake_train = Y_train[:212908]\n",
    "Y_fake_test = Y_train[212908:]"
   ]
  },
  {
   "cell_type": "code",
   "execution_count": 180,
   "id": "37967ac7-fde0-4ba9-aded-17ad6be33c97",
   "metadata": {
    "tags": []
   },
   "outputs": [
    {
     "name": "stdout",
     "output_type": "stream",
     "text": [
      "0\n",
      "0\n"
     ]
    }
   ],
   "source": [
    "print(np.sum(X_fake_train['ID_DAY'].unique() - DF_fake_train.index.to_numpy()))\n",
    "print(np.sum(X_fake_test['ID_DAY'].unique() - DF_fake_test.index.to_numpy()))"
   ]
  },
  {
   "cell_type": "markdown",
   "id": "40b7bcfa-e5bd-4189-98d2-94e76244d7b4",
   "metadata": {
    "jp-MarkdownHeadingCollapsed": true,
    "tags": []
   },
   "source": [
    "### Model 1 - XGBoost"
   ]
  },
  {
   "cell_type": "code",
   "execution_count": 121,
   "id": "2c7f6dd8-76df-466f-9364-e205370abd3c",
   "metadata": {
    "tags": []
   },
   "outputs": [
    {
     "name": "stderr",
     "output_type": "stream",
     "text": [
      "100%|████████████████████████████████████████████████████████████████████████████████| 100/100 [00:52<00:00,  1.89it/s]\n",
      "100%|████████████████████████████████████████████████████████████████████████| 212908/212908 [01:46<00:00, 2002.28it/s]\n"
     ]
    },
    {
     "name": "stdout",
     "output_type": "stream",
     "text": [
      "0.7630545007709922\n"
     ]
    },
    {
     "name": "stderr",
     "output_type": "stream",
     "text": [
      "100%|██████████████████████████████████████████████████████████████████████████| 54192/54192 [00:09<00:00, 5493.16it/s]"
     ]
    },
    {
     "name": "stdout",
     "output_type": "stream",
     "text": [
      "0.7321485652978936\n"
     ]
    },
    {
     "name": "stderr",
     "output_type": "stream",
     "text": [
      "\n"
     ]
    }
   ],
   "source": [
    "features = DF_fake_train.columns\n",
    "corr = DF_fake_train.corr().loc[init_ret_features1, target_ret_features] # Compute Correlation between X and Y features \n",
    "nn = 40\n",
    "\n",
    "pred_train = pd.DataFrame()\n",
    "pred_train['RET_139'] = DF_fake_train['RET_139']\n",
    "pred_train['RET_139'] = 0 # MAKE SURE YOU HAVE THE RIGHT INDICES\n",
    "\n",
    "pred_test = pd.DataFrame()\n",
    "pred_test['RET_216'] = DF_fake_test['RET_216']\n",
    "pred_test['RET_216'] = 0 # MAKE SURE YOU HAVE THE RIGHT INDICES\n",
    "\n",
    "# coeffs = {}\n",
    "\n",
    "reg = XGBRegressor(colsample_bytree=1,\n",
    "                 gamma=0,                 \n",
    "                 learning_rate=0.05,\n",
    "                 max_depth=1,\n",
    "                 #min_child_weight=1.5,\n",
    "                 n_estimators=250,                                                                    \n",
    "                 reg_alpha=0.75,\n",
    "                 #reg_lambda=0.45,\n",
    "                 subsample=1\n",
    "                 #seed=1000\n",
    "                  )\n",
    "\n",
    "for id_target in tqdm(target_ret_features): # for every Y feature\n",
    "    c = corr[id_target]\n",
    "    ids_max = c.abs().sort_values(ascending=False)[:nn].index.to_numpy() # pick nn MAX correlations with some X feature    \n",
    "    j = int(id_target.replace('RET_', ''))\n",
    "    \n",
    "    reg.fit(DF_fake_train[ids_max], DF_fake_train[id_target])\n",
    "    pred_train[id_target] = reg.predict(DF_fake_train[ids_max])\n",
    "    pred_test[id_target] = reg.predict(DF_fake_test[ids_max])\n",
    "\n",
    "    \n",
    "final_train = np.array([])\n",
    "\n",
    "for idx in tqdm(X_fake_train['ID']):\n",
    "    j = 'RET_'+str(int(X_fake_train['ID_TARGET'][idx]))\n",
    "    day = int(X_fake_train['ID_DAY'][idx])\n",
    "    final_train = np.append(final_train, np.array([int(np.sign(pred_train[j].loc[day]))]))\n",
    "    \n",
    "print(weighted_accuracy(Y_fake_train['RET_TARGET'].to_numpy(), final_train))\n",
    "\n",
    "final_test = np.array([])\n",
    "\n",
    "for idx in tqdm(X_fake_test['ID']):\n",
    "    j = 'RET_'+str(int(X_fake_test['ID_TARGET'][idx]))\n",
    "    day = int(X_fake_test['ID_DAY'][idx])\n",
    "    final_test = np.append(final_test, np.array([int(np.sign(pred_test[j].loc[day]))]))\n",
    "    \n",
    "print(weighted_accuracy(Y_fake_test['RET_TARGET'].to_numpy(), final_test))"
   ]
  },
  {
   "cell_type": "markdown",
   "id": "9d933e17-b6ad-47d2-8034-6faf8a7d50c0",
   "metadata": {},
   "source": [
    "- To avoid overfitting, we need to tune the parameters, we do grid searches for nn, colsample_bytree, learning_rate, max_depth, n_estimators.\n",
    "- Among the best results:\n",
    "    - 75.45% (train) vs 73.23% (val): nn = 10, colsample_bytree=1, gamma=0, learning_rate=0.05, max_depth=1, n_estimators=250, subsample=1"
   ]
  },
  {
   "cell_type": "markdown",
   "id": "0f780a18-a6d8-47a3-ad61-4f7b5444e3f4",
   "metadata": {
    "jp-MarkdownHeadingCollapsed": true,
    "tags": []
   },
   "source": [
    "### Model 2 - Random Forest Regressor"
   ]
  },
  {
   "cell_type": "code",
   "execution_count": 119,
   "id": "fb637a29-26ae-4c5c-b479-9cda72c0f202",
   "metadata": {
    "tags": []
   },
   "outputs": [],
   "source": [
    "from sklearn.ensemble import RandomForestRegressor"
   ]
  },
  {
   "cell_type": "code",
   "execution_count": 124,
   "id": "a1763b05-b04f-467d-87f4-316127978912",
   "metadata": {
    "tags": []
   },
   "outputs": [
    {
     "name": "stderr",
     "output_type": "stream",
     "text": [
      "100%|████████████████████████████████████████████████████████████████████████████████| 100/100 [09:57<00:00,  5.98s/it]\n",
      "100%|████████████████████████████████████████████████████████████████████████| 212908/212908 [01:01<00:00, 3486.74it/s]\n"
     ]
    },
    {
     "name": "stdout",
     "output_type": "stream",
     "text": [
      "0.7914610976279789\n"
     ]
    },
    {
     "name": "stderr",
     "output_type": "stream",
     "text": [
      "100%|█████████████████████████████████████████████████████████████████████████| 54192/54192 [00:04<00:00, 13310.56it/s]"
     ]
    },
    {
     "name": "stdout",
     "output_type": "stream",
     "text": [
      "0.731843853155527\n"
     ]
    },
    {
     "name": "stderr",
     "output_type": "stream",
     "text": [
      "\n"
     ]
    }
   ],
   "source": [
    "features = DF_fake_train.columns\n",
    "corr = DF_fake_train.corr().loc[init_ret_features1, target_ret_features] # Compute Correlation between X and Y features \n",
    "nn = 20\n",
    "\n",
    "pred_train = pd.DataFrame()\n",
    "pred_train['RET_139'] = DF_fake_train['RET_139']\n",
    "pred_train['RET_139'] = 0 # MAKE SURE YOU HAVE THE RIGHT INDICES\n",
    "\n",
    "pred_test = pd.DataFrame()\n",
    "pred_test['RET_216'] = DF_fake_test['RET_216']\n",
    "pred_test['RET_216'] = 0 # MAKE SURE YOU HAVE THE RIGHT INDICES\n",
    "\n",
    "# coeffs = {}\n",
    "\n",
    "reg = RandomForestRegressor(max_depth=5, random_state=0, n_estimators = 200) \n",
    "\n",
    "for id_target in tqdm(target_ret_features): # for every Y feature\n",
    "    c = corr[id_target]\n",
    "    ids_max = c.abs().sort_values(ascending=False)[:nn].index.to_numpy() # pick nn MAX correlations with some X feature    \n",
    "    j = int(id_target.replace('RET_', ''))\n",
    "    \n",
    "    reg.fit(DF_fake_train[ids_max], DF_fake_train[id_target])\n",
    "    pred_train[id_target] = reg.predict(DF_fake_train[ids_max])\n",
    "    pred_test[id_target] = reg.predict(DF_fake_test[ids_max])\n",
    "\n",
    "    \n",
    "final_train = np.array([])\n",
    "\n",
    "for idx in tqdm(X_fake_train['ID']):\n",
    "    j = 'RET_'+str(int(X_fake_train['ID_TARGET'][idx]))\n",
    "    day = int(X_fake_train['ID_DAY'][idx])\n",
    "    final_train = np.append(final_train, np.array([int(np.sign(pred_train[j].loc[day]))]))\n",
    "    \n",
    "print(weighted_accuracy(Y_fake_train['RET_TARGET'].to_numpy(), final_train))\n",
    "\n",
    "final_test = np.array([])\n",
    "\n",
    "for idx in tqdm(X_fake_test['ID']):\n",
    "    j = 'RET_'+str(int(X_fake_test['ID_TARGET'][idx]))\n",
    "    day = int(X_fake_test['ID_DAY'][idx])\n",
    "    final_test = np.append(final_test, np.array([int(np.sign(pred_test[j].loc[day]))]))\n",
    "    \n",
    "print(weighted_accuracy(Y_fake_test['RET_TARGET'].to_numpy(), final_test))"
   ]
  },
  {
   "cell_type": "code",
   "execution_count": null,
   "id": "6673c4e3-0bf0-4905-a12b-783876cf27f3",
   "metadata": {},
   "outputs": [],
   "source": [
    "- 79.1% vs 73.2%: nn = 20, max_depth=5\n",
    "- 79.1% vs 73.18%: nn = 20, max_depth=5, n_estimators = 200"
   ]
  },
  {
   "cell_type": "markdown",
   "id": "51eca995-e9bb-44d6-a921-12b79f41287a",
   "metadata": {
    "tags": []
   },
   "source": [
    "### Model 3 - Linear Regression with regularization"
   ]
  },
  {
   "cell_type": "code",
   "execution_count": 162,
   "id": "a71ccf37-1677-436f-912b-a3bcf6640df1",
   "metadata": {
    "tags": []
   },
   "outputs": [
    {
     "name": "stderr",
     "output_type": "stream",
     "text": [
      "100%|███████████████████████████████████████████████████████████████████████████████| 100/100 [00:00<00:00, 121.21it/s]\n",
      "100%|████████████████████████████████████████████████████████████████████████| 212908/212908 [00:40<00:00, 5252.82it/s]\n",
      "100%|█████████████████████████████████████████████████████████████████████████| 54192/54192 [00:02<00:00, 20385.95it/s]"
     ]
    },
    {
     "name": "stdout",
     "output_type": "stream",
     "text": [
      "alpha:  1e-05 , l1_ratio:  0.5  --  73.54262777938567 % vs  73.48600816672116 %\n"
     ]
    },
    {
     "name": "stderr",
     "output_type": "stream",
     "text": [
      "\n"
     ]
    }
   ],
   "source": [
    "features = DF_fake_train.columns\n",
    "corr = DF_fake_train.corr().loc[init_ret_features1, target_ret_features] # Compute Correlation between X and Y features \n",
    "nn = 10\n",
    "\n",
    "pred_train = pd.DataFrame()\n",
    "pred_train['RET_139'] = DF_fake_train['RET_139']\n",
    "pred_train['RET_139'] = 0 # MAKE SURE YOU HAVE THE RIGHT INDICES\n",
    "\n",
    "pred_test = pd.DataFrame()\n",
    "pred_test['RET_216'] = DF_fake_test['RET_216']\n",
    "pred_test['RET_216'] = 0 # MAKE SURE YOU HAVE THE RIGHT INDICES\n",
    "\n",
    "\n",
    "# l1_ratio values between 0 and 1 with a 0.1 or 0.01\n",
    "# alpha: [1e-5, 1e-4, 1e-3, 1e-2, 1e-1, 0.0, 1.0, 10.0, 100.0]\n",
    "\n",
    "# Manual grid search :)\n",
    "\n",
    "for alpha, l1_ratio in [(1e-5, 0.5)]:#(1e-5, 0), (1e-5, 0.1), (1e-5, 0.5)]:\n",
    "    \n",
    "    reg = ElasticNet(alpha=alpha, l1_ratio= l1_ratio)\n",
    "\n",
    "    for id_target in tqdm(target_ret_features): # for every Y feature\n",
    "        c = corr[id_target]\n",
    "        ids_max = c.abs().sort_values(ascending=False)[:nn].index.to_numpy() # pick nn MAX correlations with some X feature    \n",
    "        j = int(id_target.replace('RET_', ''))\n",
    "\n",
    "        reg.fit(DF_fake_train[ids_max], DF_fake_train[id_target])\n",
    "        pred_train[id_target] = reg.predict(DF_fake_train[ids_max])\n",
    "        pred_test[id_target] = reg.predict(DF_fake_test[ids_max])\n",
    "\n",
    "\n",
    "    final_train = np.array([])\n",
    "    final_test = np.array([])\n",
    "\n",
    "    for idx in tqdm(X_fake_train['ID']):\n",
    "        j = 'RET_'+str(int(X_fake_train['ID_TARGET'][idx]))\n",
    "        day = int(X_fake_train['ID_DAY'][idx])\n",
    "        final_train = np.append(final_train, np.array([int(np.sign(pred_train[j].loc[day]))]))\n",
    "\n",
    "    for idx in tqdm(X_fake_test['ID']):\n",
    "        j = 'RET_'+str(int(X_fake_test['ID_TARGET'][idx]))\n",
    "        day = int(X_fake_test['ID_DAY'][idx])\n",
    "        final_test = np.append(final_test, np.array([int(np.sign(pred_test[j].loc[day]))]))\n",
    "\n",
    "    print('alpha: ', alpha,', l1_ratio: ', l1_ratio,' -- ', \n",
    "        100*weighted_accuracy(Y_fake_train['RET_TARGET'].to_numpy(), final_train),'% vs ',\n",
    "        100*weighted_accuracy(Y_fake_test['RET_TARGET'].to_numpy(), final_test),'%')\n",
    "    "
   ]
  },
  {
   "cell_type": "markdown",
   "id": "47bbc59b-9220-4064-b538-cc4e24e045a1",
   "metadata": {},
   "source": [
    "Results for nn = 40:\n",
    "- alpha:  1e-05 , l1_ratio:  0.5  --  75.09994531590345 % vs  73.67193770407103 %\n"
   ]
  },
  {
   "cell_type": "markdown",
   "id": "7f0cd8a5-f575-47de-96cd-ec21e8215173",
   "metadata": {},
   "source": [
    "- Try: nn = 40, alpha:  1e-05 , l1_ratio:  0.5 on all data."
   ]
  },
  {
   "cell_type": "code",
   "execution_count": 148,
   "id": "38938da9-6086-4820-9c2f-52545d49fd7f",
   "metadata": {
    "tags": []
   },
   "outputs": [
    {
     "name": "stderr",
     "output_type": "stream",
     "text": [
      "100%|████████████████████████████████████████████████████████████████████████████████| 100/100 [00:03<00:00, 27.28it/s]\n"
     ]
    }
   ],
   "source": [
    "features = DF_NEW.columns\n",
    "corr = DF_NEW.corr().loc[init_ret_features1, target_ret_features] # Compute Correlation between X and Y features \n",
    "nn = 40\n",
    "\n",
    "pred_train = pd.DataFrame()\n",
    "pred_train['RET_139'] = DF_NEW['RET_139']\n",
    "pred_train['RET_139'] = 0 # MAKE SURE YOU HAVE THE RIGHT INDICES\n",
    "\n",
    "pred_test = pd.DataFrame()\n",
    "pred_test['RET_216'] = DF_NEW_test['RET_216']\n",
    "pred_test['RET_216'] = 0 # MAKE SURE YOU HAVE THE RIGHT INDICES\n",
    "\n",
    "# coeffs = {}\n",
    "\n",
    "reg = ElasticNet(alpha=1e-5, l1_ratio= 0.5)\n",
    "\n",
    "for id_target in tqdm(target_ret_features): # for every Y feature\n",
    "    c = corr[id_target]\n",
    "    ids_max = c.abs().sort_values(ascending=False)[:nn].index.to_numpy() # pick nn MAX correlations with some X feature    \n",
    "    j = int(id_target.replace('RET_', ''))\n",
    "    \n",
    "    reg.fit(DF_NEW[ids_max], DF_NEW[id_target])\n",
    "    pred_train[id_target] = reg.predict(DF_NEW[ids_max])\n",
    "    pred_test[id_target] = reg.predict(DF_NEW_test[ids_max])\n"
   ]
  },
  {
   "cell_type": "code",
   "execution_count": 149,
   "id": "da519c94-f622-4dc5-8815-cbfe109ee1d5",
   "metadata": {
    "tags": []
   },
   "outputs": [
    {
     "name": "stderr",
     "output_type": "stream",
     "text": [
      "100%|████████████████████████████████████████████████████████████████████████| 267100/267100 [01:28<00:00, 3015.32it/s]\n"
     ]
    },
    {
     "data": {
      "text/plain": [
       "0.7506260082626605"
      ]
     },
     "execution_count": 149,
     "metadata": {},
     "output_type": "execute_result"
    }
   ],
   "source": [
    "final_train = np.array([])\n",
    "\n",
    "for idx in tqdm(X_train['ID']):\n",
    "    j = 'RET_'+str(int(X_train['ID_TARGET'][idx]))\n",
    "    day = int(X_train['ID_DAY'][idx])\n",
    "    final_train = np.append(final_train, np.array([int(np.sign(pred_train[j].loc[day]))]))\n",
    "    \n",
    "weighted_accuracy(Y_train['RET_TARGET'].to_numpy(), final_train)"
   ]
  },
  {
   "cell_type": "code",
   "execution_count": 154,
   "id": "069a6df2-ec24-4df1-85db-cca6f0979c26",
   "metadata": {
    "tags": []
   },
   "outputs": [
    {
     "name": "stderr",
     "output_type": "stream",
     "text": [
      "114468it [00:16, 6812.54it/s]\n"
     ]
    },
    {
     "name": "stdout",
     "output_type": "stream",
     "text": [
      "[114468, 114468]\n"
     ]
    }
   ],
   "source": [
    "final_test = np.array([])\n",
    "\n",
    "for idx, row in tqdm(X_test.iterrows()):\n",
    "    j = 'RET_'+str(int(row['ID_TARGET']))\n",
    "    day = int(row['ID_DAY'])\n",
    "    final_test = np.append(final_test, np.array([int(np.sign(pred_test[j].loc[day]))]))\n",
    "    \n",
    "final_test = final_test.astype(int)\n",
    "id_test = np.arange(267100, 381568, 1)\n",
    "print([final_test.size,id_test.size])\n",
    "\n",
    "Y_test = pd.DataFrame()\n",
    "Y_test['ID'] = id_test\n",
    "Y_test['RET_TARGET'] = final_test\n",
    "\n",
    "Y_test.to_csv('ver_elastic_net.csv',  index=False)"
   ]
  },
  {
   "cell_type": "code",
   "execution_count": null,
   "id": "ed290dc6-aebb-474c-9da9-aa70add6e069",
   "metadata": {},
   "outputs": [],
   "source": []
  },
  {
   "cell_type": "code",
   "execution_count": null,
   "id": "6977f95d-89be-49f2-b358-1c6f05015f7e",
   "metadata": {},
   "outputs": [],
   "source": []
  },
  {
   "cell_type": "code",
   "execution_count": null,
   "id": "015b9bd1-8598-43ec-978c-00098c7a5e4a",
   "metadata": {},
   "outputs": [],
   "source": []
  },
  {
   "cell_type": "markdown",
   "id": "ffd05223-c2fc-4193-95c9-76f9d57eca45",
   "metadata": {
    "jp-MarkdownHeadingCollapsed": true,
    "tags": []
   },
   "source": [
    "# K-means clustering\n",
    "\n",
    "- Can we create more features?"
   ]
  },
  {
   "cell_type": "code",
   "execution_count": 163,
   "id": "15cca8a9-dc8f-4835-ac58-77eb9d3fada7",
   "metadata": {
    "tags": []
   },
   "outputs": [],
   "source": [
    "from sklearn.cluster import KMeans"
   ]
  },
  {
   "cell_type": "code",
   "execution_count": 181,
   "id": "2aac2c45-85d7-4b1e-87dc-fe3e70ed1574",
   "metadata": {
    "tags": []
   },
   "outputs": [],
   "source": [
    "def calculate_WSS(points, kmax):\n",
    "    sse = []\n",
    "    for k in range(1,kmax):\n",
    "        kmeans = KMeans(n_clusters = k).fit(points)\n",
    "        centroids = kmeans.cluster_centers_\n",
    "        pred_clusters = kmeans.predict(points)\n",
    "        curr_sse = 0\n",
    "        \n",
    "        for i in range(len(points)):\n",
    "            curr_center = centroids[pred_clusters[i]]\n",
    "            curr_sse += sum((points.iloc[i] - curr_center)**2)\n",
    "        sse.append(curr_sse)\n",
    "    return sse"
   ]
  },
  {
   "cell_type": "code",
   "execution_count": 182,
   "id": "306a4dc8-b12c-48f3-b1fc-367fa2e36530",
   "metadata": {
    "tags": []
   },
   "outputs": [
    {
     "data": {
      "text/plain": [
       "[<matplotlib.lines.Line2D at 0x25ad7e3ccd0>]"
      ]
     },
     "execution_count": 182,
     "metadata": {},
     "output_type": "execute_result"
    },
    {
     "data": {
      "image/png": "[encoded data removed]",
      "text/plain": [
       "<Figure size 640x480 with 1 Axes>"
      ]
     },
     "metadata": {},
     "output_type": "display_data"
    }
   ],
   "source": [
    "s0 = calculate_WSS(DF_fake_train[init_ret_features], 15)\n",
    "plt.plot([k for k in range(1,15)], s0)"
   ]
  },
  {
   "cell_type": "markdown",
   "id": "9ed7b5aa-6fc7-423e-9410-6f1909ec3fea",
   "metadata": {},
   "source": [
    "- The best value of k is found using the 'elbow method'.\n",
    "- Here, however, it is a bit subjective. Let's try k = 6."
   ]
  },
  {
   "cell_type": "code",
   "execution_count": 198,
   "id": "e9648566-5b14-4707-b89a-e81b339a62b5",
   "metadata": {
    "tags": []
   },
   "outputs": [],
   "source": [
    "n_clusters = 6\n",
    "kmeans = KMeans(n_clusters = n_clusters).fit(DF_fake_train[init_ret_features])\n",
    "\n",
    "n_clusters += 1\n",
    "DF_fake_train['Clusters'] = (1 + kmeans.predict(DF_fake_train[init_ret_features]))/(n_clusters*10)\n",
    "DF_fake_test['Clusters'] = (1 + kmeans.predict(DF_fake_test[init_ret_features]))/(n_clusters*10)"
   ]
  },
  {
   "cell_type": "code",
   "execution_count": 200,
   "id": "3430e2d2-8ef5-4a01-86f2-7d2a4d12afa6",
   "metadata": {
    "tags": []
   },
   "outputs": [
    {
     "name": "stderr",
     "output_type": "stream",
     "text": [
      "100%|███████████████████████████████████████████████████████████████████████████████| 100/100 [00:00<00:00, 114.13it/s]\n",
      "100%|████████████████████████████████████████████████████████████████████████| 212908/212908 [00:46<00:00, 4608.30it/s]\n",
      "100%|█████████████████████████████████████████████████████████████████████████| 54192/54192 [00:03<00:00, 17834.70it/s]"
     ]
    },
    {
     "name": "stdout",
     "output_type": "stream",
     "text": [
      "alpha:  1e-05 , l1_ratio:  0.5  --  74.1976721840863 % vs  73.48609070071792 %\n"
     ]
    },
    {
     "name": "stderr",
     "output_type": "stream",
     "text": [
      "\n"
     ]
    }
   ],
   "source": [
    "features = DF_fake_train.columns\n",
    "init_ret_features2 = np.append(init_ret_features1, np.array(['Clusters']))\n",
    "corr = DF_fake_train.corr().loc[init_ret_features2, target_ret_features] # Compute Correlation between X and Y features \n",
    "nn = 10\n",
    "\n",
    "pred_train = pd.DataFrame()\n",
    "pred_train['RET_139'] = DF_fake_train['RET_139']\n",
    "pred_train['RET_139'] = 0 # MAKE SURE YOU HAVE THE RIGHT INDICES\n",
    "\n",
    "pred_test = pd.DataFrame()\n",
    "pred_test['RET_216'] = DF_fake_test['RET_216']\n",
    "pred_test['RET_216'] = 0 # MAKE SURE YOU HAVE THE RIGHT INDICES\n",
    "\n",
    "\n",
    "for alpha, l1_ratio in [(1e-5, 0.5)]:#(1e-5, 0), (1e-5, 0.1), (1e-5, 0.5)]:\n",
    "    \n",
    "    reg = ElasticNet(alpha=alpha, l1_ratio= l1_ratio)\n",
    "\n",
    "    for id_target in tqdm(target_ret_features): # for every Y feature\n",
    "        c = corr[id_target]\n",
    "        ids_max = c.abs().sort_values(ascending=False)[:nn].index.to_numpy() # pick nn MAX correlations with some X feature    \n",
    "        j = int(id_target.replace('RET_', ''))\n",
    "\n",
    "        reg.fit(DF_fake_train[ids_max], DF_fake_train[id_target])\n",
    "        pred_train[id_target] = reg.predict(DF_fake_train[ids_max])\n",
    "        pred_test[id_target] = reg.predict(DF_fake_test[ids_max])\n",
    "\n",
    "\n",
    "    final_train = np.array([])\n",
    "    final_test = np.array([])\n",
    "\n",
    "    for idx in tqdm(X_fake_train['ID']):\n",
    "        j = 'RET_'+str(int(X_fake_train['ID_TARGET'][idx]))\n",
    "        day = int(X_fake_train['ID_DAY'][idx])\n",
    "        final_train = np.append(final_train, np.array([int(np.sign(pred_train[j].loc[day]))]))\n",
    "\n",
    "    for idx in tqdm(X_fake_test['ID']):\n",
    "        j = 'RET_'+str(int(X_fake_test['ID_TARGET'][idx]))\n",
    "        day = int(X_fake_test['ID_DAY'][idx])\n",
    "        final_test = np.append(final_test, np.array([int(np.sign(pred_test[j].loc[day]))]))\n",
    "\n",
    "    print('alpha: ', alpha,', l1_ratio: ', l1_ratio,' -- ', \n",
    "        100*weighted_accuracy(Y_fake_train['RET_TARGET'].to_numpy(), final_train),'% vs ',\n",
    "        100*weighted_accuracy(Y_fake_test['RET_TARGET'].to_numpy(), final_test),'%')\n",
    "    "
   ]
  },
  {
   "cell_type": "code",
   "execution_count": null,
   "id": "c21d18cf-71f9-40d0-bf78-a7b0071af854",
   "metadata": {},
   "outputs": [],
   "source": []
  },
  {
   "cell_type": "markdown",
   "id": "d75b6ce9-eed8-48f6-b36d-44d0f334b7fb",
   "metadata": {},
   "source": [
    "# Binary Classifiers\n",
    "\n",
    "- The outcome that we want is, in fact, binary. So let us try to use some binary classifiers, to see how they perform."
   ]
  },
  {
   "cell_type": "code",
   "execution_count": 201,
   "id": "165771e7-17d4-47b1-a079-7bcf75f3ca90",
   "metadata": {
    "tags": []
   },
   "outputs": [],
   "source": [
    "DF_fake_train1 = DF_fake_train.copy()\n",
    "DF_fake_test1 = DF_fake_test.copy()\n",
    "\n",
    "DF_fake_train1[target_ret_features] = np.sign(DF_fake_train1[target_ret_features])\n",
    "DF_fake_test1[target_ret_features] = np.sign(DF_fake_test1[target_ret_features])"
   ]
  },
  {
   "cell_type": "markdown",
   "id": "a01c7a9f-7ef8-4be6-8960-b0cc1b0987ee",
   "metadata": {
    "tags": []
   },
   "source": [
    "### Logistic Regression"
   ]
  },
  {
   "cell_type": "code",
   "execution_count": null,
   "id": "2f506a9f-7768-44a7-bc5d-77d5fbd707dc",
   "metadata": {},
   "outputs": [],
   "source": [
    "from sklearn.linear_model import LogisticRegression"
   ]
  },
  {
   "cell_type": "code",
   "execution_count": 214,
   "id": "8914428b-3a23-4416-b249-4efd15792ce7",
   "metadata": {
    "tags": []
   },
   "outputs": [
    {
     "name": "stderr",
     "output_type": "stream",
     "text": [
      "100%|████████████████████████████████████████████████████████████████████████████████| 100/100 [00:03<00:00, 27.64it/s]\n",
      "100%|████████████████████████████████████████████████████████████████████████| 212908/212908 [00:49<00:00, 4339.30it/s]\n",
      "100%|█████████████████████████████████████████████████████████████████████████| 54192/54192 [00:02<00:00, 22196.14it/s]\n"
     ]
    },
    {
     "name": "stdout",
     "output_type": "stream",
     "text": [
      "alpha:  1 , l1_ratio:  0.3  --  72.56967684393483 % vs  71.39784050311077 %\n"
     ]
    },
    {
     "name": "stderr",
     "output_type": "stream",
     "text": [
      "100%|████████████████████████████████████████████████████████████████████████████████| 100/100 [00:15<00:00,  6.28it/s]\n",
      "100%|████████████████████████████████████████████████████████████████████████| 212908/212908 [00:46<00:00, 4616.22it/s]\n",
      "100%|█████████████████████████████████████████████████████████████████████████| 54192/54192 [00:02<00:00, 22513.94it/s]\n"
     ]
    },
    {
     "name": "stdout",
     "output_type": "stream",
     "text": [
      "alpha:  10 , l1_ratio:  0.8  --  74.01313294687671 % vs  72.84036643662344 %\n"
     ]
    },
    {
     "name": "stderr",
     "output_type": "stream",
     "text": [
      "100%|████████████████████████████████████████████████████████████████████████████████| 100/100 [00:16<00:00,  5.91it/s]\n",
      "100%|████████████████████████████████████████████████████████████████████████| 212908/212908 [00:46<00:00, 4595.26it/s]\n",
      "100%|█████████████████████████████████████████████████████████████████████████| 54192/54192 [00:02<00:00, 20640.29it/s]"
     ]
    },
    {
     "name": "stdout",
     "output_type": "stream",
     "text": [
      "alpha:  100 , l1_ratio:  0.8  --  74.0968860645923 % vs  72.84732985986345 %\n"
     ]
    },
    {
     "name": "stderr",
     "output_type": "stream",
     "text": [
      "\n"
     ]
    }
   ],
   "source": [
    "features = DF_fake_train1.columns\n",
    "corr = DF_fake_train1.corr().loc[init_ret_features2, target_ret_features] # Compute Correlation between X and Y features \n",
    "nn = 40\n",
    "\n",
    "pred_train = pd.DataFrame()\n",
    "pred_train['RET_139'] = DF_fake_train['RET_139']\n",
    "pred_train['RET_139'] = 0 # MAKE SURE YOU HAVE THE RIGHT INDICES\n",
    "\n",
    "pred_test = pd.DataFrame()\n",
    "pred_test['RET_216'] = DF_fake_test['RET_216']\n",
    "pred_test['RET_216'] = 0 # MAKE SURE YOU HAVE THE RIGHT INDICES\n",
    "\n",
    "\n",
    "for alpha, l1_ratio in [(1, 0.3), (10,0.8), (100,0.8)]:#(1e-5, 0), (1e-5, 0.1), (1e-5, 0.5)]:\n",
    "    \n",
    "    reg = LogisticRegression(penalty = 'elasticnet', solver = 'saga', C = alpha, l1_ratio = l1_ratio)\n",
    "\n",
    "    for id_target in tqdm(target_ret_features): # for every Y feature\n",
    "        c = corr[id_target]\n",
    "        ids_max = c.abs().sort_values(ascending=False)[:nn].index.to_numpy() # pick nn MAX correlations with some X feature    \n",
    "        j = int(id_target.replace('RET_', ''))\n",
    "\n",
    "        reg.fit(DF_fake_train1[ids_max], DF_fake_train1[id_target])\n",
    "        pred_train[id_target] = reg.predict(DF_fake_train1[ids_max])\n",
    "        pred_test[id_target] = reg.predict(DF_fake_test1[ids_max])\n",
    "\n",
    "\n",
    "    final_train = np.array([])\n",
    "    final_test = np.array([])\n",
    "\n",
    "    for idx in tqdm(X_fake_train['ID']):\n",
    "        j = 'RET_'+str(int(X_fake_train['ID_TARGET'][idx]))\n",
    "        day = int(X_fake_train['ID_DAY'][idx])\n",
    "        final_train = np.append(final_train, np.array([int(pred_train[j].loc[day])]))\n",
    "\n",
    "    for idx in tqdm(X_fake_test['ID']):\n",
    "        j = 'RET_'+str(int(X_fake_test['ID_TARGET'][idx]))\n",
    "        day = int(X_fake_test['ID_DAY'][idx])\n",
    "        final_test = np.append(final_test, np.array([int(pred_test[j].loc[day])]))\n",
    "\n",
    "    print('alpha: ', alpha,', l1_ratio: ', l1_ratio,' -- ', \n",
    "        100*weighted_accuracy(Y_fake_train['RET_TARGET'].to_numpy(), final_train),'% vs ',\n",
    "        100*weighted_accuracy(Y_fake_test['RET_TARGET'].to_numpy(), final_test),'%')\n",
    "    "
   ]
  },
  {
   "cell_type": "markdown",
   "id": "9397444a-9534-497d-85df-1cd6bdbcd054",
   "metadata": {},
   "source": [
    "- Grid search:     \n",
    "    - nn=10 and (100,0.8): 73.19889388975291 % vs  72.84294313564664 %\n",
    "    "
   ]
  },
  {
   "cell_type": "markdown",
   "id": "c85b55a9-b2e8-4fab-b7a1-82c2bed5ead1",
   "metadata": {
    "jp-MarkdownHeadingCollapsed": true,
    "tags": []
   },
   "source": [
    "### Random Forest Classifier"
   ]
  },
  {
   "cell_type": "code",
   "execution_count": 215,
   "id": "bf04c4f0-483c-4fdc-81d0-0cb3615acb69",
   "metadata": {
    "tags": []
   },
   "outputs": [],
   "source": [
    "from sklearn.ensemble import RandomForestClassifier"
   ]
  },
  {
   "cell_type": "code",
   "execution_count": 224,
   "id": "40fc7eae-3936-476e-bf3d-e3cb52af8965",
   "metadata": {
    "tags": []
   },
   "outputs": [
    {
     "name": "stderr",
     "output_type": "stream",
     "text": [
      "100%|████████████████████████████████████████████████████████████████████████████████| 100/100 [04:40<00:00,  2.81s/it]\n",
      "100%|████████████████████████████████████████████████████████████████████████| 212908/212908 [00:46<00:00, 4583.95it/s]\n",
      "100%|█████████████████████████████████████████████████████████████████████████| 54192/54192 [00:02<00:00, 22525.96it/s]"
     ]
    },
    {
     "name": "stdout",
     "output_type": "stream",
     "text": [
      "n_est:  450 , max_depth:  3  --  75.16017763484876 % vs  72.82295198879748 %\n"
     ]
    },
    {
     "name": "stderr",
     "output_type": "stream",
     "text": [
      "\n"
     ]
    }
   ],
   "source": [
    "features = DF_fake_train1.columns\n",
    "corr = DF_fake_train1.corr().loc[init_ret_features2, target_ret_features] # Compute Correlation between X and Y features \n",
    "nn = 40\n",
    "\n",
    "pred_train = pd.DataFrame()\n",
    "pred_train['RET_139'] = DF_fake_train['RET_139']\n",
    "pred_train['RET_139'] = 0 # MAKE SURE YOU HAVE THE RIGHT INDICES\n",
    "\n",
    "pred_test = pd.DataFrame()\n",
    "pred_test['RET_216'] = DF_fake_test['RET_216']\n",
    "pred_test['RET_216'] = 0 # MAKE SURE YOU HAVE THE RIGHT INDICES\n",
    "\n",
    "\n",
    "for n_estimators, max_depth, ccp_alpha in [(450, 3, 0)]:#(1e-5, 0), (1e-5, 0.1), (1e-5, 0.5)]:\n",
    "    \n",
    "    reg = RandomForestClassifier(n_estimators = n_estimators, max_depth = max_depth, ccp_alpha = ccp_alpha) #ccp_alpha\n",
    "\n",
    "    for id_target in tqdm(target_ret_features): # for every Y feature\n",
    "        c = corr[id_target]\n",
    "        ids_max = c.abs().sort_values(ascending=False)[:nn].index.to_numpy() # pick nn MAX correlations with some X feature    \n",
    "        j = int(id_target.replace('RET_', ''))\n",
    "\n",
    "        reg.fit(DF_fake_train1[ids_max], DF_fake_train1[id_target])\n",
    "        pred_train[id_target] = reg.predict(DF_fake_train1[ids_max])\n",
    "        pred_test[id_target] = reg.predict(DF_fake_test1[ids_max])\n",
    "\n",
    "\n",
    "    final_train = np.array([])\n",
    "    final_test = np.array([])\n",
    "\n",
    "    for idx in tqdm(X_fake_train['ID']):\n",
    "        j = 'RET_'+str(int(X_fake_train['ID_TARGET'][idx]))\n",
    "        day = int(X_fake_train['ID_DAY'][idx])\n",
    "        final_train = np.append(final_train, np.array([int(pred_train[j].loc[day])]))\n",
    "\n",
    "    for idx in tqdm(X_fake_test['ID']):\n",
    "        j = 'RET_'+str(int(X_fake_test['ID_TARGET'][idx]))\n",
    "        day = int(X_fake_test['ID_DAY'][idx])\n",
    "        final_test = np.append(final_test, np.array([int(pred_test[j].loc[day])]))\n",
    "\n",
    "    print('n_est: ', n_estimators,', max_depth: ', max_depth,' -- ', \n",
    "        100*weighted_accuracy(Y_fake_train['RET_TARGET'].to_numpy(), final_train),'% vs ',\n",
    "        100*weighted_accuracy(Y_fake_test['RET_TARGET'].to_numpy(), final_test),'%')\n",
    "    "
   ]
  },
  {
   "cell_type": "markdown",
   "id": "c750cd2a-5f4b-438d-8013-eeff6056223d",
   "metadata": {},
   "source": [
    "- For nn = 20:\n",
    "    - (250, 4): 76.5318428193584 % vs  72.91346860932181 %\n",
    "    - (250, 3): 74.89641778199525 % vs  72.74284884830517\n",
    "\n"
   ]
  }
 ],
 "metadata": {
  "kernelspec": {
   "display_name": "Python 3 (ipykernel)",
   "language": "python",
   "name": "python3"
  },
  "language_info": {
   "codemirror_mode": {
    "name": "ipython",
    "version": 3
   },
   "file_extension": ".py",
   "mimetype": "text/x-python",
   "name": "python",
   "nbconvert_exporter": "python",
   "pygments_lexer": "ipython3",
   "version": "3.11.3"
  }
 },
 "nbformat": 4,
 "nbformat_minor": 5
}
